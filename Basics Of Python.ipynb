{
 "cells": [
  {
   "cell_type": "code",
   "execution_count": 1,
   "id": "cea86bd1-ea4f-4d48-8796-2247afd22acf",
   "metadata": {},
   "outputs": [
    {
     "name": "stdout",
     "output_type": "stream",
     "text": [
      "hello world\n"
     ]
    }
   ],
   "source": [
    "print(\"hello world\")"
   ]
  },
  {
   "cell_type": "code",
   "execution_count": 2,
   "id": "5e5ff8a5-0b16-467b-95b0-7c596dc5007a",
   "metadata": {},
   "outputs": [
    {
     "name": "stdout",
     "output_type": "stream",
     "text": [
      "hello world\n"
     ]
    }
   ],
   "source": [
    "print('hello world')"
   ]
  },
  {
   "cell_type": "markdown",
   "id": "14430554-9f05-43f1-832d-ca84cee0a8a6",
   "metadata": {},
   "source": [
    "# Datatypes in python"
   ]
  },
  {
   "cell_type": "markdown",
   "id": "fe097191-829f-4bf1-9fa3-73c9a70f4e1f",
   "metadata": {},
   "source": [
    "<ul style=color:red>\n",
    "    <li>Number :-- 5,4,5.5,5+5j</li>\n",
    "    <li>String :-- \"Python\" , \"ajay\" , \"AJAY\", \"jayesh\", 'single bhi wahi kam krega' </li>\n",
    "    <li>Tuple :-- (1,2,3,4,5,6) (Immutable)</li>\n",
    "    <li>List :-- [1,2,3,4,5,6],['jayesh','sachin','ajay','shikha','radhika']</li> # list can be hetrogenous and homogenous\n",
    "    <li>Dictionary :-- {\"key\":\"value\",1:'ajay',2:'jayesh','jayesh':'sisodiya'}</li>\n",
    "    <li>set :-- {1,2,3,4,5}</li> #set have only unique values that's it\n",
    "</ul>"
   ]
  },
  {
   "cell_type": "markdown",
   "id": "d8ab7f80-0fbd-4467-a8c3-a1cbded21f92",
   "metadata": {},
   "source": [
    "## Numbers "
   ]
  },
  {
   "cell_type": "code",
   "execution_count": 6,
   "id": "d01bb7c8-61e2-47d2-adf2-be680a88f0d0",
   "metadata": {},
   "outputs": [],
   "source": [
    "a = 5"
   ]
  },
  {
   "cell_type": "code",
   "execution_count": 7,
   "id": "1246857b-0108-47f1-aebe-e982163adfdb",
   "metadata": {},
   "outputs": [
    {
     "name": "stdout",
     "output_type": "stream",
     "text": [
      "5\n"
     ]
    }
   ],
   "source": [
    "print(a)"
   ]
  },
  {
   "cell_type": "code",
   "execution_count": 8,
   "id": "8d295711-99be-4776-ac41-2d95a2c8ec4b",
   "metadata": {},
   "outputs": [
    {
     "name": "stdout",
     "output_type": "stream",
     "text": [
      "5.5 <class 'float'>\n"
     ]
    }
   ],
   "source": [
    "b = 5.5 \n",
    "print(b,type(b))"
   ]
  },
  {
   "cell_type": "code",
   "execution_count": 9,
   "id": "a34a40e3-2d4d-41cd-aa9e-66dd7a1f7076",
   "metadata": {},
   "outputs": [
    {
     "name": "stdout",
     "output_type": "stream",
     "text": [
      "<class 'int'>\n"
     ]
    }
   ],
   "source": [
    "print(type(a))"
   ]
  },
  {
   "cell_type": "code",
   "execution_count": 10,
   "id": "d0373671-e380-4470-b08d-ef0e08f0d788",
   "metadata": {},
   "outputs": [
    {
     "data": {
      "text/plain": [
       "4342275984"
      ]
     },
     "execution_count": 10,
     "metadata": {},
     "output_type": "execute_result"
    }
   ],
   "source": [
    "id(a)"
   ]
  },
  {
   "cell_type": "code",
   "execution_count": 11,
   "id": "4254526e-9851-4e16-8f4b-b7480866de78",
   "metadata": {},
   "outputs": [
    {
     "name": "stdout",
     "output_type": "stream",
     "text": [
      "(5+8j)\n",
      "<class 'complex'>\n",
      "4753648080\n"
     ]
    }
   ],
   "source": [
    "c = 5+8j\n",
    "print(c)\n",
    "print(type(c))\n",
    "print(id(c))"
   ]
  },
  {
   "cell_type": "code",
   "execution_count": 12,
   "id": "9e924efb-cb52-4372-a7e7-27950ffbb00e",
   "metadata": {},
   "outputs": [
    {
     "name": "stdout",
     "output_type": "stream",
     "text": [
      "['ArithmeticError', 'AssertionError', 'AttributeError', 'BaseException', 'BaseExceptionGroup', 'BlockingIOError', 'BrokenPipeError', 'BufferError', 'BytesWarning', 'ChildProcessError', 'ConnectionAbortedError', 'ConnectionError', 'ConnectionRefusedError', 'ConnectionResetError', 'DeprecationWarning', 'EOFError', 'Ellipsis', 'EncodingWarning', 'EnvironmentError', 'Exception', 'ExceptionGroup', 'False', 'FileExistsError', 'FileNotFoundError', 'FloatingPointError', 'FutureWarning', 'GeneratorExit', 'IOError', 'ImportError', 'ImportWarning', 'IndentationError', 'IndexError', 'InterruptedError', 'IsADirectoryError', 'KeyError', 'KeyboardInterrupt', 'LookupError', 'MemoryError', 'ModuleNotFoundError', 'NameError', 'None', 'NotADirectoryError', 'NotImplemented', 'NotImplementedError', 'OSError', 'OverflowError', 'PendingDeprecationWarning', 'PermissionError', 'ProcessLookupError', 'RecursionError', 'ReferenceError', 'ResourceWarning', 'RuntimeError', 'RuntimeWarning', 'StopAsyncIteration', 'StopIteration', 'SyntaxError', 'SyntaxWarning', 'SystemError', 'SystemExit', 'TabError', 'TimeoutError', 'True', 'TypeError', 'UnboundLocalError', 'UnicodeDecodeError', 'UnicodeEncodeError', 'UnicodeError', 'UnicodeTranslateError', 'UnicodeWarning', 'UserWarning', 'ValueError', 'Warning', 'ZeroDivisionError', '__IPYTHON__', '__build_class__', '__debug__', '__doc__', '__import__', '__loader__', '__name__', '__package__', '__spec__', 'abs', 'aiter', 'all', 'anext', 'any', 'ascii', 'bin', 'bool', 'breakpoint', 'bytearray', 'bytes', 'callable', 'chr', 'classmethod', 'compile', 'complex', 'copyright', 'credits', 'delattr', 'dict', 'dir', 'display', 'divmod', 'enumerate', 'eval', 'exec', 'execfile', 'filter', 'float', 'format', 'frozenset', 'get_ipython', 'getattr', 'globals', 'hasattr', 'hash', 'help', 'hex', 'id', 'input', 'int', 'isinstance', 'issubclass', 'iter', 'len', 'license', 'list', 'locals', 'map', 'max', 'memoryview', 'min', 'next', 'object', 'oct', 'open', 'ord', 'pow', 'print', 'property', 'range', 'repr', 'reversed', 'round', 'runfile', 'set', 'setattr', 'slice', 'sorted', 'staticmethod', 'str', 'sum', 'super', 'tuple', 'type', 'vars', 'zip']\n"
     ]
    }
   ],
   "source": [
    "import builtins\n",
    "print(dir(__builtin__))"
   ]
  },
  {
   "cell_type": "code",
   "execution_count": 13,
   "id": "485170d2-c2b8-4457-b663-760f8b5b8c9b",
   "metadata": {},
   "outputs": [
    {
     "name": "stdout",
     "output_type": "stream",
     "text": [
      "5\n",
      "6\n",
      "7\n",
      "18\n",
      "<class 'int'>\n"
     ]
    }
   ],
   "source": [
    "a = 5\n",
    "b = 6\n",
    "c = 7 \n",
    "result = a+b+c\n",
    "print(a)\n",
    "print(b)\n",
    "print(c)\n",
    "print(result)\n",
    "print(type(result))"
   ]
  },
  {
   "cell_type": "code",
   "execution_count": 14,
   "id": "161b5d1c-e6da-4f5e-8de8-edd6509e1823",
   "metadata": {},
   "outputs": [
    {
     "name": "stdout",
     "output_type": "stream",
     "text": [
      "5\n",
      "6\n",
      "7\n",
      "18\n",
      "<class 'int'>\n"
     ]
    }
   ],
   "source": [
    "print(a,b,c,result,type(result),sep='\\n')"
   ]
  },
  {
   "cell_type": "code",
   "execution_count": 15,
   "id": "0a3277c3-0c58-402a-8838-2b4a9da3af47",
   "metadata": {},
   "outputs": [
    {
     "name": "stdout",
     "output_type": "stream",
     "text": [
      "Help on built-in function print in module builtins:\n",
      "\n",
      "print(*args, sep=' ', end='\\n', file=None, flush=False)\n",
      "    Prints the values to a stream, or to sys.stdout by default.\n",
      "\n",
      "    sep\n",
      "      string inserted between values, default a space.\n",
      "    end\n",
      "      string appended after the last value, default a newline.\n",
      "    file\n",
      "      a file-like object (stream); defaults to the current sys.stdout.\n",
      "    flush\n",
      "      whether to forcibly flush the stream.\n",
      "\n",
      "None\n"
     ]
    }
   ],
   "source": [
    "print(help(print))"
   ]
  },
  {
   "cell_type": "code",
   "execution_count": 16,
   "id": "9929896b-8f85-4156-a8c2-0f0a72bac4db",
   "metadata": {},
   "outputs": [
    {
     "name": "stdout",
     "output_type": "stream",
     "text": [
      "*\n",
      "**\n",
      "***\n",
      "****\n",
      "*****\n",
      "******\n",
      "*******\n",
      "********\n",
      "*********\n",
      "**********\n"
     ]
    }
   ],
   "source": [
    "def p(ajay):\n",
    "    return ajay\n",
    "\n",
    "for var in range(1,11):\n",
    "    print(var*'*')"
   ]
  },
  {
   "cell_type": "code",
   "execution_count": 17,
   "id": "14d0b73e-205f-4f8d-a4d6-4abe6799537d",
   "metadata": {},
   "outputs": [
    {
     "data": {
      "text/plain": [
       "5"
      ]
     },
     "execution_count": 17,
     "metadata": {},
     "output_type": "execute_result"
    }
   ],
   "source": [
    "a"
   ]
  },
  {
   "cell_type": "code",
   "execution_count": 18,
   "id": "51fa84da-a1b0-4650-b31a-7dd51ec4f5ac",
   "metadata": {},
   "outputs": [
    {
     "name": "stdout",
     "output_type": "stream",
     "text": [
      "['__abs__', '__add__', '__and__', '__bool__', '__ceil__', '__class__', '__delattr__', '__dir__', '__divmod__', '__doc__', '__eq__', '__float__', '__floor__', '__floordiv__', '__format__', '__ge__', '__getattribute__', '__getnewargs__', '__getstate__', '__gt__', '__hash__', '__index__', '__init__', '__init_subclass__', '__int__', '__invert__', '__le__', '__lshift__', '__lt__', '__mod__', '__mul__', '__ne__', '__neg__', '__new__', '__or__', '__pos__', '__pow__', '__radd__', '__rand__', '__rdivmod__', '__reduce__', '__reduce_ex__', '__repr__', '__rfloordiv__', '__rlshift__', '__rmod__', '__rmul__', '__ror__', '__round__', '__rpow__', '__rrshift__', '__rshift__', '__rsub__', '__rtruediv__', '__rxor__', '__setattr__', '__sizeof__', '__str__', '__sub__', '__subclasshook__', '__truediv__', '__trunc__', '__xor__', 'as_integer_ratio', 'bit_count', 'bit_length', 'conjugate', 'denominator', 'from_bytes', 'imag', 'is_integer', 'numerator', 'real', 'to_bytes']\n"
     ]
    }
   ],
   "source": [
    "print(dir(a)) #__add__ is called magic or dunder methods "
   ]
  },
  {
   "cell_type": "code",
   "execution_count": 19,
   "id": "4cc5b341-ddbb-484e-8d14-0427833d9c8f",
   "metadata": {},
   "outputs": [
    {
     "data": {
      "text/plain": [
       "11"
      ]
     },
     "execution_count": 19,
     "metadata": {},
     "output_type": "execute_result"
    }
   ],
   "source": [
    "a + b"
   ]
  },
  {
   "cell_type": "code",
   "execution_count": 20,
   "id": "a8643e2f-1bad-4811-9da3-7fa57814be5c",
   "metadata": {},
   "outputs": [
    {
     "data": {
      "text/plain": [
       "11"
      ]
     },
     "execution_count": 20,
     "metadata": {},
     "output_type": "execute_result"
    }
   ],
   "source": [
    "a.__add__(b)"
   ]
  },
  {
   "cell_type": "code",
   "execution_count": 44,
   "id": "abebe574-0098-4e45-bef4-97e68f501e21",
   "metadata": {},
   "outputs": [
    {
     "name": "stdout",
     "output_type": "stream",
     "text": [
      "<class 'int'>\n"
     ]
    }
   ],
   "source": [
    "print(type(a))"
   ]
  },
  {
   "cell_type": "code",
   "execution_count": 46,
   "id": "161f4bce-e987-4994-857c-7db9c4878dd2",
   "metadata": {},
   "outputs": [
    {
     "data": {
      "text/plain": [
       "(5, 1)"
      ]
     },
     "execution_count": 46,
     "metadata": {},
     "output_type": "execute_result"
    }
   ],
   "source": [
    "a.as_integer_ratio()"
   ]
  },
  {
   "cell_type": "code",
   "execution_count": 48,
   "id": "7b2b733e-3f2c-4235-a04d-6ade28d35a7d",
   "metadata": {},
   "outputs": [],
   "source": [
    "def add(a,b):\n",
    "    return a + b"
   ]
  },
  {
   "cell_type": "code",
   "execution_count": 50,
   "id": "7849fc31-4dce-419a-bf9d-db9a8629d8ff",
   "metadata": {},
   "outputs": [
    {
     "data": {
      "text/plain": [
       "11"
      ]
     },
     "execution_count": 50,
     "metadata": {},
     "output_type": "execute_result"
    }
   ],
   "source": [
    "add(5,6)"
   ]
  },
  {
   "cell_type": "code",
   "execution_count": 52,
   "id": "8bfa6cd7-ba2a-4eec-aa5e-dc4ec376b0e0",
   "metadata": {},
   "outputs": [
    {
     "data": {
      "text/plain": [
       "2"
      ]
     },
     "execution_count": 52,
     "metadata": {},
     "output_type": "execute_result"
    }
   ],
   "source": [
    "a.bit_count()"
   ]
  },
  {
   "cell_type": "code",
   "execution_count": 54,
   "id": "35170a31-7216-4563-8e4f-244ebc61ebc7",
   "metadata": {},
   "outputs": [
    {
     "data": {
      "text/plain": [
       "5"
      ]
     },
     "execution_count": 54,
     "metadata": {},
     "output_type": "execute_result"
    }
   ],
   "source": [
    "a"
   ]
  },
  {
   "cell_type": "code",
   "execution_count": 56,
   "id": "c064057d-24ce-4a98-848f-073e52151dda",
   "metadata": {},
   "outputs": [
    {
     "data": {
      "text/plain": [
       "3"
      ]
     },
     "execution_count": 56,
     "metadata": {},
     "output_type": "execute_result"
    }
   ],
   "source": [
    "a.bit_length()"
   ]
  },
  {
   "cell_type": "code",
   "execution_count": 60,
   "id": "572a17dc-ba39-4ddd-bf21-d31fb6624dd7",
   "metadata": {},
   "outputs": [],
   "source": [
    "b = 16"
   ]
  },
  {
   "cell_type": "code",
   "execution_count": 62,
   "id": "646adc0e-2137-4a37-a5b0-855bd061102a",
   "metadata": {},
   "outputs": [
    {
     "data": {
      "text/plain": [
       "1"
      ]
     },
     "execution_count": 62,
     "metadata": {},
     "output_type": "execute_result"
    }
   ],
   "source": [
    "b.bit_count()"
   ]
  },
  {
   "cell_type": "code",
   "execution_count": 88,
   "id": "614e3fc0-f8bc-4435-a4ea-6cf6b537c811",
   "metadata": {},
   "outputs": [],
   "source": [
    "c = 4+5j"
   ]
  },
  {
   "cell_type": "code",
   "execution_count": 66,
   "id": "94bdfb54-f597-4592-8e3d-eb7e7f3ef27a",
   "metadata": {},
   "outputs": [
    {
     "data": {
      "text/plain": [
       "(4-5j)"
      ]
     },
     "execution_count": 66,
     "metadata": {},
     "output_type": "execute_result"
    }
   ],
   "source": [
    "c.conjugate()"
   ]
  },
  {
   "cell_type": "code",
   "execution_count": 74,
   "id": "e66fa488-a7ce-4bd4-800d-e324c704405a",
   "metadata": {},
   "outputs": [
    {
     "data": {
      "text/plain": [
       "1"
      ]
     },
     "execution_count": 74,
     "metadata": {},
     "output_type": "execute_result"
    }
   ],
   "source": [
    "b.denominator  # ask me at the time class and object "
   ]
  },
  {
   "cell_type": "code",
   "execution_count": 76,
   "id": "cb6e6a42-e4c8-471a-9e47-35a2b18e8a32",
   "metadata": {},
   "outputs": [],
   "source": [
    "c = 5"
   ]
  },
  {
   "cell_type": "code",
   "execution_count": 78,
   "id": "6243b85a-2a33-4f23-a391-cb717a17cc0a",
   "metadata": {},
   "outputs": [
    {
     "data": {
      "text/plain": [
       "1"
      ]
     },
     "execution_count": 78,
     "metadata": {},
     "output_type": "execute_result"
    }
   ],
   "source": [
    "c.denominator"
   ]
  },
  {
   "cell_type": "code",
   "execution_count": 80,
   "id": "79c3768f-a884-4560-a698-6b807fefe816",
   "metadata": {},
   "outputs": [],
   "source": [
    "c = 5.5 "
   ]
  },
  {
   "cell_type": "code",
   "execution_count": 90,
   "id": "9b47a7d1-afa9-4ff2-be5a-31ee9c785110",
   "metadata": {},
   "outputs": [
    {
     "data": {
      "text/plain": [
       "5.0"
      ]
     },
     "execution_count": 90,
     "metadata": {},
     "output_type": "execute_result"
    }
   ],
   "source": [
    "c.imag"
   ]
  },
  {
   "cell_type": "code",
   "execution_count": 92,
   "id": "f9e4968d-5870-4c41-85b8-1b1b2dbeda82",
   "metadata": {},
   "outputs": [
    {
     "data": {
      "text/plain": [
       "4.0"
      ]
     },
     "execution_count": 92,
     "metadata": {},
     "output_type": "execute_result"
    }
   ],
   "source": [
    "c.real"
   ]
  },
  {
   "cell_type": "code",
   "execution_count": 94,
   "id": "91489074-84d0-4d74-88c4-850817917f7a",
   "metadata": {},
   "outputs": [
    {
     "data": {
      "text/plain": [
       "5"
      ]
     },
     "execution_count": 94,
     "metadata": {},
     "output_type": "execute_result"
    }
   ],
   "source": [
    "a"
   ]
  },
  {
   "cell_type": "code",
   "execution_count": 98,
   "id": "6fc1d07d-d601-4289-b4a8-20371527ddb3",
   "metadata": {},
   "outputs": [
    {
     "data": {
      "text/plain": [
       "True"
      ]
     },
     "execution_count": 98,
     "metadata": {},
     "output_type": "execute_result"
    }
   ],
   "source": [
    "a.is_integer()"
   ]
  },
  {
   "cell_type": "code",
   "execution_count": 100,
   "id": "ec10e44e-5e88-4a27-a9c7-7cca98bf2e06",
   "metadata": {},
   "outputs": [],
   "source": [
    "# True 1\n",
    "# False 0     \n",
    "# and #or #nor "
   ]
  },
  {
   "cell_type": "markdown",
   "id": "b7c64d3d-5b84-46f8-b572-b82fce45cbee",
   "metadata": {},
   "source": [
    "# Strings in python"
   ]
  },
  {
   "cell_type": "code",
   "execution_count": 106,
   "id": "67e0fa5a-c26a-4a5c-a77c-43ec1d921fc3",
   "metadata": {},
   "outputs": [],
   "source": [
    "a = \"python \"\n",
    "b = \"is awsome\""
   ]
  },
  {
   "cell_type": "code",
   "execution_count": 108,
   "id": "72b5a08b-2300-4cc9-8f4d-445edc32ed88",
   "metadata": {},
   "outputs": [
    {
     "name": "stdout",
     "output_type": "stream",
     "text": [
      "python is awsome\n"
     ]
    }
   ],
   "source": [
    "print(a + b)  #concatenation"
   ]
  },
  {
   "cell_type": "code",
   "execution_count": 110,
   "id": "6f9e378f-b524-4b0b-a5cb-47c79f8c9275",
   "metadata": {},
   "outputs": [
    {
     "name": "stdout",
     "output_type": "stream",
     "text": [
      "python python python python python \n"
     ]
    }
   ],
   "source": [
    "print(a * 5) #replication"
   ]
  },
  {
   "cell_type": "code",
   "execution_count": 116,
   "id": "54b2418f-f66a-4ffa-acce-f2e371402463",
   "metadata": {},
   "outputs": [
    {
     "name": "stdout",
     "output_type": "stream",
     "text": [
      "Jayesh \tis intelligent\n"
     ]
    }
   ],
   "source": [
    "a = 'Jayesh '\n",
    "b = \"is intelligent\"\n",
    "print(a,b,sep='\\t') #\\t is for tab #\\n is for new line "
   ]
  },
  {
   "cell_type": "code",
   "execution_count": 120,
   "id": "3bcd34ff-1365-48a3-8edb-95508bcb985e",
   "metadata": {},
   "outputs": [
    {
     "name": "stdout",
     "output_type": "stream",
     "text": [
      "today's weather is awsome\n",
      "today\"s weather is awsome\n"
     ]
    }
   ],
   "source": [
    "#c = \"today\"s weather is awsome\"\n",
    "d = \"today's weather is awsome\"\n",
    "e = 'today\"s weather is awsome'\n",
    "print(d,e,sep='\\n')"
   ]
  },
  {
   "cell_type": "code",
   "execution_count": 124,
   "id": "e520fa35-dfa7-41c2-bc81-c16c1ec90b56",
   "metadata": {},
   "outputs": [
    {
     "name": "stdout",
     "output_type": "stream",
     "text": [
      "hello world python is awosome \n",
      "mazee aa rhe hai ndovjsdnvd\n",
      "nivodjnv\n",
      "djnodijvn\n",
      "ndofknndsjvn\n",
      "nsdvjdnosd\n",
      "dnvjidonvdv\n"
     ]
    }
   ],
   "source": [
    "d = \"\"\"hello world python is awosome \n",
    "mazee aa rhe hai ndovjsdnvd\n",
    "nivodjnv\n",
    "djnodijvn\n",
    "ndofknndsjvn\n",
    "nsdvjdnosd\n",
    "dnvjidonvdv\"\"\"\n",
    "\n",
    "print(d)"
   ]
  },
  {
   "cell_type": "code",
   "execution_count": 128,
   "id": "2cec44a5-755a-4c01-a564-6d487e4616dd",
   "metadata": {},
   "outputs": [
    {
     "name": "stdout",
     "output_type": "stream",
     "text": [
      "['__add__', '__class__', '__contains__', '__delattr__', '__dir__', '__doc__', '__eq__', '__format__', '__ge__', '__getattribute__', '__getitem__', '__getnewargs__', '__getstate__', '__gt__', '__hash__', '__init__', '__init_subclass__', '__iter__', '__le__', '__len__', '__lt__', '__mod__', '__mul__', '__ne__', '__new__', '__reduce__', '__reduce_ex__', '__repr__', '__rmod__', '__rmul__', '__setattr__', '__sizeof__', '__str__', '__subclasshook__', 'capitalize', 'casefold', 'center', 'count', 'encode', 'endswith', 'expandtabs', 'find', 'format', 'format_map', 'index', 'isalnum', 'isalpha', 'isascii', 'isdecimal', 'isdigit', 'isidentifier', 'islower', 'isnumeric', 'isprintable', 'isspace', 'istitle', 'isupper', 'join', 'ljust', 'lower', 'lstrip', 'maketrans', 'partition', 'removeprefix', 'removesuffix', 'replace', 'rfind', 'rindex', 'rjust', 'rpartition', 'rsplit', 'rstrip', 'split', 'splitlines', 'startswith', 'strip', 'swapcase', 'title', 'translate', 'upper', 'zfill']\n"
     ]
    }
   ],
   "source": [
    "print(dir(d))"
   ]
  },
  {
   "cell_type": "code",
   "execution_count": 130,
   "id": "4176d87e-4156-40d0-9872-156796b261b8",
   "metadata": {},
   "outputs": [
    {
     "name": "stdout",
     "output_type": "stream",
     "text": [
      "<class 'str'>\n"
     ]
    }
   ],
   "source": [
    "print(type(d))"
   ]
  },
  {
   "cell_type": "code",
   "execution_count": 134,
   "id": "c7382cb9-242e-4b47-9563-417b6ffb6b66",
   "metadata": {},
   "outputs": [
    {
     "name": "stdout",
     "output_type": "stream",
     "text": [
      "Python is awsome\n"
     ]
    }
   ],
   "source": [
    "a = 'python is awsome'\n",
    "print(a.capitalize())"
   ]
  },
  {
   "cell_type": "code",
   "execution_count": 146,
   "id": "0139fdd8-47a7-41d3-9399-9288f57a2797",
   "metadata": {},
   "outputs": [],
   "source": [
    "b = 'Abra Ka DABRA'"
   ]
  },
  {
   "cell_type": "code",
   "execution_count": 148,
   "id": "91bb9f9c-4680-4c89-b4f1-fb86e1a3bda8",
   "metadata": {},
   "outputs": [
    {
     "data": {
      "text/plain": [
       "'abra ka dabra'"
      ]
     },
     "execution_count": 148,
     "metadata": {},
     "output_type": "execute_result"
    }
   ],
   "source": [
    "b.casefold()"
   ]
  },
  {
   "cell_type": "code",
   "execution_count": 150,
   "id": "826cd7c9-2135-47f6-be4f-f332dbf34641",
   "metadata": {},
   "outputs": [],
   "source": [
    "a = 'jayesh'"
   ]
  },
  {
   "cell_type": "code",
   "execution_count": 158,
   "id": "4e7f0620-cae6-4a71-8a79-844003a42e15",
   "metadata": {},
   "outputs": [
    {
     "data": {
      "text/plain": [
       "'                 jayesh                 '"
      ]
     },
     "execution_count": 158,
     "metadata": {},
     "output_type": "execute_result"
    }
   ],
   "source": [
    "a.center(40)"
   ]
  },
  {
   "cell_type": "code",
   "execution_count": 160,
   "id": "eb55fb08-8fa7-441b-9957-99913f13baff",
   "metadata": {},
   "outputs": [
    {
     "name": "stdout",
     "output_type": "stream",
     "text": [
      "5\n"
     ]
    }
   ],
   "source": [
    "a = 'ajay is awsome ajay is very stupid'\n",
    "num = a.count('a')\n",
    "print(num)"
   ]
  },
  {
   "cell_type": "code",
   "execution_count": 162,
   "id": "70297bd2-a453-4a67-a0af-250a662dfe55",
   "metadata": {},
   "outputs": [
    {
     "name": "stdout",
     "output_type": "stream",
     "text": [
      "a =  5\n",
      "e =  8\n",
      "i =  4\n",
      "o =  5\n",
      "u =  1\n"
     ]
    }
   ],
   "source": [
    "st = \"share market is very low these days we are not getting any profit out of it\"\n",
    "a = st.count('a')\n",
    "e = st.count('e')\n",
    "o = st.count('o')\n",
    "i = st.count('i')\n",
    "u = st.count('u')\n",
    "print('a = ',a)\n",
    "print('e = ',e)\n",
    "print('i = ',i)\n",
    "print('o = ',o)\n",
    "print('u = ',u)"
   ]
  },
  {
   "cell_type": "code",
   "execution_count": 168,
   "id": "c55af830-bfe8-4ce2-8fc6-b3e444094097",
   "metadata": {
    "scrolled": true
   },
   "outputs": [
    {
     "name": "stdout",
     "output_type": "stream",
     "text": [
      "s h a r e   m a r k e t   i s   v e r y   l o w   t h e s e   d a y s   w e   a r e   n o t   g e t t i n g   a n y   p r o f i t   o u t   o f   i t "
     ]
    }
   ],
   "source": [
    "y = 0\n",
    "for var in st:\n",
    "    if var=='a':\n",
    "        y+=1\n",
    "    print(var,end=' ')"
   ]
  },
  {
   "cell_type": "code",
   "execution_count": 166,
   "id": "6790adee-4865-4816-a442-4449e19e91e6",
   "metadata": {},
   "outputs": [
    {
     "data": {
      "text/plain": [
       "5"
      ]
     },
     "execution_count": 166,
     "metadata": {},
     "output_type": "execute_result"
    }
   ],
   "source": [
    "y"
   ]
  },
  {
   "cell_type": "code",
   "execution_count": 170,
   "id": "7f76b4f1-c753-41eb-96bd-5baa0c0b6d34",
   "metadata": {},
   "outputs": [],
   "source": [
    "def my_count(string,word):\n",
    "    y = 0\n",
    "    for var in string:\n",
    "        if var == word:\n",
    "            y += 1\n",
    "    return y"
   ]
  },
  {
   "cell_type": "code",
   "execution_count": 174,
   "id": "5c61211d-a3d7-421e-9ea6-324868ff615d",
   "metadata": {},
   "outputs": [
    {
     "data": {
      "text/plain": [
       "8"
      ]
     },
     "execution_count": 174,
     "metadata": {},
     "output_type": "execute_result"
    }
   ],
   "source": [
    "my_count(string=\"share market is very low these days we are not getting any profit out of it\",word='e')"
   ]
  },
  {
   "cell_type": "code",
   "execution_count": 176,
   "id": "aeaf2726-9f3c-4b78-af95-053a3705e4f0",
   "metadata": {},
   "outputs": [
    {
     "data": {
      "text/plain": [
       "5"
      ]
     },
     "execution_count": 176,
     "metadata": {},
     "output_type": "execute_result"
    }
   ],
   "source": [
    "a"
   ]
  },
  {
   "cell_type": "code",
   "execution_count": 178,
   "id": "28388f3f-93bc-4e29-8538-4f3efbc54484",
   "metadata": {},
   "outputs": [],
   "source": [
    "a = 'a'"
   ]
  },
  {
   "cell_type": "code",
   "execution_count": 188,
   "id": "d94072e0-cea3-44db-81b2-fc29830f4957",
   "metadata": {},
   "outputs": [
    {
     "data": {
      "text/plain": [
       "'a'"
      ]
     },
     "execution_count": 188,
     "metadata": {},
     "output_type": "execute_result"
    }
   ],
   "source": [
    "a"
   ]
  },
  {
   "cell_type": "code",
   "execution_count": 192,
   "id": "7a997a73-ad78-435a-8343-63fc4155b155",
   "metadata": {},
   "outputs": [
    {
     "data": {
      "text/plain": [
       "b'a'"
      ]
     },
     "execution_count": 192,
     "metadata": {},
     "output_type": "execute_result"
    }
   ],
   "source": [
    "a.encode()"
   ]
  },
  {
   "cell_type": "code",
   "execution_count": 196,
   "id": "6d420255-2b67-4044-82bc-69682914744d",
   "metadata": {},
   "outputs": [
    {
     "data": {
      "text/plain": [
       "'share market is very low these days we are not getting any profit out of it'"
      ]
     },
     "execution_count": 196,
     "metadata": {},
     "output_type": "execute_result"
    }
   ],
   "source": [
    "st"
   ]
  },
  {
   "cell_type": "code",
   "execution_count": 198,
   "id": "8fada619-2cc4-43f9-a554-a2ff2aa9b5b7",
   "metadata": {},
   "outputs": [
    {
     "data": {
      "text/plain": [
       "True"
      ]
     },
     "execution_count": 198,
     "metadata": {},
     "output_type": "execute_result"
    }
   ],
   "source": [
    "st.endswith('t')"
   ]
  },
  {
   "cell_type": "code",
   "execution_count": 200,
   "id": "75957db3-f8ae-41a2-a640-4547e562372b",
   "metadata": {},
   "outputs": [
    {
     "data": {
      "text/plain": [
       "False"
      ]
     },
     "execution_count": 200,
     "metadata": {},
     "output_type": "execute_result"
    }
   ],
   "source": [
    "st.endswith('y')"
   ]
  },
  {
   "cell_type": "code",
   "execution_count": 202,
   "id": "dbbaf8c4-eca9-4881-90b1-f0d3ff185c21",
   "metadata": {},
   "outputs": [],
   "source": [
    "l = []\n",
    "l1 = ['sample','apple','nothing','hello','bye','these','shine','rhyme','rose','ajay','jayes','shubham']"
   ]
  },
  {
   "cell_type": "code",
   "execution_count": 204,
   "id": "d59694f1-7e09-4001-9035-513790171a8e",
   "metadata": {},
   "outputs": [],
   "source": [
    "for var in l1:\n",
    "    if var.endswith('e'):\n",
    "        l.append(var)"
   ]
  },
  {
   "cell_type": "code",
   "execution_count": 206,
   "id": "179d0f10-e9ee-42d3-8249-2249cb3597d9",
   "metadata": {},
   "outputs": [
    {
     "data": {
      "text/plain": [
       "['sample', 'apple', 'bye', 'these', 'shine', 'rhyme', 'rose']"
      ]
     },
     "execution_count": 206,
     "metadata": {},
     "output_type": "execute_result"
    }
   ],
   "source": [
    "l"
   ]
  },
  {
   "cell_type": "code",
   "execution_count": 212,
   "id": "ff56bba4-0d2d-4e09-8710-60a71dfdbef1",
   "metadata": {},
   "outputs": [
    {
     "data": {
      "text/plain": [
       "'hello                          world                         sachin                        python                        ajay                          shubham                       radhika                       honey                         ankit                         romy'"
      ]
     },
     "execution_count": 212,
     "metadata": {},
     "output_type": "execute_result"
    }
   ],
   "source": [
    "sti = 'hello \\t world \\t sachin \\t python \\t ajay \\t shubham \\t radhika \\t honey \\t ankit \\t romy'\n",
    "sti.expandtabs(30)"
   ]
  },
  {
   "cell_type": "code",
   "execution_count": 218,
   "id": "7d21596c-1043-4f2b-a62a-8705e1b8c5f3",
   "metadata": {},
   "outputs": [
    {
     "data": {
      "text/plain": [
       "9"
      ]
     },
     "execution_count": 218,
     "metadata": {},
     "output_type": "execute_result"
    }
   ],
   "source": [
    "sti.find('o',5)"
   ]
  },
  {
   "cell_type": "code",
   "execution_count": 222,
   "id": "443bff22-004a-4afd-9092-8ec92849c679",
   "metadata": {},
   "outputs": [
    {
     "name": "stdin",
     "output_type": "stream",
     "text": [
      "enter your first name :  jayesh\n",
      "enter your last name :  sisodiya\n",
      "enter your father\"s name :  sanjay ji\n",
      "enter your roll no :  11\n"
     ]
    },
    {
     "name": "stdout",
     "output_type": "stream",
     "text": [
      "your first name is jayesh your last name is sisodiya and your father's name is sanjay ji and your roll no. is this 11\n"
     ]
    }
   ],
   "source": [
    "name = input('enter your first name : ')\n",
    "l_name = input('enter your last name : ')\n",
    "fname = input('enter your father\"s name : ')\n",
    "roll_no = input('enter your roll no : ')\n",
    "sti = \"your first name is {} your last name is {} and your father's name is {} and your roll no. is this {}\"\n",
    "print(sti.format(name,l_name,fname,roll_no))"
   ]
  },
  {
   "cell_type": "code",
   "execution_count": 224,
   "id": "b91fc449-a7e0-4206-bf35-ff2e92a8e2b1",
   "metadata": {},
   "outputs": [
    {
     "name": "stdin",
     "output_type": "stream",
     "text": [
      "enter your first name :  ajay\n",
      "enter your last name :  yadav\n",
      "enter your father\"s name :  kamal\n",
      "enter your roll no :  1\n"
     ]
    },
    {
     "name": "stdout",
     "output_type": "stream",
     "text": [
      "your first name is ajay your last name is yadav and your father's name is kamal and your roll no. is this 1\n"
     ]
    }
   ],
   "source": [
    "name = input('enter your first name : ')\n",
    "l_name = input('enter your last name : ')\n",
    "fname = input('enter your father\"s name : ')\n",
    "roll_no = input('enter your roll no : ')\n",
    "sti = f\"your first name is {name} your last name is {l_name} and your father's name is {fname} and your roll no. is this {roll_no}\"\n",
    "print(sti)"
   ]
  },
  {
   "cell_type": "code",
   "execution_count": 4,
   "id": "3f85ea31-7bb0-4f4d-8280-fd96d83707ec",
   "metadata": {},
   "outputs": [
    {
     "name": "stdout",
     "output_type": "stream",
     "text": [
      "jayesh\n",
      "Sisodiya\n",
      "['__add__', '__class__', '__contains__', '__delattr__', '__dir__', '__doc__', '__eq__', '__format__', '__ge__', '__getattribute__', '__getitem__', '__getnewargs__', '__getstate__', '__gt__', '__hash__', '__init__', '__init_subclass__', '__iter__', '__le__', '__len__', '__lt__', '__mod__', '__mul__', '__ne__', '__new__', '__reduce__', '__reduce_ex__', '__repr__', '__rmod__', '__rmul__', '__setattr__', '__sizeof__', '__str__', '__subclasshook__', 'capitalize', 'casefold', 'center', 'count', 'encode', 'endswith', 'expandtabs', 'find', 'format', 'format_map', 'index', 'isalnum', 'isalpha', 'isascii', 'isdecimal', 'isdigit', 'isidentifier', 'islower', 'isnumeric', 'isprintable', 'isspace', 'istitle', 'isupper', 'join', 'ljust', 'lower', 'lstrip', 'maketrans', 'partition', 'removeprefix', 'removesuffix', 'replace', 'rfind', 'rindex', 'rjust', 'rpartition', 'rsplit', 'rstrip', 'split', 'splitlines', 'startswith', 'strip', 'swapcase', 'title', 'translate', 'upper', 'zfill']\n"
     ]
    }
   ],
   "source": [
    "a = \"jayesh\" \n",
    "b = \"Sisodiya\"\n",
    "print(a) \n",
    "print(b)\n",
    "print(dir(a))"
   ]
  },
  {
   "cell_type": "code",
   "execution_count": 10,
   "id": "d6d3c8b3-0a2e-4ee3-b171-4d00043f447a",
   "metadata": {},
   "outputs": [
    {
     "name": "stdout",
     "output_type": "stream",
     "text": [
      "My first name is jayesh and my last name is sisodiya and father sanjay and roll no 4545\n"
     ]
    }
   ],
   "source": [
    "jayesh = {'fname':'jayesh','lname':'sisodiya','father':'sanjay','roll_no':4545}\n",
    "result = \"My first name is {fname} and my last name is {lname} and father {father} and roll no {roll_no}\".format_map(jayesh)\n",
    "print(result)"
   ]
  },
  {
   "cell_type": "code",
   "execution_count": 12,
   "id": "3217bd70-bc3b-43b2-b4e7-d0a28018a6b9",
   "metadata": {},
   "outputs": [
    {
     "name": "stdout",
     "output_type": "stream",
     "text": [
      "{'fname': 'jayesh', 'lname': 'sisodiya', 'father': 'sanjay', 'roll_no': 4545}\n"
     ]
    }
   ],
   "source": [
    "print(jayesh)"
   ]
  },
  {
   "cell_type": "code",
   "execution_count": 14,
   "id": "0508c844-599f-449c-8e52-36fb79604e9d",
   "metadata": {},
   "outputs": [],
   "source": [
    "a = \"shubham\""
   ]
  },
  {
   "cell_type": "code",
   "execution_count": 20,
   "id": "cc66f06c-6f83-4f16-92d2-b2ce2b948c65",
   "metadata": {},
   "outputs": [
    {
     "data": {
      "text/plain": [
       "2"
      ]
     },
     "execution_count": 20,
     "metadata": {},
     "output_type": "execute_result"
    }
   ],
   "source": [
    "a.index('u')"
   ]
  },
  {
   "cell_type": "code",
   "execution_count": 22,
   "id": "05c943e3-ef8c-4965-9446-a799301b8695",
   "metadata": {},
   "outputs": [
    {
     "ename": "ValueError",
     "evalue": "substring not found",
     "output_type": "error",
     "traceback": [
      "\u001b[0;31m---------------------------------------------------------------------------\u001b[0m",
      "\u001b[0;31mValueError\u001b[0m                                Traceback (most recent call last)",
      "Cell \u001b[0;32mIn[22], line 1\u001b[0m\n\u001b[0;32m----> 1\u001b[0m a\u001b[38;5;241m.\u001b[39mindex(\u001b[38;5;124m'\u001b[39m\u001b[38;5;124mu\u001b[39m\u001b[38;5;124m'\u001b[39m,\u001b[38;5;241m3\u001b[39m)\n",
      "\u001b[0;31mValueError\u001b[0m: substring not found"
     ]
    }
   ],
   "source": [
    "a.index('u',3)"
   ]
  },
  {
   "cell_type": "code",
   "execution_count": 24,
   "id": "76fb56a4-24e7-4ac0-92f5-fe1c95bd49b5",
   "metadata": {},
   "outputs": [],
   "source": [
    "# True and False is called boolean values or boolean data"
   ]
  },
  {
   "cell_type": "code",
   "execution_count": 26,
   "id": "f4cb96f9-7104-480e-a93b-2955b0fd6a79",
   "metadata": {},
   "outputs": [
    {
     "data": {
      "text/plain": [
       "False"
      ]
     },
     "execution_count": 26,
     "metadata": {},
     "output_type": "execute_result"
    }
   ],
   "source": [
    "a = 'sachin yadav'\n",
    "a.isalnum()"
   ]
  },
  {
   "cell_type": "code",
   "execution_count": 28,
   "id": "9fe2827b-7c7f-4c87-b3cc-0a136c476f33",
   "metadata": {},
   "outputs": [
    {
     "data": {
      "text/plain": [
       "False"
      ]
     },
     "execution_count": 28,
     "metadata": {},
     "output_type": "execute_result"
    }
   ],
   "source": [
    "a.isalpha()"
   ]
  },
  {
   "cell_type": "code",
   "execution_count": 30,
   "id": "2fbc7181-5517-48bc-a065-f35674594a0d",
   "metadata": {},
   "outputs": [],
   "source": [
    "b = 'sachin'"
   ]
  },
  {
   "cell_type": "code",
   "execution_count": 32,
   "id": "ded95634-442c-4a67-b3c8-e84bf2a66068",
   "metadata": {},
   "outputs": [
    {
     "data": {
      "text/plain": [
       "True"
      ]
     },
     "execution_count": 32,
     "metadata": {},
     "output_type": "execute_result"
    }
   ],
   "source": [
    "b.isalpha()"
   ]
  },
  {
   "cell_type": "code",
   "execution_count": 34,
   "id": "212fd86e-8f87-4f49-bcd2-e34a381233ee",
   "metadata": {},
   "outputs": [
    {
     "data": {
      "text/plain": [
       "True"
      ]
     },
     "execution_count": 34,
     "metadata": {},
     "output_type": "execute_result"
    }
   ],
   "source": [
    "b = 'sachin12'\n",
    "b.isalnum()"
   ]
  },
  {
   "cell_type": "code",
   "execution_count": 36,
   "id": "7e7c84d0-2073-4b54-a504-aec0621793b7",
   "metadata": {},
   "outputs": [],
   "source": [
    "c = 'sachin_yadav'"
   ]
  },
  {
   "cell_type": "code",
   "execution_count": 38,
   "id": "992e82e2-7dda-4c29-a993-703f54152a71",
   "metadata": {},
   "outputs": [
    {
     "data": {
      "text/plain": [
       "False"
      ]
     },
     "execution_count": 38,
     "metadata": {},
     "output_type": "execute_result"
    }
   ],
   "source": [
    "c.isalpha()"
   ]
  },
  {
   "cell_type": "code",
   "execution_count": 40,
   "id": "9889a033-d12f-4751-a2b3-ceeb2c373d93",
   "metadata": {},
   "outputs": [
    {
     "data": {
      "text/plain": [
       "True"
      ]
     },
     "execution_count": 40,
     "metadata": {},
     "output_type": "execute_result"
    }
   ],
   "source": [
    "c.isidentifier()"
   ]
  },
  {
   "cell_type": "code",
   "execution_count": 44,
   "id": "e8b0270d-eb5f-4af0-86c7-08c3c4bb7311",
   "metadata": {},
   "outputs": [
    {
     "data": {
      "text/plain": [
       "True"
      ]
     },
     "execution_count": 44,
     "metadata": {},
     "output_type": "execute_result"
    }
   ],
   "source": [
    "a = 'helloworld'\n",
    "a.isidentifier()"
   ]
  },
  {
   "cell_type": "code",
   "execution_count": 46,
   "id": "7701566c-49f0-4d62-8043-a0cfd9ca8dfb",
   "metadata": {},
   "outputs": [],
   "source": [
    "a = 'PAMMU'"
   ]
  },
  {
   "cell_type": "code",
   "execution_count": 48,
   "id": "446a3898-80d1-40f9-b45f-4e7a6a88c872",
   "metadata": {},
   "outputs": [
    {
     "data": {
      "text/plain": [
       "False"
      ]
     },
     "execution_count": 48,
     "metadata": {},
     "output_type": "execute_result"
    }
   ],
   "source": [
    "a.islower()"
   ]
  },
  {
   "cell_type": "code",
   "execution_count": 50,
   "id": "0c06e048-729d-4b14-a76c-5db3109306e8",
   "metadata": {},
   "outputs": [
    {
     "data": {
      "text/plain": [
       "True"
      ]
     },
     "execution_count": 50,
     "metadata": {},
     "output_type": "execute_result"
    }
   ],
   "source": [
    "a.isupper()"
   ]
  },
  {
   "cell_type": "code",
   "execution_count": 54,
   "id": "03d61cd6-c020-4cd8-8d36-31e2b5397893",
   "metadata": {},
   "outputs": [
    {
     "name": "stdout",
     "output_type": "stream",
     "text": [
      "Pammu\n"
     ]
    }
   ],
   "source": [
    "b = a.title()\n",
    "print(b)"
   ]
  },
  {
   "cell_type": "code",
   "execution_count": 56,
   "id": "81ce6f15-6303-4742-9b9c-64b14df9f1ca",
   "metadata": {},
   "outputs": [
    {
     "data": {
      "text/plain": [
       "True"
      ]
     },
     "execution_count": 56,
     "metadata": {},
     "output_type": "execute_result"
    }
   ],
   "source": [
    "b.istitle()"
   ]
  },
  {
   "cell_type": "code",
   "execution_count": 58,
   "id": "bdfc7977-aa5c-4ba9-b805-88be117cd551",
   "metadata": {},
   "outputs": [],
   "source": [
    "a = '                                           78ankit'"
   ]
  },
  {
   "cell_type": "code",
   "execution_count": 60,
   "id": "3eeed3fa-c16e-45bd-b60b-4c5990889db5",
   "metadata": {},
   "outputs": [
    {
     "data": {
      "text/plain": [
       "'                                           78ankit                                                  '"
      ]
     },
     "execution_count": 60,
     "metadata": {},
     "output_type": "execute_result"
    }
   ],
   "source": [
    "a.ljust(100)"
   ]
  },
  {
   "cell_type": "code",
   "execution_count": 68,
   "id": "6d04c3a7-8f56-4eb9-8d3f-9edf289e5cc2",
   "metadata": {},
   "outputs": [
    {
     "data": {
      "text/plain": [
       "'jayesh                                                                                                                            '"
      ]
     },
     "execution_count": 68,
     "metadata": {},
     "output_type": "execute_result"
    }
   ],
   "source": [
    "b = 'jayesh'\n",
    "b.ljust(130)"
   ]
  },
  {
   "cell_type": "code",
   "execution_count": 74,
   "id": "7c8b342e-8e64-42f3-a3bc-5d0d355b6b43",
   "metadata": {},
   "outputs": [
    {
     "name": "stdout",
     "output_type": "stream",
     "text": [
      "'jayesh sisodiya'\n"
     ]
    }
   ],
   "source": [
    "j = 'jayesh sisodiya'\n",
    "print(\"{!r}\".format(j))"
   ]
  },
  {
   "cell_type": "code",
   "execution_count": 72,
   "id": "5f8b8cde-15d2-41d9-8db9-6d7e765c4af5",
   "metadata": {},
   "outputs": [
    {
     "data": {
      "text/plain": [
       "'jayesh sisodiya'"
      ]
     },
     "execution_count": 72,
     "metadata": {},
     "output_type": "execute_result"
    }
   ],
   "source": [
    "j"
   ]
  },
  {
   "cell_type": "code",
   "execution_count": 82,
   "id": "a14084fc-307b-425d-a851-aecc537d45bf",
   "metadata": {},
   "outputs": [
    {
     "name": "stdin",
     "output_type": "stream",
     "text": [
      "write something :             jayesh singh            \n"
     ]
    },
    {
     "name": "stdout",
     "output_type": "stream",
     "text": [
      "'           jayesh singh            '\n",
      "'           jayesh singh'\n",
      "'jayesh singh            '\n",
      "'jayesh singh'\n"
     ]
    }
   ],
   "source": [
    "text = input('write something : ')\n",
    "print('{!r}'.format(text))\n",
    "print('{!r}'.format(text.rstrip()))   # strip string from right \n",
    "print('{!r}'.format(text.lstrip()))   # strip string from left \n",
    "print('{!r}'.format(text.strip()))  # strip string from both sides\n",
    "#print('{!r}'.format(a))"
   ]
  },
  {
   "cell_type": "code",
   "execution_count": 84,
   "id": "a27d391a-7353-43a6-9296-57c80cbda9ed",
   "metadata": {},
   "outputs": [
    {
     "data": {
      "text/plain": [
       "'           jayesh singh            '"
      ]
     },
     "execution_count": 84,
     "metadata": {},
     "output_type": "execute_result"
    }
   ],
   "source": [
    "text"
   ]
  },
  {
   "cell_type": "code",
   "execution_count": 86,
   "id": "0a7c9b06-7a7c-4dc8-b8cc-0a2950ec78fd",
   "metadata": {},
   "outputs": [],
   "source": [
    "t = 'SACHIN BANSAL'"
   ]
  },
  {
   "cell_type": "code",
   "execution_count": 88,
   "id": "d632e228-abb2-4fc5-ad2e-74fa4bd16419",
   "metadata": {},
   "outputs": [
    {
     "data": {
      "text/plain": [
       "'sachin bansal'"
      ]
     },
     "execution_count": 88,
     "metadata": {},
     "output_type": "execute_result"
    }
   ],
   "source": [
    "t.lower()"
   ]
  },
  {
   "cell_type": "code",
   "execution_count": 90,
   "id": "18651517-9d99-4bf3-82b7-cd764fb1cdcd",
   "metadata": {},
   "outputs": [
    {
     "data": {
      "text/plain": [
       "'SACHIN BANSAL'"
      ]
     },
     "execution_count": 90,
     "metadata": {},
     "output_type": "execute_result"
    }
   ],
   "source": [
    "t.upper()"
   ]
  },
  {
   "cell_type": "code",
   "execution_count": 92,
   "id": "40357ce9-5735-4d39-80bb-3166e805711b",
   "metadata": {},
   "outputs": [],
   "source": [
    "st = \"Mr sachin yadav is Stupid\""
   ]
  },
  {
   "cell_type": "code",
   "execution_count": 98,
   "id": "664d7f42-3588-40bf-98c8-56d83dcb240b",
   "metadata": {},
   "outputs": [
    {
     "data": {
      "text/plain": [
       "' sachin yadav is Stupid'"
      ]
     },
     "execution_count": 98,
     "metadata": {},
     "output_type": "execute_result"
    }
   ],
   "source": [
    "st.removeprefix('Mr')"
   ]
  },
  {
   "cell_type": "code",
   "execution_count": 100,
   "id": "7a4357bb-f523-478e-9c9b-8d2644af3a2f",
   "metadata": {},
   "outputs": [
    {
     "data": {
      "text/plain": [
       "'Mr sachin yadav is '"
      ]
     },
     "execution_count": 100,
     "metadata": {},
     "output_type": "execute_result"
    }
   ],
   "source": [
    "st.removesuffix('Stupid')"
   ]
  },
  {
   "cell_type": "code",
   "execution_count": 102,
   "id": "1dee6c02-ddc8-43c2-968f-babb2bdfe663",
   "metadata": {},
   "outputs": [],
   "source": [
    "a = 'hello to the world of python i am awsome'"
   ]
  },
  {
   "cell_type": "code",
   "execution_count": 104,
   "id": "67c5502c-ffb5-4be2-a45a-e71a20a8605e",
   "metadata": {},
   "outputs": [
    {
     "data": {
      "text/plain": [
       "'hello@to@the@world@of@python@i@am@awsome'"
      ]
     },
     "execution_count": 104,
     "metadata": {},
     "output_type": "execute_result"
    }
   ],
   "source": [
    "a.replace(' ','@')"
   ]
  },
  {
   "cell_type": "code",
   "execution_count": 106,
   "id": "32d9dd94-eda8-412b-930a-993c9807968e",
   "metadata": {},
   "outputs": [],
   "source": [
    "h = 'hello'\n",
    "w = 'wello'"
   ]
  },
  {
   "cell_type": "code",
   "execution_count": 108,
   "id": "d487b705-29d9-4a8b-afaa-9fb7571cf79a",
   "metadata": {},
   "outputs": [
    {
     "data": {
      "text/plain": [
       "'wello'"
      ]
     },
     "execution_count": 108,
     "metadata": {},
     "output_type": "execute_result"
    }
   ],
   "source": [
    "h.replace('h','w')"
   ]
  },
  {
   "cell_type": "code",
   "execution_count": 110,
   "id": "954bcba7-7803-40e9-82cf-b5bde5f2f55e",
   "metadata": {},
   "outputs": [
    {
     "data": {
      "text/plain": [
       "'hello'"
      ]
     },
     "execution_count": 110,
     "metadata": {},
     "output_type": "execute_result"
    }
   ],
   "source": [
    "w.replace('w','h')"
   ]
  },
  {
   "cell_type": "code",
   "execution_count": 112,
   "id": "7171824c-0f33-4617-9382-6136b6bbc74f",
   "metadata": {},
   "outputs": [
    {
     "name": "stdout",
     "output_type": "stream",
     "text": [
      "['__add__', '__class__', '__contains__', '__delattr__', '__dir__', '__doc__', '__eq__', '__format__', '__ge__', '__getattribute__', '__getitem__', '__getnewargs__', '__getstate__', '__gt__', '__hash__', '__init__', '__init_subclass__', '__iter__', '__le__', '__len__', '__lt__', '__mod__', '__mul__', '__ne__', '__new__', '__reduce__', '__reduce_ex__', '__repr__', '__rmod__', '__rmul__', '__setattr__', '__sizeof__', '__str__', '__subclasshook__', 'capitalize', 'casefold', 'center', 'count', 'encode', 'endswith', 'expandtabs', 'find', 'format', 'format_map', 'index', 'isalnum', 'isalpha', 'isascii', 'isdecimal', 'isdigit', 'isidentifier', 'islower', 'isnumeric', 'isprintable', 'isspace', 'istitle', 'isupper', 'join', 'ljust', 'lower', 'lstrip', 'maketrans', 'partition', 'removeprefix', 'removesuffix', 'replace', 'rfind', 'rindex', 'rjust', 'rpartition', 'rsplit', 'rstrip', 'split', 'splitlines', 'startswith', 'strip', 'swapcase', 'title', 'translate', 'upper', 'zfill']\n"
     ]
    }
   ],
   "source": [
    "print(dir(w))"
   ]
  },
  {
   "cell_type": "code",
   "execution_count": 118,
   "id": "e352fb3d-6423-4e29-8cfa-b3b20e6eb99b",
   "metadata": {},
   "outputs": [],
   "source": [
    "a = \"hello bhai kese ho sab bhai\""
   ]
  },
  {
   "cell_type": "code",
   "execution_count": 122,
   "id": "4fe5b4a5-988e-46f4-a26f-e63cf40f4073",
   "metadata": {},
   "outputs": [
    {
     "data": {
      "text/plain": [
       "23"
      ]
     },
     "execution_count": 122,
     "metadata": {},
     "output_type": "execute_result"
    }
   ],
   "source": [
    "a.rfind('bhai')  #recursive"
   ]
  },
  {
   "cell_type": "code",
   "execution_count": 126,
   "id": "e23901a0-32b2-42df-ab7f-f02be26b584e",
   "metadata": {},
   "outputs": [
    {
     "name": "stdout",
     "output_type": "stream",
     "text": [
      "('hello ', 'bhai', ' kese ho sab bhai')\n"
     ]
    }
   ],
   "source": [
    "b = a.partition('bhai')\n",
    "print(b)"
   ]
  },
  {
   "cell_type": "code",
   "execution_count": 130,
   "id": "eb23ad7b-31c4-46bb-8c45-7c50b94e0207",
   "metadata": {},
   "outputs": [
    {
     "name": "stdout",
     "output_type": "stream",
     "text": [
      "bhai to the world\n"
     ]
    }
   ],
   "source": [
    "j = \"{} to the world\".format(b[1])   # b is a variable and tuple is stored inside b and the format function is calling 1st no. index value\n",
    "print(j)"
   ]
  },
  {
   "cell_type": "code",
   "execution_count": 132,
   "id": "849ad046-79c1-4875-8b95-e2accb356438",
   "metadata": {},
   "outputs": [
    {
     "data": {
      "text/plain": [
       "'hello bhai kese ho sab bhai'"
      ]
     },
     "execution_count": 132,
     "metadata": {},
     "output_type": "execute_result"
    }
   ],
   "source": [
    "a"
   ]
  },
  {
   "cell_type": "code",
   "execution_count": 138,
   "id": "95fa2bd9-4618-471e-81eb-21f7f4020f3e",
   "metadata": {},
   "outputs": [
    {
     "data": {
      "text/plain": [
       "['hello bhai ', ' ho sab bhai']"
      ]
     },
     "execution_count": 138,
     "metadata": {},
     "output_type": "execute_result"
    }
   ],
   "source": [
    "b = a.split('kese')\n",
    "b"
   ]
  },
  {
   "cell_type": "code",
   "execution_count": 140,
   "id": "2f62dfab-a738-4c91-bdf2-546d1bb63849",
   "metadata": {},
   "outputs": [
    {
     "data": {
      "text/plain": [
       "'hello bhai ----- ho sab bhai'"
      ]
     },
     "execution_count": 140,
     "metadata": {},
     "output_type": "execute_result"
    }
   ],
   "source": [
    "\"-----\".join(b)"
   ]
  },
  {
   "cell_type": "code",
   "execution_count": 142,
   "id": "c5c0c8a1-c38a-4a37-b091-c72b219e7aac",
   "metadata": {},
   "outputs": [
    {
     "data": {
      "text/plain": [
       "['python ', ' awsome ', ' python awsome']"
      ]
     },
     "execution_count": 142,
     "metadata": {},
     "output_type": "execute_result"
    }
   ],
   "source": [
    "a = 'python is awsome is python awsome'\n",
    "b = a.split('is')\n",
    "b"
   ]
  },
  {
   "cell_type": "code",
   "execution_count": 144,
   "id": "7c4de1c5-2d43-4b16-b1c3-2f0ee3f179ba",
   "metadata": {},
   "outputs": [
    {
     "data": {
      "text/plain": [
       "'python ******* awsome ******* python awsome'"
      ]
     },
     "execution_count": 144,
     "metadata": {},
     "output_type": "execute_result"
    }
   ],
   "source": [
    "\"*******\".join(b)"
   ]
  },
  {
   "cell_type": "code",
   "execution_count": 150,
   "id": "26b52dcb-6b05-407a-9e63-4fe0d4630aa8",
   "metadata": {},
   "outputs": [
    {
     "data": {
      "text/plain": [
       "'aja     *    sachin     *    tarun     *    jayesh     *    shubham     *    ankit'"
      ]
     },
     "execution_count": 150,
     "metadata": {},
     "output_type": "execute_result"
    }
   ],
   "source": [
    "y = ['aja','sachin','tarun','jayesh','shubham','ankit']\n",
    "\"     *    \".join(y)"
   ]
  },
  {
   "cell_type": "code",
   "execution_count": 152,
   "id": "577cb76b-eec8-4aef-9e1e-8342a5574582",
   "metadata": {},
   "outputs": [],
   "source": [
    "a = \"mene \\n tujhko \\n python \\n sikhai\""
   ]
  },
  {
   "cell_type": "code",
   "execution_count": 154,
   "id": "53e3dedc-3cb5-4180-8af8-eacb97ebceba",
   "metadata": {},
   "outputs": [
    {
     "data": {
      "text/plain": [
       "'mene \\n tujhko \\n python \\n sikhai'"
      ]
     },
     "execution_count": 154,
     "metadata": {},
     "output_type": "execute_result"
    }
   ],
   "source": [
    "a"
   ]
  },
  {
   "cell_type": "code",
   "execution_count": 158,
   "id": "d10cbf54-778d-40c9-9752-2ed72f908050",
   "metadata": {},
   "outputs": [
    {
     "name": "stdout",
     "output_type": "stream",
     "text": [
      "mene \n",
      " tujhko \n",
      " python \n",
      " sikhai\n"
     ]
    }
   ],
   "source": [
    "print(a)"
   ]
  },
  {
   "cell_type": "code",
   "execution_count": 162,
   "id": "f554feb7-5179-481b-a3ff-a6d26ef9ed08",
   "metadata": {},
   "outputs": [
    {
     "data": {
      "text/plain": [
       "['mene ', ' tujhko ', ' python ', ' sikhai']"
      ]
     },
     "execution_count": 162,
     "metadata": {},
     "output_type": "execute_result"
    }
   ],
   "source": [
    "b = a.splitlines()\n",
    "b"
   ]
  },
  {
   "cell_type": "code",
   "execution_count": 166,
   "id": "f835aa88-ff3f-43ec-8f91-0f027642d64a",
   "metadata": {},
   "outputs": [
    {
     "data": {
      "text/plain": [
       "'mene   tujhko   python   sikhai'"
      ]
     },
     "execution_count": 166,
     "metadata": {},
     "output_type": "execute_result"
    }
   ],
   "source": [
    "c = ' '.join(b)\n",
    "c"
   ]
  },
  {
   "cell_type": "code",
   "execution_count": 168,
   "id": "2473f4dc-4ca2-4e66-a71a-3665b92e8d3c",
   "metadata": {},
   "outputs": [
    {
     "data": {
      "text/plain": [
       "'mene   tujhko   python   sikhai suno meri baat ko'"
      ]
     },
     "execution_count": 168,
     "metadata": {},
     "output_type": "execute_result"
    }
   ],
   "source": [
    "c + \" suno meri baat ko\""
   ]
  },
  {
   "cell_type": "code",
   "execution_count": 172,
   "id": "f685dabb-2eb8-47ee-8221-c7a399ff0436",
   "metadata": {},
   "outputs": [
    {
     "name": "stdout",
     "output_type": "stream",
     "text": [
      "mene   tujhko   python   sikhai ke tum meri bat nahi sunte\n"
     ]
    }
   ],
   "source": [
    "u = \"ke tum meri bat nahi sunte\"\n",
    "result = c + ' ' + u\n",
    "print(result)"
   ]
  },
  {
   "cell_type": "code",
   "execution_count": 174,
   "id": "0530a9f6-82e3-4360-83ba-10e3419f2014",
   "metadata": {},
   "outputs": [
    {
     "data": {
      "text/plain": [
       "'mene \\n tujhko \\n python \\n sikhai'"
      ]
     },
     "execution_count": 174,
     "metadata": {},
     "output_type": "execute_result"
    }
   ],
   "source": [
    "a"
   ]
  },
  {
   "cell_type": "code",
   "execution_count": 176,
   "id": "114481c8-7faf-4c86-ac2e-5ed5371dd2a1",
   "metadata": {},
   "outputs": [],
   "source": [
    "a = 'Ajay Singh'"
   ]
  },
  {
   "cell_type": "code",
   "execution_count": 178,
   "id": "5a1e2931-e7b2-4ad8-9570-d0d3ec70fc15",
   "metadata": {},
   "outputs": [
    {
     "data": {
      "text/plain": [
       "False"
      ]
     },
     "execution_count": 178,
     "metadata": {},
     "output_type": "execute_result"
    }
   ],
   "source": [
    "a.startswith('a')"
   ]
  },
  {
   "cell_type": "code",
   "execution_count": 180,
   "id": "1ba67461-f259-4609-85db-8850a7bf8baa",
   "metadata": {},
   "outputs": [
    {
     "data": {
      "text/plain": [
       "True"
      ]
     },
     "execution_count": 180,
     "metadata": {},
     "output_type": "execute_result"
    }
   ],
   "source": [
    "a.startswith('A')"
   ]
  },
  {
   "cell_type": "code",
   "execution_count": 192,
   "id": "7a8e186c-f31c-4862-a624-946175dc3bb6",
   "metadata": {},
   "outputs": [],
   "source": [
    "y = \"wello horld focus hocus\""
   ]
  },
  {
   "cell_type": "code",
   "execution_count": 225,
   "id": "5dcdf84a-5bf9-4db6-ad0e-a40f3b30d5ae",
   "metadata": {},
   "outputs": [],
   "source": [
    "t = 'wh'\n",
    "t1 = 'hw'\n",
    "table = y.maketrans(t,t1)"
   ]
  },
  {
   "cell_type": "code",
   "execution_count": 227,
   "id": "0a153854-b7e4-4421-88d3-166613953f0c",
   "metadata": {},
   "outputs": [
    {
     "data": {
      "text/plain": [
       "{119: 104, 104: 119}"
      ]
     },
     "execution_count": 227,
     "metadata": {},
     "output_type": "execute_result"
    }
   ],
   "source": [
    "table"
   ]
  },
  {
   "cell_type": "code",
   "execution_count": 217,
   "id": "ab44dc26-4857-4919-9f50-2a7eb96624f2",
   "metadata": {},
   "outputs": [
    {
     "data": {
      "text/plain": [
       "'hello horld'"
      ]
     },
     "execution_count": 217,
     "metadata": {},
     "output_type": "execute_result"
    }
   ],
   "source": [
    "y.replace('w','h')"
   ]
  },
  {
   "cell_type": "code",
   "execution_count": 200,
   "id": "666dea9a-b3a5-4620-a4ac-7fc0bd7d0a25",
   "metadata": {},
   "outputs": [
    {
     "data": {
      "text/plain": [
       "'hello world'"
      ]
     },
     "execution_count": 200,
     "metadata": {},
     "output_type": "execute_result"
    }
   ],
   "source": [
    "y.translate(table)"
   ]
  },
  {
   "cell_type": "code",
   "execution_count": 206,
   "id": "4f29cff9-421f-4f62-ba4c-bfa67903796c",
   "metadata": {},
   "outputs": [
    {
     "data": {
      "text/plain": [
       "'w'"
      ]
     },
     "execution_count": 206,
     "metadata": {},
     "output_type": "execute_result"
    }
   ],
   "source": [
    "chr(119)"
   ]
  },
  {
   "cell_type": "code",
   "execution_count": 210,
   "id": "169a3c1c-0edb-4e52-aefe-de8a2e7698bd",
   "metadata": {},
   "outputs": [
    {
     "name": "stdout",
     "output_type": "stream",
     "text": [
      "A\tB\tC\tD\tE\tF\tG\tH\tI\tJ\tK\tL\tM\tN\tO\tP\tQ\tR\tS\tT\tU\tV\tW\tX\tY\tZ\t"
     ]
    }
   ],
   "source": [
    "for var in range(65,91):\n",
    "    print(chr(var),end='\\t')"
   ]
  },
  {
   "cell_type": "code",
   "execution_count": 231,
   "id": "1362c742-3b4a-423b-89df-b9476ef50b80",
   "metadata": {},
   "outputs": [
    {
     "name": "stdout",
     "output_type": "stream",
     "text": [
      "a\tb\tc\td\te\tf\tg\th\ti\tj\tk\tl\tm\tn\to\tp\tq\tr\ts\tt\tu\tv\tw\tx\ty\tz\t"
     ]
    }
   ],
   "source": [
    "for var in range(97,123):\n",
    "    print(chr(var),end='\\t')"
   ]
  },
  {
   "cell_type": "code",
   "execution_count": null,
   "id": "c5119f85-d6fe-4d9d-b7ea-239d4de0ad87",
   "metadata": {},
   "outputs": [],
   "source": []
  }
 ],
 "metadata": {
  "kernelspec": {
   "display_name": "Python [conda env:base] *",
   "language": "python",
   "name": "conda-base-py"
  },
  "language_info": {
   "codemirror_mode": {
    "name": "ipython",
    "version": 3
   },
   "file_extension": ".py",
   "mimetype": "text/x-python",
   "name": "python",
   "nbconvert_exporter": "python",
   "pygments_lexer": "ipython3",
   "version": "3.12.7"
  }
 },
 "nbformat": 4,
 "nbformat_minor": 5
}
