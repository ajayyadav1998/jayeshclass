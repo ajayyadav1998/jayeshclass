{
 "cells": [
  {
   "cell_type": "code",
   "execution_count": 1,
   "id": "cea86bd1-ea4f-4d48-8796-2247afd22acf",
   "metadata": {},
   "outputs": [
    {
     "name": "stdout",
     "output_type": "stream",
     "text": [
      "hello world\n"
     ]
    }
   ],
   "source": [
    "print(\"hello world\")"
   ]
  },
  {
   "cell_type": "code",
   "execution_count": 2,
   "id": "5e5ff8a5-0b16-467b-95b0-7c596dc5007a",
   "metadata": {},
   "outputs": [
    {
     "name": "stdout",
     "output_type": "stream",
     "text": [
      "hello world\n"
     ]
    }
   ],
   "source": [
    "print('hello world')"
   ]
  },
  {
   "cell_type": "markdown",
   "id": "14430554-9f05-43f1-832d-ca84cee0a8a6",
   "metadata": {},
   "source": [
    "# Datatypes in python"
   ]
  },
  {
   "cell_type": "markdown",
   "id": "fe097191-829f-4bf1-9fa3-73c9a70f4e1f",
   "metadata": {},
   "source": [
    "<ul style=color:red>\n",
    "    <li>Number :-- 5,4,5.5,5+5j</li>\n",
    "    <li>String :-- \"Python\" , \"ajay\" , \"AJAY\", \"jayesh\", 'single bhi wahi kam krega' </li>\n",
    "    <li>Tuple :-- (1,2,3,4,5,6) (Immutable)</li>\n",
    "    <li>List :-- [1,2,3,4,5,6],['jayesh','sachin','ajay','shikha','radhika']</li> # list can be hetrogenous and homogenous\n",
    "    <li>Dictionary :-- {\"key\":\"value\",1:'ajay',2:'jayesh','jayesh':'sisodiya'}</li>\n",
    "    <li>set :-- {1,2,3,4,5}</li> #set have only unique values that's it\n",
    "</ul>"
   ]
  },
  {
   "cell_type": "markdown",
   "id": "d8ab7f80-0fbd-4467-a8c3-a1cbded21f92",
   "metadata": {},
   "source": [
    "## Numbers "
   ]
  },
  {
   "cell_type": "code",
   "execution_count": 6,
   "id": "d01bb7c8-61e2-47d2-adf2-be680a88f0d0",
   "metadata": {},
   "outputs": [],
   "source": [
    "a = 5"
   ]
  },
  {
   "cell_type": "code",
   "execution_count": 7,
   "id": "1246857b-0108-47f1-aebe-e982163adfdb",
   "metadata": {},
   "outputs": [
    {
     "name": "stdout",
     "output_type": "stream",
     "text": [
      "5\n"
     ]
    }
   ],
   "source": [
    "print(a)"
   ]
  },
  {
   "cell_type": "code",
   "execution_count": 8,
   "id": "8d295711-99be-4776-ac41-2d95a2c8ec4b",
   "metadata": {},
   "outputs": [
    {
     "name": "stdout",
     "output_type": "stream",
     "text": [
      "5.5 <class 'float'>\n"
     ]
    }
   ],
   "source": [
    "b = 5.5 \n",
    "print(b,type(b))"
   ]
  },
  {
   "cell_type": "code",
   "execution_count": 9,
   "id": "a34a40e3-2d4d-41cd-aa9e-66dd7a1f7076",
   "metadata": {},
   "outputs": [
    {
     "name": "stdout",
     "output_type": "stream",
     "text": [
      "<class 'int'>\n"
     ]
    }
   ],
   "source": [
    "print(type(a))"
   ]
  },
  {
   "cell_type": "code",
   "execution_count": 10,
   "id": "d0373671-e380-4470-b08d-ef0e08f0d788",
   "metadata": {},
   "outputs": [
    {
     "data": {
      "text/plain": [
       "4342275984"
      ]
     },
     "execution_count": 10,
     "metadata": {},
     "output_type": "execute_result"
    }
   ],
   "source": [
    "id(a)"
   ]
  },
  {
   "cell_type": "code",
   "execution_count": 11,
   "id": "4254526e-9851-4e16-8f4b-b7480866de78",
   "metadata": {},
   "outputs": [
    {
     "name": "stdout",
     "output_type": "stream",
     "text": [
      "(5+8j)\n",
      "<class 'complex'>\n",
      "4753648080\n"
     ]
    }
   ],
   "source": [
    "c = 5+8j\n",
    "print(c)\n",
    "print(type(c))\n",
    "print(id(c))"
   ]
  },
  {
   "cell_type": "code",
   "execution_count": 12,
   "id": "9e924efb-cb52-4372-a7e7-27950ffbb00e",
   "metadata": {},
   "outputs": [
    {
     "name": "stdout",
     "output_type": "stream",
     "text": [
      "['ArithmeticError', 'AssertionError', 'AttributeError', 'BaseException', 'BaseExceptionGroup', 'BlockingIOError', 'BrokenPipeError', 'BufferError', 'BytesWarning', 'ChildProcessError', 'ConnectionAbortedError', 'ConnectionError', 'ConnectionRefusedError', 'ConnectionResetError', 'DeprecationWarning', 'EOFError', 'Ellipsis', 'EncodingWarning', 'EnvironmentError', 'Exception', 'ExceptionGroup', 'False', 'FileExistsError', 'FileNotFoundError', 'FloatingPointError', 'FutureWarning', 'GeneratorExit', 'IOError', 'ImportError', 'ImportWarning', 'IndentationError', 'IndexError', 'InterruptedError', 'IsADirectoryError', 'KeyError', 'KeyboardInterrupt', 'LookupError', 'MemoryError', 'ModuleNotFoundError', 'NameError', 'None', 'NotADirectoryError', 'NotImplemented', 'NotImplementedError', 'OSError', 'OverflowError', 'PendingDeprecationWarning', 'PermissionError', 'ProcessLookupError', 'RecursionError', 'ReferenceError', 'ResourceWarning', 'RuntimeError', 'RuntimeWarning', 'StopAsyncIteration', 'StopIteration', 'SyntaxError', 'SyntaxWarning', 'SystemError', 'SystemExit', 'TabError', 'TimeoutError', 'True', 'TypeError', 'UnboundLocalError', 'UnicodeDecodeError', 'UnicodeEncodeError', 'UnicodeError', 'UnicodeTranslateError', 'UnicodeWarning', 'UserWarning', 'ValueError', 'Warning', 'ZeroDivisionError', '__IPYTHON__', '__build_class__', '__debug__', '__doc__', '__import__', '__loader__', '__name__', '__package__', '__spec__', 'abs', 'aiter', 'all', 'anext', 'any', 'ascii', 'bin', 'bool', 'breakpoint', 'bytearray', 'bytes', 'callable', 'chr', 'classmethod', 'compile', 'complex', 'copyright', 'credits', 'delattr', 'dict', 'dir', 'display', 'divmod', 'enumerate', 'eval', 'exec', 'execfile', 'filter', 'float', 'format', 'frozenset', 'get_ipython', 'getattr', 'globals', 'hasattr', 'hash', 'help', 'hex', 'id', 'input', 'int', 'isinstance', 'issubclass', 'iter', 'len', 'license', 'list', 'locals', 'map', 'max', 'memoryview', 'min', 'next', 'object', 'oct', 'open', 'ord', 'pow', 'print', 'property', 'range', 'repr', 'reversed', 'round', 'runfile', 'set', 'setattr', 'slice', 'sorted', 'staticmethod', 'str', 'sum', 'super', 'tuple', 'type', 'vars', 'zip']\n"
     ]
    }
   ],
   "source": [
    "import builtins\n",
    "print(dir(__builtin__))"
   ]
  },
  {
   "cell_type": "code",
   "execution_count": 13,
   "id": "485170d2-c2b8-4457-b663-760f8b5b8c9b",
   "metadata": {},
   "outputs": [
    {
     "name": "stdout",
     "output_type": "stream",
     "text": [
      "5\n",
      "6\n",
      "7\n",
      "18\n",
      "<class 'int'>\n"
     ]
    }
   ],
   "source": [
    "a = 5\n",
    "b = 6\n",
    "c = 7 \n",
    "result = a+b+c\n",
    "print(a)\n",
    "print(b)\n",
    "print(c)\n",
    "print(result)\n",
    "print(type(result))"
   ]
  },
  {
   "cell_type": "code",
   "execution_count": 14,
   "id": "161b5d1c-e6da-4f5e-8de8-edd6509e1823",
   "metadata": {},
   "outputs": [
    {
     "name": "stdout",
     "output_type": "stream",
     "text": [
      "5\n",
      "6\n",
      "7\n",
      "18\n",
      "<class 'int'>\n"
     ]
    }
   ],
   "source": [
    "print(a,b,c,result,type(result),sep='\\n')"
   ]
  },
  {
   "cell_type": "code",
   "execution_count": 15,
   "id": "0a3277c3-0c58-402a-8838-2b4a9da3af47",
   "metadata": {},
   "outputs": [
    {
     "name": "stdout",
     "output_type": "stream",
     "text": [
      "Help on built-in function print in module builtins:\n",
      "\n",
      "print(*args, sep=' ', end='\\n', file=None, flush=False)\n",
      "    Prints the values to a stream, or to sys.stdout by default.\n",
      "\n",
      "    sep\n",
      "      string inserted between values, default a space.\n",
      "    end\n",
      "      string appended after the last value, default a newline.\n",
      "    file\n",
      "      a file-like object (stream); defaults to the current sys.stdout.\n",
      "    flush\n",
      "      whether to forcibly flush the stream.\n",
      "\n",
      "None\n"
     ]
    }
   ],
   "source": [
    "print(help(print))"
   ]
  },
  {
   "cell_type": "code",
   "execution_count": 16,
   "id": "9929896b-8f85-4156-a8c2-0f0a72bac4db",
   "metadata": {},
   "outputs": [
    {
     "name": "stdout",
     "output_type": "stream",
     "text": [
      "*\n",
      "**\n",
      "***\n",
      "****\n",
      "*****\n",
      "******\n",
      "*******\n",
      "********\n",
      "*********\n",
      "**********\n"
     ]
    }
   ],
   "source": [
    "def p(ajay):\n",
    "    return ajay\n",
    "\n",
    "for var in range(1,11):\n",
    "    print(var*'*')"
   ]
  },
  {
   "cell_type": "code",
   "execution_count": 17,
   "id": "14d0b73e-205f-4f8d-a4d6-4abe6799537d",
   "metadata": {},
   "outputs": [
    {
     "data": {
      "text/plain": [
       "5"
      ]
     },
     "execution_count": 17,
     "metadata": {},
     "output_type": "execute_result"
    }
   ],
   "source": [
    "a"
   ]
  },
  {
   "cell_type": "code",
   "execution_count": 18,
   "id": "51fa84da-a1b0-4650-b31a-7dd51ec4f5ac",
   "metadata": {},
   "outputs": [
    {
     "name": "stdout",
     "output_type": "stream",
     "text": [
      "['__abs__', '__add__', '__and__', '__bool__', '__ceil__', '__class__', '__delattr__', '__dir__', '__divmod__', '__doc__', '__eq__', '__float__', '__floor__', '__floordiv__', '__format__', '__ge__', '__getattribute__', '__getnewargs__', '__getstate__', '__gt__', '__hash__', '__index__', '__init__', '__init_subclass__', '__int__', '__invert__', '__le__', '__lshift__', '__lt__', '__mod__', '__mul__', '__ne__', '__neg__', '__new__', '__or__', '__pos__', '__pow__', '__radd__', '__rand__', '__rdivmod__', '__reduce__', '__reduce_ex__', '__repr__', '__rfloordiv__', '__rlshift__', '__rmod__', '__rmul__', '__ror__', '__round__', '__rpow__', '__rrshift__', '__rshift__', '__rsub__', '__rtruediv__', '__rxor__', '__setattr__', '__sizeof__', '__str__', '__sub__', '__subclasshook__', '__truediv__', '__trunc__', '__xor__', 'as_integer_ratio', 'bit_count', 'bit_length', 'conjugate', 'denominator', 'from_bytes', 'imag', 'is_integer', 'numerator', 'real', 'to_bytes']\n"
     ]
    }
   ],
   "source": [
    "print(dir(a)) #__add__ is called magic or dunder methods "
   ]
  },
  {
   "cell_type": "code",
   "execution_count": 19,
   "id": "4cc5b341-ddbb-484e-8d14-0427833d9c8f",
   "metadata": {},
   "outputs": [
    {
     "data": {
      "text/plain": [
       "11"
      ]
     },
     "execution_count": 19,
     "metadata": {},
     "output_type": "execute_result"
    }
   ],
   "source": [
    "a + b"
   ]
  },
  {
   "cell_type": "code",
   "execution_count": 20,
   "id": "a8643e2f-1bad-4811-9da3-7fa57814be5c",
   "metadata": {},
   "outputs": [
    {
     "data": {
      "text/plain": [
       "11"
      ]
     },
     "execution_count": 20,
     "metadata": {},
     "output_type": "execute_result"
    }
   ],
   "source": [
    "a.__add__(b)"
   ]
  },
  {
   "cell_type": "code",
   "execution_count": 44,
   "id": "abebe574-0098-4e45-bef4-97e68f501e21",
   "metadata": {},
   "outputs": [
    {
     "name": "stdout",
     "output_type": "stream",
     "text": [
      "<class 'int'>\n"
     ]
    }
   ],
   "source": [
    "print(type(a))"
   ]
  },
  {
   "cell_type": "code",
   "execution_count": 46,
   "id": "161f4bce-e987-4994-857c-7db9c4878dd2",
   "metadata": {},
   "outputs": [
    {
     "data": {
      "text/plain": [
       "(5, 1)"
      ]
     },
     "execution_count": 46,
     "metadata": {},
     "output_type": "execute_result"
    }
   ],
   "source": [
    "a.as_integer_ratio()"
   ]
  },
  {
   "cell_type": "code",
   "execution_count": 48,
   "id": "7b2b733e-3f2c-4235-a04d-6ade28d35a7d",
   "metadata": {},
   "outputs": [],
   "source": [
    "def add(a,b):\n",
    "    return a + b"
   ]
  },
  {
   "cell_type": "code",
   "execution_count": 50,
   "id": "7849fc31-4dce-419a-bf9d-db9a8629d8ff",
   "metadata": {},
   "outputs": [
    {
     "data": {
      "text/plain": [
       "11"
      ]
     },
     "execution_count": 50,
     "metadata": {},
     "output_type": "execute_result"
    }
   ],
   "source": [
    "add(5,6)"
   ]
  },
  {
   "cell_type": "code",
   "execution_count": 52,
   "id": "8bfa6cd7-ba2a-4eec-aa5e-dc4ec376b0e0",
   "metadata": {},
   "outputs": [
    {
     "data": {
      "text/plain": [
       "2"
      ]
     },
     "execution_count": 52,
     "metadata": {},
     "output_type": "execute_result"
    }
   ],
   "source": [
    "a.bit_count()"
   ]
  },
  {
   "cell_type": "code",
   "execution_count": 54,
   "id": "35170a31-7216-4563-8e4f-244ebc61ebc7",
   "metadata": {},
   "outputs": [
    {
     "data": {
      "text/plain": [
       "5"
      ]
     },
     "execution_count": 54,
     "metadata": {},
     "output_type": "execute_result"
    }
   ],
   "source": [
    "a"
   ]
  },
  {
   "cell_type": "code",
   "execution_count": 56,
   "id": "c064057d-24ce-4a98-848f-073e52151dda",
   "metadata": {},
   "outputs": [
    {
     "data": {
      "text/plain": [
       "3"
      ]
     },
     "execution_count": 56,
     "metadata": {},
     "output_type": "execute_result"
    }
   ],
   "source": [
    "a.bit_length()"
   ]
  },
  {
   "cell_type": "code",
   "execution_count": 60,
   "id": "572a17dc-ba39-4ddd-bf21-d31fb6624dd7",
   "metadata": {},
   "outputs": [],
   "source": [
    "b = 16"
   ]
  },
  {
   "cell_type": "code",
   "execution_count": 62,
   "id": "646adc0e-2137-4a37-a5b0-855bd061102a",
   "metadata": {},
   "outputs": [
    {
     "data": {
      "text/plain": [
       "1"
      ]
     },
     "execution_count": 62,
     "metadata": {},
     "output_type": "execute_result"
    }
   ],
   "source": [
    "b.bit_count()"
   ]
  },
  {
   "cell_type": "code",
   "execution_count": 88,
   "id": "614e3fc0-f8bc-4435-a4ea-6cf6b537c811",
   "metadata": {},
   "outputs": [],
   "source": [
    "c = 4+5j"
   ]
  },
  {
   "cell_type": "code",
   "execution_count": 66,
   "id": "94bdfb54-f597-4592-8e3d-eb7e7f3ef27a",
   "metadata": {},
   "outputs": [
    {
     "data": {
      "text/plain": [
       "(4-5j)"
      ]
     },
     "execution_count": 66,
     "metadata": {},
     "output_type": "execute_result"
    }
   ],
   "source": [
    "c.conjugate()"
   ]
  },
  {
   "cell_type": "code",
   "execution_count": 74,
   "id": "e66fa488-a7ce-4bd4-800d-e324c704405a",
   "metadata": {},
   "outputs": [
    {
     "data": {
      "text/plain": [
       "1"
      ]
     },
     "execution_count": 74,
     "metadata": {},
     "output_type": "execute_result"
    }
   ],
   "source": [
    "b.denominator  # ask me at the time class and object "
   ]
  },
  {
   "cell_type": "code",
   "execution_count": 76,
   "id": "cb6e6a42-e4c8-471a-9e47-35a2b18e8a32",
   "metadata": {},
   "outputs": [],
   "source": [
    "c = 5"
   ]
  },
  {
   "cell_type": "code",
   "execution_count": 78,
   "id": "6243b85a-2a33-4f23-a391-cb717a17cc0a",
   "metadata": {},
   "outputs": [
    {
     "data": {
      "text/plain": [
       "1"
      ]
     },
     "execution_count": 78,
     "metadata": {},
     "output_type": "execute_result"
    }
   ],
   "source": [
    "c.denominator"
   ]
  },
  {
   "cell_type": "code",
   "execution_count": 80,
   "id": "79c3768f-a884-4560-a698-6b807fefe816",
   "metadata": {},
   "outputs": [],
   "source": [
    "c = 5.5 "
   ]
  },
  {
   "cell_type": "code",
   "execution_count": 90,
   "id": "9b47a7d1-afa9-4ff2-be5a-31ee9c785110",
   "metadata": {},
   "outputs": [
    {
     "data": {
      "text/plain": [
       "5.0"
      ]
     },
     "execution_count": 90,
     "metadata": {},
     "output_type": "execute_result"
    }
   ],
   "source": [
    "c.imag"
   ]
  },
  {
   "cell_type": "code",
   "execution_count": 92,
   "id": "f9e4968d-5870-4c41-85b8-1b1b2dbeda82",
   "metadata": {},
   "outputs": [
    {
     "data": {
      "text/plain": [
       "4.0"
      ]
     },
     "execution_count": 92,
     "metadata": {},
     "output_type": "execute_result"
    }
   ],
   "source": [
    "c.real"
   ]
  },
  {
   "cell_type": "code",
   "execution_count": 94,
   "id": "91489074-84d0-4d74-88c4-850817917f7a",
   "metadata": {},
   "outputs": [
    {
     "data": {
      "text/plain": [
       "5"
      ]
     },
     "execution_count": 94,
     "metadata": {},
     "output_type": "execute_result"
    }
   ],
   "source": [
    "a"
   ]
  },
  {
   "cell_type": "code",
   "execution_count": 98,
   "id": "6fc1d07d-d601-4289-b4a8-20371527ddb3",
   "metadata": {},
   "outputs": [
    {
     "data": {
      "text/plain": [
       "True"
      ]
     },
     "execution_count": 98,
     "metadata": {},
     "output_type": "execute_result"
    }
   ],
   "source": [
    "a.is_integer()"
   ]
  },
  {
   "cell_type": "code",
   "execution_count": 100,
   "id": "ec10e44e-5e88-4a27-a9c7-7cca98bf2e06",
   "metadata": {},
   "outputs": [],
   "source": [
    "# True 1\n",
    "# False 0     \n",
    "# and #or #nor "
   ]
  },
  {
   "cell_type": "markdown",
   "id": "b7c64d3d-5b84-46f8-b572-b82fce45cbee",
   "metadata": {},
   "source": [
    "# Strings in python"
   ]
  },
  {
   "cell_type": "code",
   "execution_count": 106,
   "id": "67e0fa5a-c26a-4a5c-a77c-43ec1d921fc3",
   "metadata": {},
   "outputs": [],
   "source": [
    "a = \"python \"\n",
    "b = \"is awsome\""
   ]
  },
  {
   "cell_type": "code",
   "execution_count": 108,
   "id": "72b5a08b-2300-4cc9-8f4d-445edc32ed88",
   "metadata": {},
   "outputs": [
    {
     "name": "stdout",
     "output_type": "stream",
     "text": [
      "python is awsome\n"
     ]
    }
   ],
   "source": [
    "print(a + b)  #concatenation"
   ]
  },
  {
   "cell_type": "code",
   "execution_count": 110,
   "id": "6f9e378f-b524-4b0b-a5cb-47c79f8c9275",
   "metadata": {},
   "outputs": [
    {
     "name": "stdout",
     "output_type": "stream",
     "text": [
      "python python python python python \n"
     ]
    }
   ],
   "source": [
    "print(a * 5) #replication"
   ]
  },
  {
   "cell_type": "code",
   "execution_count": 116,
   "id": "54b2418f-f66a-4ffa-acce-f2e371402463",
   "metadata": {},
   "outputs": [
    {
     "name": "stdout",
     "output_type": "stream",
     "text": [
      "Jayesh \tis intelligent\n"
     ]
    }
   ],
   "source": [
    "a = 'Jayesh '\n",
    "b = \"is intelligent\"\n",
    "print(a,b,sep='\\t') #\\t is for tab #\\n is for new line "
   ]
  },
  {
   "cell_type": "code",
   "execution_count": 120,
   "id": "3bcd34ff-1365-48a3-8edb-95508bcb985e",
   "metadata": {},
   "outputs": [
    {
     "name": "stdout",
     "output_type": "stream",
     "text": [
      "today's weather is awsome\n",
      "today\"s weather is awsome\n"
     ]
    }
   ],
   "source": [
    "#c = \"today\"s weather is awsome\"\n",
    "d = \"today's weather is awsome\"\n",
    "e = 'today\"s weather is awsome'\n",
    "print(d,e,sep='\\n')"
   ]
  },
  {
   "cell_type": "code",
   "execution_count": 124,
   "id": "e520fa35-dfa7-41c2-bc81-c16c1ec90b56",
   "metadata": {},
   "outputs": [
    {
     "name": "stdout",
     "output_type": "stream",
     "text": [
      "hello world python is awosome \n",
      "mazee aa rhe hai ndovjsdnvd\n",
      "nivodjnv\n",
      "djnodijvn\n",
      "ndofknndsjvn\n",
      "nsdvjdnosd\n",
      "dnvjidonvdv\n"
     ]
    }
   ],
   "source": [
    "d = \"\"\"hello world python is awosome \n",
    "mazee aa rhe hai ndovjsdnvd\n",
    "nivodjnv\n",
    "djnodijvn\n",
    "ndofknndsjvn\n",
    "nsdvjdnosd\n",
    "dnvjidonvdv\"\"\"\n",
    "\n",
    "print(d)"
   ]
  },
  {
   "cell_type": "code",
   "execution_count": 128,
   "id": "2cec44a5-755a-4c01-a564-6d487e4616dd",
   "metadata": {},
   "outputs": [
    {
     "name": "stdout",
     "output_type": "stream",
     "text": [
      "['__add__', '__class__', '__contains__', '__delattr__', '__dir__', '__doc__', '__eq__', '__format__', '__ge__', '__getattribute__', '__getitem__', '__getnewargs__', '__getstate__', '__gt__', '__hash__', '__init__', '__init_subclass__', '__iter__', '__le__', '__len__', '__lt__', '__mod__', '__mul__', '__ne__', '__new__', '__reduce__', '__reduce_ex__', '__repr__', '__rmod__', '__rmul__', '__setattr__', '__sizeof__', '__str__', '__subclasshook__', 'capitalize', 'casefold', 'center', 'count', 'encode', 'endswith', 'expandtabs', 'find', 'format', 'format_map', 'index', 'isalnum', 'isalpha', 'isascii', 'isdecimal', 'isdigit', 'isidentifier', 'islower', 'isnumeric', 'isprintable', 'isspace', 'istitle', 'isupper', 'join', 'ljust', 'lower', 'lstrip', 'maketrans', 'partition', 'removeprefix', 'removesuffix', 'replace', 'rfind', 'rindex', 'rjust', 'rpartition', 'rsplit', 'rstrip', 'split', 'splitlines', 'startswith', 'strip', 'swapcase', 'title', 'translate', 'upper', 'zfill']\n"
     ]
    }
   ],
   "source": [
    "print(dir(d))"
   ]
  },
  {
   "cell_type": "code",
   "execution_count": 130,
   "id": "4176d87e-4156-40d0-9872-156796b261b8",
   "metadata": {},
   "outputs": [
    {
     "name": "stdout",
     "output_type": "stream",
     "text": [
      "<class 'str'>\n"
     ]
    }
   ],
   "source": [
    "print(type(d))"
   ]
  },
  {
   "cell_type": "code",
   "execution_count": 134,
   "id": "c7382cb9-242e-4b47-9563-417b6ffb6b66",
   "metadata": {},
   "outputs": [
    {
     "name": "stdout",
     "output_type": "stream",
     "text": [
      "Python is awsome\n"
     ]
    }
   ],
   "source": [
    "a = 'python is awsome'\n",
    "print(a.capitalize())"
   ]
  },
  {
   "cell_type": "code",
   "execution_count": 146,
   "id": "0139fdd8-47a7-41d3-9399-9288f57a2797",
   "metadata": {},
   "outputs": [],
   "source": [
    "b = 'Abra Ka DABRA'"
   ]
  },
  {
   "cell_type": "code",
   "execution_count": 148,
   "id": "91bb9f9c-4680-4c89-b4f1-fb86e1a3bda8",
   "metadata": {},
   "outputs": [
    {
     "data": {
      "text/plain": [
       "'abra ka dabra'"
      ]
     },
     "execution_count": 148,
     "metadata": {},
     "output_type": "execute_result"
    }
   ],
   "source": [
    "b.casefold()"
   ]
  },
  {
   "cell_type": "code",
   "execution_count": 150,
   "id": "826cd7c9-2135-47f6-be4f-f332dbf34641",
   "metadata": {},
   "outputs": [],
   "source": [
    "a = 'jayesh'"
   ]
  },
  {
   "cell_type": "code",
   "execution_count": 158,
   "id": "4e7f0620-cae6-4a71-8a79-844003a42e15",
   "metadata": {},
   "outputs": [
    {
     "data": {
      "text/plain": [
       "'                 jayesh                 '"
      ]
     },
     "execution_count": 158,
     "metadata": {},
     "output_type": "execute_result"
    }
   ],
   "source": [
    "a.center(40)"
   ]
  },
  {
   "cell_type": "code",
   "execution_count": 160,
   "id": "eb55fb08-8fa7-441b-9957-99913f13baff",
   "metadata": {},
   "outputs": [
    {
     "name": "stdout",
     "output_type": "stream",
     "text": [
      "5\n"
     ]
    }
   ],
   "source": [
    "a = 'ajay is awsome ajay is very stupid'\n",
    "num = a.count('a')\n",
    "print(num)"
   ]
  },
  {
   "cell_type": "code",
   "execution_count": 162,
   "id": "70297bd2-a453-4a67-a0af-250a662dfe55",
   "metadata": {},
   "outputs": [
    {
     "name": "stdout",
     "output_type": "stream",
     "text": [
      "a =  5\n",
      "e =  8\n",
      "i =  4\n",
      "o =  5\n",
      "u =  1\n"
     ]
    }
   ],
   "source": [
    "st = \"share market is very low these days we are not getting any profit out of it\"\n",
    "a = st.count('a')\n",
    "e = st.count('e')\n",
    "o = st.count('o')\n",
    "i = st.count('i')\n",
    "u = st.count('u')\n",
    "print('a = ',a)\n",
    "print('e = ',e)\n",
    "print('i = ',i)\n",
    "print('o = ',o)\n",
    "print('u = ',u)"
   ]
  },
  {
   "cell_type": "code",
   "execution_count": 168,
   "id": "c55af830-bfe8-4ce2-8fc6-b3e444094097",
   "metadata": {
    "scrolled": true
   },
   "outputs": [
    {
     "name": "stdout",
     "output_type": "stream",
     "text": [
      "s h a r e   m a r k e t   i s   v e r y   l o w   t h e s e   d a y s   w e   a r e   n o t   g e t t i n g   a n y   p r o f i t   o u t   o f   i t "
     ]
    }
   ],
   "source": [
    "y = 0\n",
    "for var in st:\n",
    "    if var=='a':\n",
    "        y+=1\n",
    "    print(var,end=' ')"
   ]
  },
  {
   "cell_type": "code",
   "execution_count": 166,
   "id": "6790adee-4865-4816-a442-4449e19e91e6",
   "metadata": {},
   "outputs": [
    {
     "data": {
      "text/plain": [
       "5"
      ]
     },
     "execution_count": 166,
     "metadata": {},
     "output_type": "execute_result"
    }
   ],
   "source": [
    "y"
   ]
  },
  {
   "cell_type": "code",
   "execution_count": 170,
   "id": "7f76b4f1-c753-41eb-96bd-5baa0c0b6d34",
   "metadata": {},
   "outputs": [],
   "source": [
    "def my_count(string,word):\n",
    "    y = 0\n",
    "    for var in string:\n",
    "        if var == word:\n",
    "            y += 1\n",
    "    return y"
   ]
  },
  {
   "cell_type": "code",
   "execution_count": 174,
   "id": "5c61211d-a3d7-421e-9ea6-324868ff615d",
   "metadata": {},
   "outputs": [
    {
     "data": {
      "text/plain": [
       "8"
      ]
     },
     "execution_count": 174,
     "metadata": {},
     "output_type": "execute_result"
    }
   ],
   "source": [
    "my_count(string=\"share market is very low these days we are not getting any profit out of it\",word='e')"
   ]
  },
  {
   "cell_type": "code",
   "execution_count": 176,
   "id": "aeaf2726-9f3c-4b78-af95-053a3705e4f0",
   "metadata": {},
   "outputs": [
    {
     "data": {
      "text/plain": [
       "5"
      ]
     },
     "execution_count": 176,
     "metadata": {},
     "output_type": "execute_result"
    }
   ],
   "source": [
    "a"
   ]
  },
  {
   "cell_type": "code",
   "execution_count": 178,
   "id": "28388f3f-93bc-4e29-8538-4f3efbc54484",
   "metadata": {},
   "outputs": [],
   "source": [
    "a = 'a'"
   ]
  },
  {
   "cell_type": "code",
   "execution_count": 188,
   "id": "d94072e0-cea3-44db-81b2-fc29830f4957",
   "metadata": {},
   "outputs": [
    {
     "data": {
      "text/plain": [
       "'a'"
      ]
     },
     "execution_count": 188,
     "metadata": {},
     "output_type": "execute_result"
    }
   ],
   "source": [
    "a"
   ]
  },
  {
   "cell_type": "code",
   "execution_count": 192,
   "id": "7a997a73-ad78-435a-8343-63fc4155b155",
   "metadata": {},
   "outputs": [
    {
     "data": {
      "text/plain": [
       "b'a'"
      ]
     },
     "execution_count": 192,
     "metadata": {},
     "output_type": "execute_result"
    }
   ],
   "source": [
    "a.encode()"
   ]
  },
  {
   "cell_type": "code",
   "execution_count": 196,
   "id": "6d420255-2b67-4044-82bc-69682914744d",
   "metadata": {},
   "outputs": [
    {
     "data": {
      "text/plain": [
       "'share market is very low these days we are not getting any profit out of it'"
      ]
     },
     "execution_count": 196,
     "metadata": {},
     "output_type": "execute_result"
    }
   ],
   "source": [
    "st"
   ]
  },
  {
   "cell_type": "code",
   "execution_count": 198,
   "id": "8fada619-2cc4-43f9-a554-a2ff2aa9b5b7",
   "metadata": {},
   "outputs": [
    {
     "data": {
      "text/plain": [
       "True"
      ]
     },
     "execution_count": 198,
     "metadata": {},
     "output_type": "execute_result"
    }
   ],
   "source": [
    "st.endswith('t')"
   ]
  },
  {
   "cell_type": "code",
   "execution_count": 200,
   "id": "75957db3-f8ae-41a2-a640-4547e562372b",
   "metadata": {},
   "outputs": [
    {
     "data": {
      "text/plain": [
       "False"
      ]
     },
     "execution_count": 200,
     "metadata": {},
     "output_type": "execute_result"
    }
   ],
   "source": [
    "st.endswith('y')"
   ]
  },
  {
   "cell_type": "code",
   "execution_count": 202,
   "id": "dbbaf8c4-eca9-4881-90b1-f0d3ff185c21",
   "metadata": {},
   "outputs": [],
   "source": [
    "l = []\n",
    "l1 = ['sample','apple','nothing','hello','bye','these','shine','rhyme','rose','ajay','jayes','shubham']"
   ]
  },
  {
   "cell_type": "code",
   "execution_count": 204,
   "id": "d59694f1-7e09-4001-9035-513790171a8e",
   "metadata": {},
   "outputs": [],
   "source": [
    "for var in l1:\n",
    "    if var.endswith('e'):\n",
    "        l.append(var)"
   ]
  },
  {
   "cell_type": "code",
   "execution_count": 206,
   "id": "179d0f10-e9ee-42d3-8249-2249cb3597d9",
   "metadata": {},
   "outputs": [
    {
     "data": {
      "text/plain": [
       "['sample', 'apple', 'bye', 'these', 'shine', 'rhyme', 'rose']"
      ]
     },
     "execution_count": 206,
     "metadata": {},
     "output_type": "execute_result"
    }
   ],
   "source": [
    "l"
   ]
  },
  {
   "cell_type": "code",
   "execution_count": 212,
   "id": "ff56bba4-0d2d-4e09-8710-60a71dfdbef1",
   "metadata": {},
   "outputs": [
    {
     "data": {
      "text/plain": [
       "'hello                          world                         sachin                        python                        ajay                          shubham                       radhika                       honey                         ankit                         romy'"
      ]
     },
     "execution_count": 212,
     "metadata": {},
     "output_type": "execute_result"
    }
   ],
   "source": [
    "sti = 'hello \\t world \\t sachin \\t python \\t ajay \\t shubham \\t radhika \\t honey \\t ankit \\t romy'\n",
    "sti.expandtabs(30)"
   ]
  },
  {
   "cell_type": "code",
   "execution_count": 218,
   "id": "7d21596c-1043-4f2b-a62a-8705e1b8c5f3",
   "metadata": {},
   "outputs": [
    {
     "data": {
      "text/plain": [
       "9"
      ]
     },
     "execution_count": 218,
     "metadata": {},
     "output_type": "execute_result"
    }
   ],
   "source": [
    "sti.find('o',5)"
   ]
  },
  {
   "cell_type": "code",
   "execution_count": 222,
   "id": "443bff22-004a-4afd-9092-8ec92849c679",
   "metadata": {},
   "outputs": [
    {
     "name": "stdin",
     "output_type": "stream",
     "text": [
      "enter your first name :  jayesh\n",
      "enter your last name :  sisodiya\n",
      "enter your father\"s name :  sanjay ji\n",
      "enter your roll no :  11\n"
     ]
    },
    {
     "name": "stdout",
     "output_type": "stream",
     "text": [
      "your first name is jayesh your last name is sisodiya and your father's name is sanjay ji and your roll no. is this 11\n"
     ]
    }
   ],
   "source": [
    "name = input('enter your first name : ')\n",
    "l_name = input('enter your last name : ')\n",
    "fname = input('enter your father\"s name : ')\n",
    "roll_no = input('enter your roll no : ')\n",
    "sti = \"your first name is {} your last name is {} and your father's name is {} and your roll no. is this {}\"\n",
    "print(sti.format(name,l_name,fname,roll_no))"
   ]
  },
  {
   "cell_type": "code",
   "execution_count": 224,
   "id": "b91fc449-a7e0-4206-bf35-ff2e92a8e2b1",
   "metadata": {},
   "outputs": [
    {
     "name": "stdin",
     "output_type": "stream",
     "text": [
      "enter your first name :  ajay\n",
      "enter your last name :  yadav\n",
      "enter your father\"s name :  kamal\n",
      "enter your roll no :  1\n"
     ]
    },
    {
     "name": "stdout",
     "output_type": "stream",
     "text": [
      "your first name is ajay your last name is yadav and your father's name is kamal and your roll no. is this 1\n"
     ]
    }
   ],
   "source": [
    "name = input('enter your first name : ')\n",
    "l_name = input('enter your last name : ')\n",
    "fname = input('enter your father\"s name : ')\n",
    "roll_no = input('enter your roll no : ')\n",
    "sti = f\"your first name is {name} your last name is {l_name} and your father's name is {fname} and your roll no. is this {roll_no}\"\n",
    "print(sti)"
   ]
  },
  {
   "cell_type": "code",
   "execution_count": 4,
   "id": "3f85ea31-7bb0-4f4d-8280-fd96d83707ec",
   "metadata": {},
   "outputs": [
    {
     "name": "stdout",
     "output_type": "stream",
     "text": [
      "jayesh\n",
      "Sisodiya\n",
      "['__add__', '__class__', '__contains__', '__delattr__', '__dir__', '__doc__', '__eq__', '__format__', '__ge__', '__getattribute__', '__getitem__', '__getnewargs__', '__getstate__', '__gt__', '__hash__', '__init__', '__init_subclass__', '__iter__', '__le__', '__len__', '__lt__', '__mod__', '__mul__', '__ne__', '__new__', '__reduce__', '__reduce_ex__', '__repr__', '__rmod__', '__rmul__', '__setattr__', '__sizeof__', '__str__', '__subclasshook__', 'capitalize', 'casefold', 'center', 'count', 'encode', 'endswith', 'expandtabs', 'find', 'format', 'format_map', 'index', 'isalnum', 'isalpha', 'isascii', 'isdecimal', 'isdigit', 'isidentifier', 'islower', 'isnumeric', 'isprintable', 'isspace', 'istitle', 'isupper', 'join', 'ljust', 'lower', 'lstrip', 'maketrans', 'partition', 'removeprefix', 'removesuffix', 'replace', 'rfind', 'rindex', 'rjust', 'rpartition', 'rsplit', 'rstrip', 'split', 'splitlines', 'startswith', 'strip', 'swapcase', 'title', 'translate', 'upper', 'zfill']\n"
     ]
    }
   ],
   "source": [
    "a = \"jayesh\" \n",
    "b = \"Sisodiya\"\n",
    "print(a) \n",
    "print(b)\n",
    "print(dir(a))"
   ]
  },
  {
   "cell_type": "code",
   "execution_count": 10,
   "id": "d6d3c8b3-0a2e-4ee3-b171-4d00043f447a",
   "metadata": {},
   "outputs": [
    {
     "name": "stdout",
     "output_type": "stream",
     "text": [
      "My first name is jayesh and my last name is sisodiya and father sanjay and roll no 4545\n"
     ]
    }
   ],
   "source": [
    "jayesh = {'fname':'jayesh','lname':'sisodiya','father':'sanjay','roll_no':4545}\n",
    "result = \"My first name is {fname} and my last name is {lname} and father {father} and roll no {roll_no}\".format_map(jayesh)\n",
    "print(result)"
   ]
  },
  {
   "cell_type": "code",
   "execution_count": 12,
   "id": "3217bd70-bc3b-43b2-b4e7-d0a28018a6b9",
   "metadata": {},
   "outputs": [
    {
     "name": "stdout",
     "output_type": "stream",
     "text": [
      "{'fname': 'jayesh', 'lname': 'sisodiya', 'father': 'sanjay', 'roll_no': 4545}\n"
     ]
    }
   ],
   "source": [
    "print(jayesh)"
   ]
  },
  {
   "cell_type": "code",
   "execution_count": 14,
   "id": "0508c844-599f-449c-8e52-36fb79604e9d",
   "metadata": {},
   "outputs": [],
   "source": [
    "a = \"shubham\""
   ]
  },
  {
   "cell_type": "code",
   "execution_count": 20,
   "id": "cc66f06c-6f83-4f16-92d2-b2ce2b948c65",
   "metadata": {},
   "outputs": [
    {
     "data": {
      "text/plain": [
       "2"
      ]
     },
     "execution_count": 20,
     "metadata": {},
     "output_type": "execute_result"
    }
   ],
   "source": [
    "a.index('u')"
   ]
  },
  {
   "cell_type": "code",
   "execution_count": 22,
   "id": "05c943e3-ef8c-4965-9446-a799301b8695",
   "metadata": {},
   "outputs": [
    {
     "ename": "ValueError",
     "evalue": "substring not found",
     "output_type": "error",
     "traceback": [
      "\u001b[0;31m---------------------------------------------------------------------------\u001b[0m",
      "\u001b[0;31mValueError\u001b[0m                                Traceback (most recent call last)",
      "Cell \u001b[0;32mIn[22], line 1\u001b[0m\n\u001b[0;32m----> 1\u001b[0m a\u001b[38;5;241m.\u001b[39mindex(\u001b[38;5;124m'\u001b[39m\u001b[38;5;124mu\u001b[39m\u001b[38;5;124m'\u001b[39m,\u001b[38;5;241m3\u001b[39m)\n",
      "\u001b[0;31mValueError\u001b[0m: substring not found"
     ]
    }
   ],
   "source": [
    "a.index('u',3)"
   ]
  },
  {
   "cell_type": "code",
   "execution_count": 24,
   "id": "76fb56a4-24e7-4ac0-92f5-fe1c95bd49b5",
   "metadata": {},
   "outputs": [],
   "source": [
    "# True and False is called boolean values or boolean data"
   ]
  },
  {
   "cell_type": "code",
   "execution_count": 26,
   "id": "f4cb96f9-7104-480e-a93b-2955b0fd6a79",
   "metadata": {},
   "outputs": [
    {
     "data": {
      "text/plain": [
       "False"
      ]
     },
     "execution_count": 26,
     "metadata": {},
     "output_type": "execute_result"
    }
   ],
   "source": [
    "a = 'sachin yadav'\n",
    "a.isalnum()"
   ]
  },
  {
   "cell_type": "code",
   "execution_count": 28,
   "id": "9fe2827b-7c7f-4c87-b3cc-0a136c476f33",
   "metadata": {},
   "outputs": [
    {
     "data": {
      "text/plain": [
       "False"
      ]
     },
     "execution_count": 28,
     "metadata": {},
     "output_type": "execute_result"
    }
   ],
   "source": [
    "a.isalpha()"
   ]
  },
  {
   "cell_type": "code",
   "execution_count": 30,
   "id": "2fbc7181-5517-48bc-a065-f35674594a0d",
   "metadata": {},
   "outputs": [],
   "source": [
    "b = 'sachin'"
   ]
  },
  {
   "cell_type": "code",
   "execution_count": 32,
   "id": "ded95634-442c-4a67-b3c8-e84bf2a66068",
   "metadata": {},
   "outputs": [
    {
     "data": {
      "text/plain": [
       "True"
      ]
     },
     "execution_count": 32,
     "metadata": {},
     "output_type": "execute_result"
    }
   ],
   "source": [
    "b.isalpha()"
   ]
  },
  {
   "cell_type": "code",
   "execution_count": 34,
   "id": "212fd86e-8f87-4f49-bcd2-e34a381233ee",
   "metadata": {},
   "outputs": [
    {
     "data": {
      "text/plain": [
       "True"
      ]
     },
     "execution_count": 34,
     "metadata": {},
     "output_type": "execute_result"
    }
   ],
   "source": [
    "b = 'sachin12'\n",
    "b.isalnum()"
   ]
  },
  {
   "cell_type": "code",
   "execution_count": 36,
   "id": "7e7c84d0-2073-4b54-a504-aec0621793b7",
   "metadata": {},
   "outputs": [],
   "source": [
    "c = 'sachin_yadav'"
   ]
  },
  {
   "cell_type": "code",
   "execution_count": 38,
   "id": "992e82e2-7dda-4c29-a993-703f54152a71",
   "metadata": {},
   "outputs": [
    {
     "data": {
      "text/plain": [
       "False"
      ]
     },
     "execution_count": 38,
     "metadata": {},
     "output_type": "execute_result"
    }
   ],
   "source": [
    "c.isalpha()"
   ]
  },
  {
   "cell_type": "code",
   "execution_count": 40,
   "id": "9889a033-d12f-4751-a2b3-ceeb2c373d93",
   "metadata": {},
   "outputs": [
    {
     "data": {
      "text/plain": [
       "True"
      ]
     },
     "execution_count": 40,
     "metadata": {},
     "output_type": "execute_result"
    }
   ],
   "source": [
    "c.isidentifier()"
   ]
  },
  {
   "cell_type": "code",
   "execution_count": 44,
   "id": "e8b0270d-eb5f-4af0-86c7-08c3c4bb7311",
   "metadata": {},
   "outputs": [
    {
     "data": {
      "text/plain": [
       "True"
      ]
     },
     "execution_count": 44,
     "metadata": {},
     "output_type": "execute_result"
    }
   ],
   "source": [
    "a = 'helloworld'\n",
    "a.isidentifier()"
   ]
  },
  {
   "cell_type": "code",
   "execution_count": 46,
   "id": "7701566c-49f0-4d62-8043-a0cfd9ca8dfb",
   "metadata": {},
   "outputs": [],
   "source": [
    "a = 'PAMMU'"
   ]
  },
  {
   "cell_type": "code",
   "execution_count": 48,
   "id": "446a3898-80d1-40f9-b45f-4e7a6a88c872",
   "metadata": {},
   "outputs": [
    {
     "data": {
      "text/plain": [
       "False"
      ]
     },
     "execution_count": 48,
     "metadata": {},
     "output_type": "execute_result"
    }
   ],
   "source": [
    "a.islower()"
   ]
  },
  {
   "cell_type": "code",
   "execution_count": 50,
   "id": "0c06e048-729d-4b14-a76c-5db3109306e8",
   "metadata": {},
   "outputs": [
    {
     "data": {
      "text/plain": [
       "True"
      ]
     },
     "execution_count": 50,
     "metadata": {},
     "output_type": "execute_result"
    }
   ],
   "source": [
    "a.isupper()"
   ]
  },
  {
   "cell_type": "code",
   "execution_count": 54,
   "id": "03d61cd6-c020-4cd8-8d36-31e2b5397893",
   "metadata": {},
   "outputs": [
    {
     "name": "stdout",
     "output_type": "stream",
     "text": [
      "Pammu\n"
     ]
    }
   ],
   "source": [
    "b = a.title()\n",
    "print(b)"
   ]
  },
  {
   "cell_type": "code",
   "execution_count": 56,
   "id": "81ce6f15-6303-4742-9b9c-64b14df9f1ca",
   "metadata": {},
   "outputs": [
    {
     "data": {
      "text/plain": [
       "True"
      ]
     },
     "execution_count": 56,
     "metadata": {},
     "output_type": "execute_result"
    }
   ],
   "source": [
    "b.istitle()"
   ]
  },
  {
   "cell_type": "code",
   "execution_count": 58,
   "id": "bdfc7977-aa5c-4ba9-b805-88be117cd551",
   "metadata": {},
   "outputs": [],
   "source": [
    "a = '                                           78ankit'"
   ]
  },
  {
   "cell_type": "code",
   "execution_count": 60,
   "id": "3eeed3fa-c16e-45bd-b60b-4c5990889db5",
   "metadata": {},
   "outputs": [
    {
     "data": {
      "text/plain": [
       "'                                           78ankit                                                  '"
      ]
     },
     "execution_count": 60,
     "metadata": {},
     "output_type": "execute_result"
    }
   ],
   "source": [
    "a.ljust(100)"
   ]
  },
  {
   "cell_type": "code",
   "execution_count": 68,
   "id": "6d04c3a7-8f56-4eb9-8d3f-9edf289e5cc2",
   "metadata": {},
   "outputs": [
    {
     "data": {
      "text/plain": [
       "'jayesh                                                                                                                            '"
      ]
     },
     "execution_count": 68,
     "metadata": {},
     "output_type": "execute_result"
    }
   ],
   "source": [
    "b = 'jayesh'\n",
    "b.ljust(130)"
   ]
  },
  {
   "cell_type": "code",
   "execution_count": 74,
   "id": "7c8b342e-8e64-42f3-a3bc-5d0d355b6b43",
   "metadata": {},
   "outputs": [
    {
     "name": "stdout",
     "output_type": "stream",
     "text": [
      "'jayesh sisodiya'\n"
     ]
    }
   ],
   "source": [
    "j = 'jayesh sisodiya'\n",
    "print(\"{!r}\".format(j))"
   ]
  },
  {
   "cell_type": "code",
   "execution_count": 72,
   "id": "5f8b8cde-15d2-41d9-8db9-6d7e765c4af5",
   "metadata": {},
   "outputs": [
    {
     "data": {
      "text/plain": [
       "'jayesh sisodiya'"
      ]
     },
     "execution_count": 72,
     "metadata": {},
     "output_type": "execute_result"
    }
   ],
   "source": [
    "j"
   ]
  },
  {
   "cell_type": "code",
   "execution_count": 82,
   "id": "a14084fc-307b-425d-a851-aecc537d45bf",
   "metadata": {},
   "outputs": [
    {
     "name": "stdin",
     "output_type": "stream",
     "text": [
      "write something :             jayesh singh            \n"
     ]
    },
    {
     "name": "stdout",
     "output_type": "stream",
     "text": [
      "'           jayesh singh            '\n",
      "'           jayesh singh'\n",
      "'jayesh singh            '\n",
      "'jayesh singh'\n"
     ]
    }
   ],
   "source": [
    "text = input('write something : ')\n",
    "print('{!r}'.format(text))\n",
    "print('{!r}'.format(text.rstrip()))   # strip string from right \n",
    "print('{!r}'.format(text.lstrip()))   # strip string from left \n",
    "print('{!r}'.format(text.strip()))  # strip string from both sides\n",
    "#print('{!r}'.format(a))"
   ]
  },
  {
   "cell_type": "code",
   "execution_count": 84,
   "id": "a27d391a-7353-43a6-9296-57c80cbda9ed",
   "metadata": {},
   "outputs": [
    {
     "data": {
      "text/plain": [
       "'           jayesh singh            '"
      ]
     },
     "execution_count": 84,
     "metadata": {},
     "output_type": "execute_result"
    }
   ],
   "source": [
    "text"
   ]
  },
  {
   "cell_type": "code",
   "execution_count": 86,
   "id": "0a7c9b06-7a7c-4dc8-b8cc-0a2950ec78fd",
   "metadata": {},
   "outputs": [],
   "source": [
    "t = 'SACHIN BANSAL'"
   ]
  },
  {
   "cell_type": "code",
   "execution_count": 88,
   "id": "d632e228-abb2-4fc5-ad2e-74fa4bd16419",
   "metadata": {},
   "outputs": [
    {
     "data": {
      "text/plain": [
       "'sachin bansal'"
      ]
     },
     "execution_count": 88,
     "metadata": {},
     "output_type": "execute_result"
    }
   ],
   "source": [
    "t.lower()"
   ]
  },
  {
   "cell_type": "code",
   "execution_count": 90,
   "id": "18651517-9d99-4bf3-82b7-cd764fb1cdcd",
   "metadata": {},
   "outputs": [
    {
     "data": {
      "text/plain": [
       "'SACHIN BANSAL'"
      ]
     },
     "execution_count": 90,
     "metadata": {},
     "output_type": "execute_result"
    }
   ],
   "source": [
    "t.upper()"
   ]
  },
  {
   "cell_type": "code",
   "execution_count": 92,
   "id": "40357ce9-5735-4d39-80bb-3166e805711b",
   "metadata": {},
   "outputs": [],
   "source": [
    "st = \"Mr sachin yadav is Stupid\""
   ]
  },
  {
   "cell_type": "code",
   "execution_count": 98,
   "id": "664d7f42-3588-40bf-98c8-56d83dcb240b",
   "metadata": {},
   "outputs": [
    {
     "data": {
      "text/plain": [
       "' sachin yadav is Stupid'"
      ]
     },
     "execution_count": 98,
     "metadata": {},
     "output_type": "execute_result"
    }
   ],
   "source": [
    "st.removeprefix('Mr')"
   ]
  },
  {
   "cell_type": "code",
   "execution_count": 100,
   "id": "7a4357bb-f523-478e-9c9b-8d2644af3a2f",
   "metadata": {},
   "outputs": [
    {
     "data": {
      "text/plain": [
       "'Mr sachin yadav is '"
      ]
     },
     "execution_count": 100,
     "metadata": {},
     "output_type": "execute_result"
    }
   ],
   "source": [
    "st.removesuffix('Stupid')"
   ]
  },
  {
   "cell_type": "code",
   "execution_count": 102,
   "id": "1dee6c02-ddc8-43c2-968f-babb2bdfe663",
   "metadata": {},
   "outputs": [],
   "source": [
    "a = 'hello to the world of python i am awsome'"
   ]
  },
  {
   "cell_type": "code",
   "execution_count": 104,
   "id": "67c5502c-ffb5-4be2-a45a-e71a20a8605e",
   "metadata": {},
   "outputs": [
    {
     "data": {
      "text/plain": [
       "'hello@to@the@world@of@python@i@am@awsome'"
      ]
     },
     "execution_count": 104,
     "metadata": {},
     "output_type": "execute_result"
    }
   ],
   "source": [
    "a.replace(' ','@')"
   ]
  },
  {
   "cell_type": "code",
   "execution_count": 106,
   "id": "32d9dd94-eda8-412b-930a-993c9807968e",
   "metadata": {},
   "outputs": [],
   "source": [
    "h = 'hello'\n",
    "w = 'wello'"
   ]
  },
  {
   "cell_type": "code",
   "execution_count": 108,
   "id": "d487b705-29d9-4a8b-afaa-9fb7571cf79a",
   "metadata": {},
   "outputs": [
    {
     "data": {
      "text/plain": [
       "'wello'"
      ]
     },
     "execution_count": 108,
     "metadata": {},
     "output_type": "execute_result"
    }
   ],
   "source": [
    "h.replace('h','w')"
   ]
  },
  {
   "cell_type": "code",
   "execution_count": 110,
   "id": "954bcba7-7803-40e9-82cf-b5bde5f2f55e",
   "metadata": {},
   "outputs": [
    {
     "data": {
      "text/plain": [
       "'hello'"
      ]
     },
     "execution_count": 110,
     "metadata": {},
     "output_type": "execute_result"
    }
   ],
   "source": [
    "w.replace('w','h')"
   ]
  },
  {
   "cell_type": "code",
   "execution_count": 112,
   "id": "7171824c-0f33-4617-9382-6136b6bbc74f",
   "metadata": {},
   "outputs": [
    {
     "name": "stdout",
     "output_type": "stream",
     "text": [
      "['__add__', '__class__', '__contains__', '__delattr__', '__dir__', '__doc__', '__eq__', '__format__', '__ge__', '__getattribute__', '__getitem__', '__getnewargs__', '__getstate__', '__gt__', '__hash__', '__init__', '__init_subclass__', '__iter__', '__le__', '__len__', '__lt__', '__mod__', '__mul__', '__ne__', '__new__', '__reduce__', '__reduce_ex__', '__repr__', '__rmod__', '__rmul__', '__setattr__', '__sizeof__', '__str__', '__subclasshook__', 'capitalize', 'casefold', 'center', 'count', 'encode', 'endswith', 'expandtabs', 'find', 'format', 'format_map', 'index', 'isalnum', 'isalpha', 'isascii', 'isdecimal', 'isdigit', 'isidentifier', 'islower', 'isnumeric', 'isprintable', 'isspace', 'istitle', 'isupper', 'join', 'ljust', 'lower', 'lstrip', 'maketrans', 'partition', 'removeprefix', 'removesuffix', 'replace', 'rfind', 'rindex', 'rjust', 'rpartition', 'rsplit', 'rstrip', 'split', 'splitlines', 'startswith', 'strip', 'swapcase', 'title', 'translate', 'upper', 'zfill']\n"
     ]
    }
   ],
   "source": [
    "print(dir(w))"
   ]
  },
  {
   "cell_type": "code",
   "execution_count": 118,
   "id": "e352fb3d-6423-4e29-8cfa-b3b20e6eb99b",
   "metadata": {},
   "outputs": [],
   "source": [
    "a = \"hello bhai kese ho sab bhai\""
   ]
  },
  {
   "cell_type": "code",
   "execution_count": 122,
   "id": "4fe5b4a5-988e-46f4-a26f-e63cf40f4073",
   "metadata": {},
   "outputs": [
    {
     "data": {
      "text/plain": [
       "23"
      ]
     },
     "execution_count": 122,
     "metadata": {},
     "output_type": "execute_result"
    }
   ],
   "source": [
    "a.rfind('bhai')  #recursive"
   ]
  },
  {
   "cell_type": "code",
   "execution_count": 126,
   "id": "e23901a0-32b2-42df-ab7f-f02be26b584e",
   "metadata": {},
   "outputs": [
    {
     "name": "stdout",
     "output_type": "stream",
     "text": [
      "('hello ', 'bhai', ' kese ho sab bhai')\n"
     ]
    }
   ],
   "source": [
    "b = a.partition('bhai')\n",
    "print(b)"
   ]
  },
  {
   "cell_type": "code",
   "execution_count": 130,
   "id": "eb23ad7b-31c4-46bb-8c45-7c50b94e0207",
   "metadata": {},
   "outputs": [
    {
     "name": "stdout",
     "output_type": "stream",
     "text": [
      "bhai to the world\n"
     ]
    }
   ],
   "source": [
    "j = \"{} to the world\".format(b[1])   # b is a variable and tuple is stored inside b and the format function is calling 1st no. index value\n",
    "print(j)"
   ]
  },
  {
   "cell_type": "code",
   "execution_count": 132,
   "id": "849ad046-79c1-4875-8b95-e2accb356438",
   "metadata": {},
   "outputs": [
    {
     "data": {
      "text/plain": [
       "'hello bhai kese ho sab bhai'"
      ]
     },
     "execution_count": 132,
     "metadata": {},
     "output_type": "execute_result"
    }
   ],
   "source": [
    "a"
   ]
  },
  {
   "cell_type": "code",
   "execution_count": 138,
   "id": "95fa2bd9-4618-471e-81eb-21f7f4020f3e",
   "metadata": {},
   "outputs": [
    {
     "data": {
      "text/plain": [
       "['hello bhai ', ' ho sab bhai']"
      ]
     },
     "execution_count": 138,
     "metadata": {},
     "output_type": "execute_result"
    }
   ],
   "source": [
    "b = a.split('kese')\n",
    "b"
   ]
  },
  {
   "cell_type": "code",
   "execution_count": 140,
   "id": "2f62dfab-a738-4c91-bdf2-546d1bb63849",
   "metadata": {},
   "outputs": [
    {
     "data": {
      "text/plain": [
       "'hello bhai ----- ho sab bhai'"
      ]
     },
     "execution_count": 140,
     "metadata": {},
     "output_type": "execute_result"
    }
   ],
   "source": [
    "\"-----\".join(b)"
   ]
  },
  {
   "cell_type": "code",
   "execution_count": 142,
   "id": "c5c0c8a1-c38a-4a37-b091-c72b219e7aac",
   "metadata": {},
   "outputs": [
    {
     "data": {
      "text/plain": [
       "['python ', ' awsome ', ' python awsome']"
      ]
     },
     "execution_count": 142,
     "metadata": {},
     "output_type": "execute_result"
    }
   ],
   "source": [
    "a = 'python is awsome is python awsome'\n",
    "b = a.split('is')\n",
    "b"
   ]
  },
  {
   "cell_type": "code",
   "execution_count": 144,
   "id": "7c4de1c5-2d43-4b16-b1c3-2f0ee3f179ba",
   "metadata": {},
   "outputs": [
    {
     "data": {
      "text/plain": [
       "'python ******* awsome ******* python awsome'"
      ]
     },
     "execution_count": 144,
     "metadata": {},
     "output_type": "execute_result"
    }
   ],
   "source": [
    "\"*******\".join(b)"
   ]
  },
  {
   "cell_type": "code",
   "execution_count": 150,
   "id": "26b52dcb-6b05-407a-9e63-4fe0d4630aa8",
   "metadata": {},
   "outputs": [
    {
     "data": {
      "text/plain": [
       "'aja     *    sachin     *    tarun     *    jayesh     *    shubham     *    ankit'"
      ]
     },
     "execution_count": 150,
     "metadata": {},
     "output_type": "execute_result"
    }
   ],
   "source": [
    "y = ['aja','sachin','tarun','jayesh','shubham','ankit']\n",
    "\"     *    \".join(y)"
   ]
  },
  {
   "cell_type": "code",
   "execution_count": 152,
   "id": "577cb76b-eec8-4aef-9e1e-8342a5574582",
   "metadata": {},
   "outputs": [],
   "source": [
    "a = \"mene \\n tujhko \\n python \\n sikhai\""
   ]
  },
  {
   "cell_type": "code",
   "execution_count": 154,
   "id": "53e3dedc-3cb5-4180-8af8-eacb97ebceba",
   "metadata": {},
   "outputs": [
    {
     "data": {
      "text/plain": [
       "'mene \\n tujhko \\n python \\n sikhai'"
      ]
     },
     "execution_count": 154,
     "metadata": {},
     "output_type": "execute_result"
    }
   ],
   "source": [
    "a"
   ]
  },
  {
   "cell_type": "code",
   "execution_count": 158,
   "id": "d10cbf54-778d-40c9-9752-2ed72f908050",
   "metadata": {},
   "outputs": [
    {
     "name": "stdout",
     "output_type": "stream",
     "text": [
      "mene \n",
      " tujhko \n",
      " python \n",
      " sikhai\n"
     ]
    }
   ],
   "source": [
    "print(a)"
   ]
  },
  {
   "cell_type": "code",
   "execution_count": 162,
   "id": "f554feb7-5179-481b-a3ff-a6d26ef9ed08",
   "metadata": {},
   "outputs": [
    {
     "data": {
      "text/plain": [
       "['mene ', ' tujhko ', ' python ', ' sikhai']"
      ]
     },
     "execution_count": 162,
     "metadata": {},
     "output_type": "execute_result"
    }
   ],
   "source": [
    "b = a.splitlines()\n",
    "b"
   ]
  },
  {
   "cell_type": "code",
   "execution_count": 166,
   "id": "f835aa88-ff3f-43ec-8f91-0f027642d64a",
   "metadata": {},
   "outputs": [
    {
     "data": {
      "text/plain": [
       "'mene   tujhko   python   sikhai'"
      ]
     },
     "execution_count": 166,
     "metadata": {},
     "output_type": "execute_result"
    }
   ],
   "source": [
    "c = ' '.join(b)\n",
    "c"
   ]
  },
  {
   "cell_type": "code",
   "execution_count": 168,
   "id": "2473f4dc-4ca2-4e66-a71a-3665b92e8d3c",
   "metadata": {},
   "outputs": [
    {
     "data": {
      "text/plain": [
       "'mene   tujhko   python   sikhai suno meri baat ko'"
      ]
     },
     "execution_count": 168,
     "metadata": {},
     "output_type": "execute_result"
    }
   ],
   "source": [
    "c + \" suno meri baat ko\""
   ]
  },
  {
   "cell_type": "code",
   "execution_count": 172,
   "id": "f685dabb-2eb8-47ee-8221-c7a399ff0436",
   "metadata": {},
   "outputs": [
    {
     "name": "stdout",
     "output_type": "stream",
     "text": [
      "mene   tujhko   python   sikhai ke tum meri bat nahi sunte\n"
     ]
    }
   ],
   "source": [
    "u = \"ke tum meri bat nahi sunte\"\n",
    "result = c + ' ' + u\n",
    "print(result)"
   ]
  },
  {
   "cell_type": "code",
   "execution_count": 174,
   "id": "0530a9f6-82e3-4360-83ba-10e3419f2014",
   "metadata": {},
   "outputs": [
    {
     "data": {
      "text/plain": [
       "'mene \\n tujhko \\n python \\n sikhai'"
      ]
     },
     "execution_count": 174,
     "metadata": {},
     "output_type": "execute_result"
    }
   ],
   "source": [
    "a"
   ]
  },
  {
   "cell_type": "code",
   "execution_count": 176,
   "id": "114481c8-7faf-4c86-ac2e-5ed5371dd2a1",
   "metadata": {},
   "outputs": [],
   "source": [
    "a = 'Ajay Singh'"
   ]
  },
  {
   "cell_type": "code",
   "execution_count": 178,
   "id": "5a1e2931-e7b2-4ad8-9570-d0d3ec70fc15",
   "metadata": {},
   "outputs": [
    {
     "data": {
      "text/plain": [
       "False"
      ]
     },
     "execution_count": 178,
     "metadata": {},
     "output_type": "execute_result"
    }
   ],
   "source": [
    "a.startswith('a')"
   ]
  },
  {
   "cell_type": "code",
   "execution_count": 180,
   "id": "1ba67461-f259-4609-85db-8850a7bf8baa",
   "metadata": {},
   "outputs": [
    {
     "data": {
      "text/plain": [
       "True"
      ]
     },
     "execution_count": 180,
     "metadata": {},
     "output_type": "execute_result"
    }
   ],
   "source": [
    "a.startswith('A')"
   ]
  },
  {
   "cell_type": "code",
   "execution_count": 192,
   "id": "7a8e186c-f31c-4862-a624-946175dc3bb6",
   "metadata": {},
   "outputs": [],
   "source": [
    "y = \"wello horld focus hocus\""
   ]
  },
  {
   "cell_type": "code",
   "execution_count": 225,
   "id": "5dcdf84a-5bf9-4db6-ad0e-a40f3b30d5ae",
   "metadata": {},
   "outputs": [],
   "source": [
    "t = 'wh'\n",
    "t1 = 'hw'\n",
    "table = y.maketrans(t,t1)"
   ]
  },
  {
   "cell_type": "code",
   "execution_count": 227,
   "id": "0a153854-b7e4-4421-88d3-166613953f0c",
   "metadata": {},
   "outputs": [
    {
     "data": {
      "text/plain": [
       "{119: 104, 104: 119}"
      ]
     },
     "execution_count": 227,
     "metadata": {},
     "output_type": "execute_result"
    }
   ],
   "source": [
    "table"
   ]
  },
  {
   "cell_type": "code",
   "execution_count": 217,
   "id": "ab44dc26-4857-4919-9f50-2a7eb96624f2",
   "metadata": {},
   "outputs": [
    {
     "data": {
      "text/plain": [
       "'hello horld'"
      ]
     },
     "execution_count": 217,
     "metadata": {},
     "output_type": "execute_result"
    }
   ],
   "source": [
    "y.replace('w','h')"
   ]
  },
  {
   "cell_type": "code",
   "execution_count": 200,
   "id": "666dea9a-b3a5-4620-a4ac-7fc0bd7d0a25",
   "metadata": {},
   "outputs": [
    {
     "data": {
      "text/plain": [
       "'hello world'"
      ]
     },
     "execution_count": 200,
     "metadata": {},
     "output_type": "execute_result"
    }
   ],
   "source": [
    "y.translate(table)"
   ]
  },
  {
   "cell_type": "code",
   "execution_count": 206,
   "id": "4f29cff9-421f-4f62-ba4c-bfa67903796c",
   "metadata": {},
   "outputs": [
    {
     "data": {
      "text/plain": [
       "'w'"
      ]
     },
     "execution_count": 206,
     "metadata": {},
     "output_type": "execute_result"
    }
   ],
   "source": [
    "chr(119)"
   ]
  },
  {
   "cell_type": "code",
   "execution_count": 210,
   "id": "169a3c1c-0edb-4e52-aefe-de8a2e7698bd",
   "metadata": {},
   "outputs": [
    {
     "name": "stdout",
     "output_type": "stream",
     "text": [
      "A\tB\tC\tD\tE\tF\tG\tH\tI\tJ\tK\tL\tM\tN\tO\tP\tQ\tR\tS\tT\tU\tV\tW\tX\tY\tZ\t"
     ]
    }
   ],
   "source": [
    "for var in range(65,91):\n",
    "    print(chr(var),end='\\t')"
   ]
  },
  {
   "cell_type": "code",
   "execution_count": 231,
   "id": "1362c742-3b4a-423b-89df-b9476ef50b80",
   "metadata": {},
   "outputs": [
    {
     "name": "stdout",
     "output_type": "stream",
     "text": [
      "a\tb\tc\td\te\tf\tg\th\ti\tj\tk\tl\tm\tn\to\tp\tq\tr\ts\tt\tu\tv\tw\tx\ty\tz\t"
     ]
    }
   ],
   "source": [
    "for var in range(97,123):\n",
    "    print(chr(var),end='\\t')"
   ]
  },
  {
   "cell_type": "markdown",
   "id": "1e4d4be9-8ed2-4ce4-ba73-5cc3e67f213d",
   "metadata": {},
   "source": [
    "# List in python"
   ]
  },
  {
   "cell_type": "code",
   "execution_count": 6,
   "id": "e9663f24-04c6-4c2a-b5bb-f1db87720981",
   "metadata": {},
   "outputs": [
    {
     "name": "stdout",
     "output_type": "stream",
     "text": [
      "['ajay', 'jayesh', 'ankit', 'shubham', 'ayush', 'python', 'honey']\n",
      "<class 'list'>\n"
     ]
    }
   ],
   "source": [
    "a = ['ajay','jayesh','ankit','shubham','ayush','python','honey']  # homogenous list \n",
    "print(a)\n",
    "print(type(a))"
   ]
  },
  {
   "cell_type": "code",
   "execution_count": 10,
   "id": "0b5ff9c1-4527-446b-bd9e-e201113a2f21",
   "metadata": {},
   "outputs": [
    {
     "name": "stdout",
     "output_type": "stream",
     "text": [
      "[1, 2, 3, 4, 5, 6, 7, 8, 'radhika', 'koshin', 'ritu', 'honey', 'sunny']\n",
      "<class 'list'>\n"
     ]
    }
   ],
   "source": [
    "b = [1,2,3,4,5,6,7,8,'radhika','koshin','ritu','honey','sunny'] # hetrogenous list\n",
    "print(b)\n",
    "print(type(b))"
   ]
  },
  {
   "cell_type": "code",
   "execution_count": 12,
   "id": "63826ea2-e0a2-4017-9a0c-f41e875282bd",
   "metadata": {},
   "outputs": [
    {
     "name": "stdout",
     "output_type": "stream",
     "text": [
      "['ArithmeticError', 'AssertionError', 'AttributeError', 'BaseException', 'BaseExceptionGroup', 'BlockingIOError', 'BrokenPipeError', 'BufferError', 'BytesWarning', 'ChildProcessError', 'ConnectionAbortedError', 'ConnectionError', 'ConnectionRefusedError', 'ConnectionResetError', 'DeprecationWarning', 'EOFError', 'Ellipsis', 'EncodingWarning', 'EnvironmentError', 'Exception', 'ExceptionGroup', 'False', 'FileExistsError', 'FileNotFoundError', 'FloatingPointError', 'FutureWarning', 'GeneratorExit', 'IOError', 'ImportError', 'ImportWarning', 'IndentationError', 'IndexError', 'InterruptedError', 'IsADirectoryError', 'KeyError', 'KeyboardInterrupt', 'LookupError', 'MemoryError', 'ModuleNotFoundError', 'NameError', 'None', 'NotADirectoryError', 'NotImplemented', 'NotImplementedError', 'OSError', 'OverflowError', 'PendingDeprecationWarning', 'PermissionError', 'ProcessLookupError', 'RecursionError', 'ReferenceError', 'ResourceWarning', 'RuntimeError', 'RuntimeWarning', 'StopAsyncIteration', 'StopIteration', 'SyntaxError', 'SyntaxWarning', 'SystemError', 'SystemExit', 'TabError', 'TimeoutError', 'True', 'TypeError', 'UnboundLocalError', 'UnicodeDecodeError', 'UnicodeEncodeError', 'UnicodeError', 'UnicodeTranslateError', 'UnicodeWarning', 'UserWarning', 'ValueError', 'Warning', 'ZeroDivisionError', '__IPYTHON__', '__build_class__', '__debug__', '__doc__', '__import__', '__loader__', '__name__', '__package__', '__spec__', 'abs', 'aiter', 'all', 'anext', 'any', 'ascii', 'bin', 'bool', 'breakpoint', 'bytearray', 'bytes', 'callable', 'chr', 'classmethod', 'compile', 'complex', 'copyright', 'credits', 'delattr', 'dict', 'dir', 'display', 'divmod', 'enumerate', 'eval', 'exec', 'execfile', 'filter', 'float', 'format', 'frozenset', 'get_ipython', 'getattr', 'globals', 'hasattr', 'hash', 'help', 'hex', 'id', 'input', 'int', 'isinstance', 'issubclass', 'iter', 'len', 'license', 'list', 'locals', 'map', 'max', 'memoryview', 'min', 'next', 'object', 'oct', 'open', 'ord', 'pow', 'print', 'property', 'range', 'repr', 'reversed', 'round', 'runfile', 'set', 'setattr', 'slice', 'sorted', 'staticmethod', 'str', 'sum', 'super', 'tuple', 'type', 'vars', 'zip']\n"
     ]
    }
   ],
   "source": [
    "print(dir(__builtin__))"
   ]
  },
  {
   "cell_type": "code",
   "execution_count": 14,
   "id": "6646a2c8-e1c0-4cb1-9781-21675b55a40d",
   "metadata": {},
   "outputs": [],
   "source": [
    "a = [1,2,3,4,5,6,7,8,9,10]\n",
    "b = ['ajay','ankit','shubham','jayesh','pamu','tarun','mohit','sachin','hello','sanjay']"
   ]
  },
  {
   "cell_type": "code",
   "execution_count": 20,
   "id": "96daf7e0-cf12-4f50-8630-696098ec4d27",
   "metadata": {},
   "outputs": [
    {
     "name": "stdout",
     "output_type": "stream",
     "text": [
      "<class 'list'>\n"
     ]
    }
   ],
   "source": [
    "c = list(zip(a,b))\n",
    "print(type(c))"
   ]
  },
  {
   "cell_type": "code",
   "execution_count": 22,
   "id": "64845fea-12d1-4397-93ce-de28c94a47cb",
   "metadata": {},
   "outputs": [
    {
     "name": "stdout",
     "output_type": "stream",
     "text": [
      "[(1, 'ajay'), (2, 'ankit'), (3, 'shubham'), (4, 'jayesh'), (5, 'pamu'), (6, 'tarun'), (7, 'mohit'), (8, 'sachin'), (9, 'hello'), (10, 'sanjay')]\n"
     ]
    }
   ],
   "source": [
    "print(c)"
   ]
  },
  {
   "cell_type": "code",
   "execution_count": 28,
   "id": "3b19b736-684b-4aed-8946-31e6e65d24e9",
   "metadata": {},
   "outputs": [
    {
     "data": {
      "text/plain": [
       "(1, 'ajay')"
      ]
     },
     "execution_count": 28,
     "metadata": {},
     "output_type": "execute_result"
    }
   ],
   "source": [
    "c[0] #indexing"
   ]
  },
  {
   "cell_type": "code",
   "execution_count": 30,
   "id": "478095e3-f2c4-41bf-9992-a8403ccf112b",
   "metadata": {},
   "outputs": [
    {
     "name": "stdout",
     "output_type": "stream",
     "text": [
      "<class 'tuple'>\n"
     ]
    }
   ],
   "source": [
    "print(type(c[0]))"
   ]
  },
  {
   "cell_type": "code",
   "execution_count": 32,
   "id": "c15388b7-e5bb-4dc1-825a-11e6c2f61ed5",
   "metadata": {},
   "outputs": [
    {
     "name": "stdout",
     "output_type": "stream",
     "text": [
      "(1, 'ajay') (2, 'ankit') (3, 'shubham') (4, 'jayesh') (5, 'pamu') (6, 'tarun') (7, 'mohit') (8, 'sachin') (9, 'hello') (10, 'sanjay') "
     ]
    }
   ],
   "source": [
    "for var in zip(a,b):   # iterable\n",
    "    print(var,end=' ')"
   ]
  },
  {
   "cell_type": "code",
   "execution_count": 34,
   "id": "d34ee3a4-3f8e-410a-9028-01bc6e8b88b1",
   "metadata": {},
   "outputs": [
    {
     "name": "stdout",
     "output_type": "stream",
     "text": [
      "['__add__', '__class__', '__class_getitem__', '__contains__', '__delattr__', '__delitem__', '__dir__', '__doc__', '__eq__', '__format__', '__ge__', '__getattribute__', '__getitem__', '__getstate__', '__gt__', '__hash__', '__iadd__', '__imul__', '__init__', '__init_subclass__', '__iter__', '__le__', '__len__', '__lt__', '__mul__', '__ne__', '__new__', '__reduce__', '__reduce_ex__', '__repr__', '__reversed__', '__rmul__', '__setattr__', '__setitem__', '__sizeof__', '__str__', '__subclasshook__', 'append', 'clear', 'copy', 'count', 'extend', 'index', 'insert', 'pop', 'remove', 'reverse', 'sort']\n"
     ]
    }
   ],
   "source": [
    "print(dir(list))"
   ]
  },
  {
   "cell_type": "code",
   "execution_count": 36,
   "id": "df1d0d8c-8286-4d9d-aaa8-2764f9a6b5cb",
   "metadata": {},
   "outputs": [
    {
     "name": "stdout",
     "output_type": "stream",
     "text": [
      "['ajay', 'ankit', 'jayesh', 'buta', 'hitesh', 'shubham']\n"
     ]
    }
   ],
   "source": [
    "names = ['ajay','ankit','jayesh','buta','hitesh','shubham'] \n",
    "print(names)"
   ]
  },
  {
   "cell_type": "code",
   "execution_count": 38,
   "id": "0aad2d4e-39fa-4385-97a4-ee174a2a88b8",
   "metadata": {},
   "outputs": [],
   "source": [
    "names.append('jatin')"
   ]
  },
  {
   "cell_type": "code",
   "execution_count": 40,
   "id": "468fdcd5-b77a-41f0-865e-7930be6af1e0",
   "metadata": {},
   "outputs": [
    {
     "name": "stdout",
     "output_type": "stream",
     "text": [
      "['ajay', 'ankit', 'jayesh', 'buta', 'hitesh', 'shubham', 'jatin']\n"
     ]
    }
   ],
   "source": [
    "print(names)"
   ]
  },
  {
   "cell_type": "code",
   "execution_count": 42,
   "id": "f5a22da1-f33a-4dea-90b1-2f9ba0b30263",
   "metadata": {},
   "outputs": [],
   "source": [
    "name = ['sachin','koshal','vipul']"
   ]
  },
  {
   "cell_type": "code",
   "execution_count": 44,
   "id": "1375aaa6-b337-4e00-a75d-03f31b1db195",
   "metadata": {},
   "outputs": [
    {
     "name": "stdout",
     "output_type": "stream",
     "text": [
      "['ajay', 'ankit', 'jayesh', 'buta', 'hitesh', 'shubham', 'jatin', ['sachin', 'koshal', 'vipul']]\n"
     ]
    }
   ],
   "source": [
    "names.append(name)\n",
    "print(names)"
   ]
  },
  {
   "cell_type": "code",
   "execution_count": 46,
   "id": "629e12f3-f8a9-4f0e-b5cd-a3ae7227a164",
   "metadata": {},
   "outputs": [],
   "source": [
    "names.append(54)"
   ]
  },
  {
   "cell_type": "code",
   "execution_count": 48,
   "id": "103e2a9c-d709-4ced-9b1a-6b603f0b5af9",
   "metadata": {},
   "outputs": [
    {
     "data": {
      "text/plain": [
       "['ajay',\n",
       " 'ankit',\n",
       " 'jayesh',\n",
       " 'buta',\n",
       " 'hitesh',\n",
       " 'shubham',\n",
       " 'jatin',\n",
       " ['sachin', 'koshal', 'vipul'],\n",
       " 54]"
      ]
     },
     "execution_count": 48,
     "metadata": {},
     "output_type": "execute_result"
    }
   ],
   "source": [
    "names"
   ]
  },
  {
   "cell_type": "code",
   "execution_count": 50,
   "id": "2cf6bbfb-f415-4d6a-827a-ea6b62128738",
   "metadata": {},
   "outputs": [
    {
     "name": "stdout",
     "output_type": "stream",
     "text": [
      "['ajay', 'ankit', 'jayesh', 'buta', 'hitesh', 'shubham', 'jatin', ['sachin', 'koshal', 'vipul'], 54, ('sachin', 'honey', 'nikky')]\n"
     ]
    }
   ],
   "source": [
    "names.append(('sachin','honey','nikky'))\n",
    "print(names)"
   ]
  },
  {
   "cell_type": "code",
   "execution_count": 52,
   "id": "d36111e1-2941-406a-b466-0ca1e918a339",
   "metadata": {},
   "outputs": [
    {
     "name": "stdout",
     "output_type": "stream",
     "text": [
      "ajay\n",
      "ankit\n",
      "jayesh\n",
      "buta\n",
      "hitesh\n",
      "shubham\n",
      "jatin\n",
      "['sachin', 'koshal', 'vipul']\n",
      "54\n",
      "('sachin', 'honey', 'nikky')\n"
     ]
    }
   ],
   "source": [
    "for var in names:\n",
    "    print(var)"
   ]
  },
  {
   "cell_type": "code",
   "execution_count": 54,
   "id": "5505d982-95d1-4512-8160-f3af7ab25f0e",
   "metadata": {},
   "outputs": [
    {
     "data": {
      "text/plain": [
       "['sachin', 'koshal', 'vipul']"
      ]
     },
     "execution_count": 54,
     "metadata": {},
     "output_type": "execute_result"
    }
   ],
   "source": [
    "name"
   ]
  },
  {
   "cell_type": "code",
   "execution_count": 58,
   "id": "d793b2ef-5065-4ed3-9fdf-fd6571b5b6ae",
   "metadata": {},
   "outputs": [
    {
     "name": "stdout",
     "output_type": "stream",
     "text": [
      "['ajay', 'ankit', 'jayesh', 'buta', 'hitesh', 'shubham', 'jatin', ['sachin', 'koshal', 'vipul'], 54, ('sachin', 'honey', 'nikky'), 'sachin', 'koshal', 'vipul']\n"
     ]
    }
   ],
   "source": [
    "n = names + name\n",
    "print(n)"
   ]
  },
  {
   "cell_type": "code",
   "execution_count": 64,
   "id": "863dbb3a-19a6-44be-b7bf-5c832c2b666f",
   "metadata": {},
   "outputs": [
    {
     "name": "stdout",
     "output_type": "stream",
     "text": [
      "['sachin', 'koshal', 'vipul', 'sachin', 'koshal', 'vipul', 'sachin', 'koshal', 'vipul', 'sachin', 'koshal', 'vipul', 'sachin', 'koshal', 'vipul']\n"
     ]
    }
   ],
   "source": [
    "print(name * 5)"
   ]
  },
  {
   "cell_type": "code",
   "execution_count": 66,
   "id": "f5f73455-c459-46ba-be2a-8b8fe48ea672",
   "metadata": {},
   "outputs": [
    {
     "name": "stdout",
     "output_type": "stream",
     "text": [
      "['hello', 'hy', 'bye', 'chalo', 'ho', 'gaya']\n",
      "['hello', 'hy', 'bye', 'chalo', 'ho', 'gaya']\n",
      "<class 'list'>\n",
      "<class 'list'>\n",
      "5000830208\n",
      "5000830208\n"
     ]
    }
   ],
   "source": [
    "a = ['hello','hy','bye','chalo','ho','gaya']\n",
    "b = a    #shallowcopy\n",
    "print(a,b,sep='\\n')\n",
    "print(type(a),type(b),sep='\\n')\n",
    "print(id(a),id(b),sep='\\n')"
   ]
  },
  {
   "cell_type": "code",
   "execution_count": 68,
   "id": "c6fa342c-33ba-4ee0-b4d4-207f5e951d5e",
   "metadata": {},
   "outputs": [
    {
     "name": "stdout",
     "output_type": "stream",
     "text": [
      "5000830208\n",
      "5001073216\n"
     ]
    }
   ],
   "source": [
    "b = a.copy()  #deepcopy \n",
    "print(id(a))\n",
    "print(id(b))"
   ]
  },
  {
   "cell_type": "code",
   "execution_count": 70,
   "id": "21c24123-0eef-4ddc-8444-06f0da914f26",
   "metadata": {},
   "outputs": [],
   "source": [
    "h = ['hello','hy','bye','chalo','ho','gaya']\n",
    "y = h"
   ]
  },
  {
   "cell_type": "code",
   "execution_count": 72,
   "id": "c539a132-140d-4480-982a-be192d5eeb1c",
   "metadata": {},
   "outputs": [
    {
     "data": {
      "text/plain": [
       "['hello', 'hy', 'bye', 'chalo', 'ho', 'gaya']"
      ]
     },
     "execution_count": 72,
     "metadata": {},
     "output_type": "execute_result"
    }
   ],
   "source": [
    "h"
   ]
  },
  {
   "cell_type": "code",
   "execution_count": 74,
   "id": "714c400f-ba4a-457a-9b31-29d1af677378",
   "metadata": {},
   "outputs": [
    {
     "data": {
      "text/plain": [
       "['hello', 'hy', 'bye', 'chalo', 'ho', 'gaya']"
      ]
     },
     "execution_count": 74,
     "metadata": {},
     "output_type": "execute_result"
    }
   ],
   "source": [
    "y"
   ]
  },
  {
   "cell_type": "code",
   "execution_count": 76,
   "id": "033605a4-7676-44ec-b247-3ec5b5aa53fd",
   "metadata": {},
   "outputs": [],
   "source": [
    "y.clear()"
   ]
  },
  {
   "cell_type": "code",
   "execution_count": 78,
   "id": "efcd1dfb-226a-4f5e-b9f1-346af292e118",
   "metadata": {},
   "outputs": [
    {
     "data": {
      "text/plain": [
       "[]"
      ]
     },
     "execution_count": 78,
     "metadata": {},
     "output_type": "execute_result"
    }
   ],
   "source": [
    "h"
   ]
  },
  {
   "cell_type": "code",
   "execution_count": 80,
   "id": "75ff6110-96a2-49e1-b975-1e2d50fa759d",
   "metadata": {},
   "outputs": [
    {
     "data": {
      "text/plain": [
       "[]"
      ]
     },
     "execution_count": 80,
     "metadata": {},
     "output_type": "execute_result"
    }
   ],
   "source": [
    "y"
   ]
  },
  {
   "cell_type": "code",
   "execution_count": 82,
   "id": "c38eb20e-37b8-4816-8a9a-36c97d69a434",
   "metadata": {},
   "outputs": [],
   "source": [
    "a.clear()"
   ]
  },
  {
   "cell_type": "code",
   "execution_count": 84,
   "id": "a4d54680-3fbd-426e-a82e-faaec7b434b0",
   "metadata": {},
   "outputs": [
    {
     "data": {
      "text/plain": [
       "['hello', 'hy', 'bye', 'chalo', 'ho', 'gaya']"
      ]
     },
     "execution_count": 84,
     "metadata": {},
     "output_type": "execute_result"
    }
   ],
   "source": [
    "b"
   ]
  },
  {
   "cell_type": "code",
   "execution_count": 86,
   "id": "44eb458c-f54c-41d0-bca2-45dbeb9171c0",
   "metadata": {},
   "outputs": [
    {
     "data": {
      "text/plain": [
       "[]"
      ]
     },
     "execution_count": 86,
     "metadata": {},
     "output_type": "execute_result"
    }
   ],
   "source": [
    "a"
   ]
  },
  {
   "cell_type": "code",
   "execution_count": 88,
   "id": "c68c9a82-1002-49ec-be6f-37b030ba7dd6",
   "metadata": {},
   "outputs": [
    {
     "data": {
      "text/plain": [
       "['ajay',\n",
       " 'ankit',\n",
       " 'jayesh',\n",
       " 'buta',\n",
       " 'hitesh',\n",
       " 'shubham',\n",
       " 'jatin',\n",
       " ['sachin', 'koshal', 'vipul'],\n",
       " 54,\n",
       " ('sachin', 'honey', 'nikky')]"
      ]
     },
     "execution_count": 88,
     "metadata": {},
     "output_type": "execute_result"
    }
   ],
   "source": [
    "names"
   ]
  },
  {
   "cell_type": "code",
   "execution_count": 92,
   "id": "b9f1b064-e9a4-48a8-a571-417b63f54854",
   "metadata": {},
   "outputs": [],
   "source": [
    "names = ['ankit','ajay','jayesh','shubham','tarun','jatin','sachin']"
   ]
  },
  {
   "cell_type": "code",
   "execution_count": 98,
   "id": "a95af274-55c8-4c34-81a4-3bb0c1a9186d",
   "metadata": {},
   "outputs": [],
   "source": [
    "from random import choice"
   ]
  },
  {
   "cell_type": "code",
   "execution_count": 108,
   "id": "806ef649-d603-4b03-b191-cb170bf39522",
   "metadata": {},
   "outputs": [],
   "source": [
    "e_list = []\n",
    "for var in range(10000):\n",
    "    e_list.append(choice(names))"
   ]
  },
  {
   "cell_type": "code",
   "execution_count": 110,
   "id": "66a26035-330e-46a9-9842-a3a64c769b45",
   "metadata": {},
   "outputs": [
    {
     "name": "stdout",
     "output_type": "stream",
     "text": [
      "['tarun', 'sachin', 'ankit', 'shubham', 'ankit', 'ankit', 'shubham', 'jayesh', 'jatin', 'ajay', 'ankit', 'sachin', 'shubham', 'ankit', 'jatin', 'ajay', 'shubham', 'jayesh', 'sachin', 'sachin', 'ajay', 'sachin', 'ankit', 'ajay', 'ajay', 'jatin', 'tarun', 'shubham', 'ajay', 'ajay', 'jatin', 'sachin', 'ajay', 'ankit', 'ajay', 'shubham', 'tarun', 'tarun', 'ajay', 'tarun', 'jatin', 'ankit', 'ajay', 'jatin', 'shubham', 'ajay', 'sachin', 'tarun', 'jatin', 'jayesh', 'shubham', 'jayesh', 'tarun', 'shubham', 'jayesh', 'sachin', 'shubham', 'sachin', 'sachin', 'shubham', 'jatin', 'shubham', 'sachin', 'ajay', 'ankit', 'sachin', 'sachin', 'ajay', 'shubham', 'shubham', 'jatin', 'tarun', 'tarun', 'jatin', 'tarun', 'jatin', 'jayesh', 'ankit', 'sachin', 'tarun', 'jatin', 'jayesh', 'sachin', 'jatin', 'jatin', 'jatin', 'tarun', 'shubham', 'ankit', 'jatin', 'shubham', 'tarun', 'shubham', 'jayesh', 'jatin', 'jatin', 'ajay', 'jatin', 'tarun', 'ajay', 'ajay', 'tarun', 'jatin', 'sachin', 'ankit', 'jatin', 'ajay', 'jatin', 'ajay', 'ankit', 'jayesh', 'ajay', 'ankit', 'jatin', 'shubham', 'ajay', 'shubham', 'ankit', 'tarun', 'ajay', 'tarun', 'ajay', 'sachin', 'jatin', 'jayesh', 'jayesh', 'shubham', 'jayesh', 'ajay', 'jayesh', 'jatin', 'tarun', 'shubham', 'ankit', 'ajay', 'shubham', 'shubham', 'sachin', 'ankit', 'sachin', 'ajay', 'tarun', 'sachin', 'shubham', 'tarun', 'sachin', 'ajay', 'sachin', 'shubham', 'jatin', 'sachin', 'jatin', 'sachin', 'jatin', 'ajay', 'ajay', 'ankit', 'jatin', 'shubham', 'ankit', 'ajay', 'ajay', 'jatin', 'sachin', 'ajay', 'jatin', 'ajay', 'ajay', 'jayesh', 'ankit', 'shubham', 'tarun', 'ajay', 'jayesh', 'sachin', 'jatin', 'jayesh', 'ajay', 'tarun', 'sachin', 'sachin', 'ankit', 'ajay', 'sachin', 'ankit', 'ankit', 'jayesh', 'shubham', 'jatin', 'sachin', 'sachin', 'jayesh', 'tarun', 'ankit', 'jayesh', 'ajay', 'ankit', 'tarun', 'jatin', 'sachin', 'ankit', 'jatin', 'jatin', 'jatin', 'sachin', 'jayesh', 'tarun', 'shubham', 'sachin', 'shubham', 'jatin', 'sachin', 'jatin', 'jayesh', 'shubham', 'ankit', 'shubham', 'jayesh', 'tarun', 'jayesh', 'tarun', 'jatin', 'sachin', 'jatin', 'ankit', 'tarun', 'jayesh', 'tarun', 'ankit', 'jayesh', 'sachin', 'sachin', 'sachin', 'ajay', 'ankit', 'tarun', 'ankit', 'jayesh', 'ajay', 'jatin', 'ajay', 'tarun', 'shubham', 'ankit', 'tarun', 'ankit', 'ankit', 'sachin', 'jayesh', 'ankit', 'jatin', 'shubham', 'sachin', 'tarun', 'jayesh', 'sachin', 'ankit', 'ankit', 'jatin', 'jatin', 'jatin', 'jayesh', 'jatin', 'ajay', 'ajay', 'shubham', 'jatin', 'ajay', 'sachin', 'ankit', 'jayesh', 'sachin', 'tarun', 'ajay', 'ankit', 'shubham', 'ajay', 'jayesh', 'jayesh', 'tarun', 'jayesh', 'tarun', 'ajay', 'sachin', 'jatin', 'jatin', 'ankit', 'jatin', 'ajay', 'ajay', 'tarun', 'tarun', 'jayesh', 'ankit', 'sachin', 'ajay', 'jayesh', 'tarun', 'jatin', 'ajay', 'tarun', 'shubham', 'jayesh', 'sachin', 'jayesh', 'tarun', 'sachin', 'shubham', 'tarun', 'jatin', 'ankit', 'sachin', 'jayesh', 'sachin', 'jayesh', 'jatin', 'jayesh', 'sachin', 'tarun', 'shubham', 'jayesh', 'jatin', 'tarun', 'ankit', 'jatin', 'ajay', 'ankit', 'jatin', 'ankit', 'shubham', 'ajay', 'ajay', 'ajay', 'jayesh', 'jayesh', 'ajay', 'ajay', 'jayesh', 'jayesh', 'jayesh', 'sachin', 'jatin', 'sachin', 'tarun', 'jatin', 'shubham', 'sachin', 'ankit', 'shubham', 'tarun', 'jayesh', 'ankit', 'ankit', 'ajay', 'tarun', 'tarun', 'ankit', 'sachin', 'shubham', 'tarun', 'jayesh', 'jayesh', 'jayesh', 'ankit', 'tarun', 'jayesh', 'shubham', 'tarun', 'tarun', 'tarun', 'jayesh', 'ajay', 'ajay', 'jatin', 'ankit', 'shubham', 'tarun', 'ankit', 'ajay', 'shubham', 'ankit', 'jatin', 'ajay', 'tarun', 'sachin', 'shubham', 'ankit', 'sachin', 'ajay', 'ajay', 'sachin', 'jayesh', 'jatin', 'tarun', 'shubham', 'ankit', 'ajay', 'jatin', 'ankit', 'jayesh', 'tarun', 'ajay', 'shubham', 'jatin', 'ankit', 'tarun', 'ankit', 'jayesh', 'jatin', 'jatin', 'ajay', 'ajay', 'shubham', 'ajay', 'ajay', 'ajay', 'ajay', 'sachin', 'jatin', 'shubham', 'jayesh', 'shubham', 'tarun', 'jayesh', 'ajay', 'ankit', 'jatin', 'tarun', 'sachin', 'ankit', 'tarun', 'tarun', 'tarun', 'ajay', 'shubham', 'jayesh', 'tarun', 'ankit', 'ankit', 'ajay', 'jatin', 'jayesh', 'ajay', 'ankit', 'jayesh', 'ajay', 'sachin', 'jayesh', 'sachin', 'tarun', 'ajay', 'jatin', 'jayesh', 'jayesh', 'jatin', 'jayesh', 'tarun', 'shubham', 'sachin', 'sachin', 'sachin', 'jayesh', 'ajay', 'tarun', 'ajay', 'ajay', 'jayesh', 'shubham', 'jatin', 'sachin', 'jatin', 'ankit', 'jatin', 'ankit', 'sachin', 'shubham', 'sachin', 'sachin', 'tarun', 'tarun', 'ajay', 'tarun', 'shubham', 'jatin', 'tarun', 'jayesh', 'shubham', 'ankit', 'tarun', 'jayesh', 'ankit', 'ankit', 'ankit', 'ajay', 'ankit', 'tarun', 'sachin', 'tarun', 'tarun', 'sachin', 'tarun', 'jayesh', 'ajay', 'ajay', 'shubham', 'shubham', 'ajay', 'jatin', 'jayesh', 'ankit', 'tarun', 'sachin', 'ajay', 'jayesh', 'tarun', 'ajay', 'jayesh', 'ajay', 'sachin', 'sachin', 'sachin', 'ankit', 'jatin', 'jayesh', 'tarun', 'shubham', 'tarun', 'sachin', 'sachin', 'shubham', 'jayesh', 'shubham', 'tarun', 'jatin', 'sachin', 'tarun', 'shubham', 'sachin', 'sachin', 'sachin', 'sachin', 'tarun', 'tarun', 'ajay', 'ajay', 'sachin', 'shubham', 'ajay', 'jatin', 'jayesh', 'ankit', 'jayesh', 'shubham', 'jayesh', 'ankit', 'ajay', 'ajay', 'sachin', 'ajay', 'jatin', 'tarun', 'sachin', 'tarun', 'jatin', 'shubham', 'tarun', 'jayesh', 'tarun', 'ankit', 'tarun', 'tarun', 'jatin', 'jatin', 'sachin', 'tarun', 'shubham', 'ankit', 'ajay', 'ajay', 'jayesh', 'jayesh', 'shubham', 'ajay', 'ajay', 'sachin', 'jayesh', 'ajay', 'sachin', 'tarun', 'sachin', 'shubham', 'ankit', 'ajay', 'jayesh', 'tarun', 'tarun', 'ajay', 'ajay', 'ankit', 'sachin', 'tarun', 'jatin', 'tarun', 'ajay', 'jayesh', 'jayesh', 'shubham', 'jayesh', 'shubham', 'ankit', 'sachin', 'tarun', 'shubham', 'tarun', 'ankit', 'ankit', 'shubham', 'jatin', 'ankit', 'ajay', 'ankit', 'jayesh', 'jayesh', 'jatin', 'shubham', 'ankit', 'sachin', 'sachin', 'ankit', 'sachin', 'sachin', 'shubham', 'jatin', 'sachin', 'jatin', 'tarun', 'jatin', 'shubham', 'tarun', 'jayesh', 'ajay', 'shubham', 'ankit', 'shubham', 'ajay', 'tarun', 'ankit', 'ajay', 'jatin', 'shubham', 'sachin', 'jatin', 'ajay', 'shubham', 'jayesh', 'tarun', 'jayesh', 'ajay', 'sachin', 'jayesh', 'jayesh', 'tarun', 'ajay', 'shubham', 'jatin', 'tarun', 'ankit', 'jatin', 'jatin', 'jayesh', 'ankit', 'tarun', 'ajay', 'ankit', 'tarun', 'jatin', 'shubham', 'tarun', 'ajay', 'sachin', 'ankit', 'ankit', 'jatin', 'jatin', 'ajay', 'jayesh', 'jatin', 'jayesh', 'sachin', 'ankit', 'jatin', 'tarun', 'jayesh', 'jayesh', 'jayesh', 'jatin', 'sachin', 'sachin', 'ankit', 'ankit', 'ankit', 'shubham', 'jatin', 'sachin', 'ankit', 'ajay', 'ankit', 'tarun', 'jatin', 'jatin', 'shubham', 'tarun', 'jatin', 'jatin', 'shubham', 'shubham', 'shubham', 'ajay', 'ajay', 'tarun', 'tarun', 'jatin', 'ankit', 'sachin', 'ajay', 'shubham', 'jatin', 'jayesh', 'jatin', 'ankit', 'ankit', 'sachin', 'sachin', 'ankit', 'sachin', 'jayesh', 'ajay', 'sachin', 'sachin', 'shubham', 'ankit', 'shubham', 'jatin', 'jayesh', 'jayesh', 'tarun', 'jayesh', 'ankit', 'ajay', 'jatin', 'shubham', 'ajay', 'sachin', 'tarun', 'jatin', 'ajay', 'shubham', 'sachin', 'jatin', 'ankit', 'ankit', 'jatin', 'ankit', 'ajay', 'ajay', 'jayesh', 'shubham', 'ankit', 'jatin', 'sachin', 'jayesh', 'ankit', 'sachin', 'jayesh', 'jatin', 'tarun', 'shubham', 'jatin', 'ankit', 'sachin', 'sachin', 'ajay', 'ajay', 'jayesh', 'tarun', 'jayesh', 'sachin', 'sachin', 'ankit', 'sachin', 'sachin', 'jayesh', 'shubham', 'ankit', 'ajay', 'ajay', 'shubham', 'shubham', 'jayesh', 'shubham', 'tarun', 'ankit', 'jayesh', 'jayesh', 'jatin', 'ajay', 'shubham', 'ajay', 'ankit', 'tarun', 'tarun', 'ajay', 'ajay', 'sachin', 'ajay', 'jatin', 'ankit', 'ajay', 'jayesh', 'shubham', 'jayesh', 'jayesh', 'tarun', 'shubham', 'jatin', 'jatin', 'jayesh', 'tarun', 'sachin', 'shubham', 'tarun', 'ankit', 'shubham', 'tarun', 'sachin', 'jatin', 'sachin', 'jayesh', 'shubham', 'ankit', 'tarun', 'sachin', 'jayesh', 'sachin', 'tarun', 'ankit', 'tarun', 'tarun', 'sachin', 'jayesh', 'ajay', 'ankit', 'ajay', 'jatin', 'ajay', 'ajay', 'tarun', 'ajay', 'shubham', 'sachin', 'ankit', 'tarun', 'ajay', 'ankit', 'tarun', 'jayesh', 'shubham', 'tarun', 'sachin', 'shubham', 'shubham', 'jatin', 'ankit', 'tarun', 'tarun', 'sachin', 'jayesh', 'ankit', 'ajay', 'tarun', 'jatin', 'tarun', 'shubham', 'ankit', 'jatin', 'jatin', 'jayesh', 'jayesh', 'tarun', 'tarun', 'sachin', 'tarun', 'tarun', 'ajay', 'jatin', 'shubham', 'jatin', 'ajay', 'ankit', 'jatin', 'jayesh', 'tarun', 'tarun', 'jayesh', 'jatin', 'ajay', 'jatin', 'sachin', 'shubham', 'ajay', 'jayesh', 'jayesh', 'sachin', 'sachin', 'tarun', 'shubham', 'jayesh', 'ankit', 'jatin', 'sachin', 'shubham', 'ankit', 'ankit', 'jatin', 'jayesh', 'ankit', 'ankit', 'sachin', 'tarun', 'jatin', 'sachin', 'jatin', 'ajay', 'tarun', 'shubham', 'shubham', 'ankit', 'sachin', 'ajay', 'sachin', 'shubham', 'tarun', 'ajay', 'tarun', 'ankit', 'jatin', 'jatin', 'jatin', 'jatin', 'ankit', 'jatin', 'shubham', 'sachin', 'ajay', 'ankit', 'jatin', 'sachin', 'tarun', 'sachin', 'jatin', 'ankit', 'ajay', 'shubham', 'shubham', 'tarun', 'shubham', 'ajay', 'jayesh', 'tarun', 'ajay', 'ajay', 'tarun', 'tarun', 'ajay', 'jayesh', 'tarun', 'ajay', 'sachin', 'ajay', 'sachin', 'ajay', 'shubham', 'jayesh', 'sachin', 'ajay', 'jatin', 'jatin', 'tarun', 'jayesh', 'sachin', 'jayesh', 'tarun', 'jayesh', 'jatin', 'shubham', 'ankit', 'ajay', 'ankit', 'ajay', 'sachin', 'jayesh', 'ajay', 'ajay', 'tarun', 'ajay', 'tarun', 'ankit', 'ajay', 'jatin', 'ankit', 'ajay', 'ajay', 'jatin', 'jayesh', 'jatin', 'sachin', 'shubham', 'tarun', 'tarun', 'sachin', 'jatin', 'ankit', 'jayesh', 'shubham', 'sachin', 'tarun', 'jayesh', 'ajay', 'shubham', 'jatin', 'jatin', 'shubham', 'shubham', 'shubham', 'shubham', 'jayesh', 'ankit', 'jatin', 'shubham', 'tarun', 'ajay', 'sachin', 'shubham', 'jayesh', 'ajay', 'jayesh', 'shubham', 'ajay', 'jayesh', 'ankit', 'shubham', 'jayesh', 'tarun', 'sachin', 'jayesh', 'ankit', 'jayesh', 'jayesh', 'jatin', 'shubham', 'tarun', 'shubham', 'sachin', 'sachin', 'tarun', 'shubham', 'sachin', 'ankit', 'jayesh', 'jatin', 'ajay', 'jayesh', 'tarun', 'tarun', 'jayesh', 'jayesh', 'jatin', 'shubham', 'ankit', 'ankit', 'ankit', 'ajay', 'jayesh', 'ankit', 'tarun', 'jayesh', 'ajay', 'tarun', 'jatin', 'tarun', 'jayesh', 'sachin', 'jatin', 'tarun', 'ajay', 'sachin', 'jatin', 'tarun', 'tarun', 'jayesh', 'jayesh', 'tarun', 'ankit', 'jatin', 'sachin', 'jayesh', 'shubham', 'shubham', 'tarun', 'tarun', 'jayesh', 'ankit', 'ajay', 'jatin', 'ankit', 'jayesh', 'jayesh', 'ajay', 'ankit', 'ankit', 'shubham', 'ajay', 'ankit', 'jatin', 'shubham', 'ajay', 'tarun', 'sachin', 'tarun', 'shubham', 'ajay', 'ankit', 'jatin', 'jatin', 'ajay', 'shubham', 'shubham', 'jayesh', 'ajay', 'jayesh', 'jatin', 'jayesh', 'jatin', 'ankit', 'ajay', 'jayesh', 'jatin', 'ajay', 'shubham', 'sachin', 'tarun', 'shubham', 'sachin', 'jatin', 'ajay', 'jatin', 'ankit', 'sachin', 'sachin', 'jayesh', 'jatin', 'jatin', 'ajay', 'tarun', 'ajay', 'jayesh', 'tarun', 'tarun', 'ajay', 'jatin', 'sachin', 'sachin', 'tarun', 'jatin', 'sachin', 'ajay', 'ankit', 'tarun', 'tarun', 'tarun', 'tarun', 'sachin', 'ajay', 'ajay', 'tarun', 'tarun', 'jatin', 'sachin', 'tarun', 'jatin', 'jayesh', 'shubham', 'ankit', 'ankit', 'ajay', 'jatin', 'jatin', 'tarun', 'sachin', 'sachin', 'jayesh', 'jayesh', 'tarun', 'shubham', 'ajay', 'ajay', 'ajay', 'jayesh', 'shubham', 'sachin', 'shubham', 'jatin', 'ankit', 'ajay', 'sachin', 'tarun', 'ajay', 'sachin', 'jayesh', 'jatin', 'ankit', 'shubham', 'ajay', 'ajay', 'ajay', 'sachin', 'jatin', 'tarun', 'tarun', 'jatin', 'shubham', 'jayesh', 'tarun', 'jayesh', 'jatin', 'sachin', 'shubham', 'shubham', 'ankit', 'tarun', 'ankit', 'ajay', 'jatin', 'jatin', 'shubham', 'ajay', 'jayesh', 'shubham', 'tarun', 'sachin', 'jayesh', 'tarun', 'shubham', 'jatin', 'jayesh', 'ajay', 'shubham', 'shubham', 'ajay', 'jatin', 'shubham', 'jatin', 'shubham', 'jatin', 'tarun', 'shubham', 'shubham', 'sachin', 'jayesh', 'jatin', 'ajay', 'shubham', 'shubham', 'shubham', 'sachin', 'sachin', 'shubham', 'ajay', 'ajay', 'tarun', 'sachin', 'shubham', 'tarun', 'shubham', 'jayesh', 'sachin', 'tarun', 'sachin', 'shubham', 'ankit', 'jayesh', 'jayesh', 'ajay', 'shubham', 'tarun', 'jayesh', 'sachin', 'sachin', 'sachin', 'jatin', 'jatin', 'ankit', 'sachin', 'ajay', 'sachin', 'sachin', 'sachin', 'ankit', 'ankit', 'jatin', 'tarun', 'ankit', 'jayesh', 'ajay', 'tarun', 'ajay', 'shubham', 'shubham', 'jayesh', 'tarun', 'sachin', 'jatin', 'ankit', 'jatin', 'sachin', 'ajay', 'tarun', 'shubham', 'jatin', 'ankit', 'ankit', 'tarun', 'ajay', 'jayesh', 'sachin', 'sachin', 'shubham', 'jayesh', 'sachin', 'ajay', 'sachin', 'sachin', 'sachin', 'tarun', 'ankit', 'ankit', 'sachin', 'ajay', 'jayesh', 'shubham', 'ankit', 'jayesh', 'jatin', 'jatin', 'sachin', 'tarun', 'shubham', 'ajay', 'jayesh', 'ajay', 'jatin', 'jatin', 'jayesh', 'tarun', 'jayesh', 'sachin', 'ankit', 'sachin', 'ankit', 'jayesh', 'ajay', 'jayesh', 'shubham', 'jayesh', 'ankit', 'jatin', 'shubham', 'jayesh', 'jatin', 'tarun', 'jatin', 'jatin', 'tarun', 'shubham', 'ankit', 'jatin', 'ajay', 'shubham', 'tarun', 'tarun', 'shubham', 'ankit', 'jayesh', 'ajay', 'tarun', 'sachin', 'tarun', 'tarun', 'shubham', 'jayesh', 'ajay', 'jayesh', 'tarun', 'ajay', 'tarun', 'jayesh', 'jatin', 'tarun', 'jayesh', 'shubham', 'shubham', 'tarun', 'jatin', 'jayesh', 'jatin', 'ankit', 'shubham', 'jayesh', 'ajay', 'ajay', 'shubham', 'ajay', 'tarun', 'jatin', 'ajay', 'ankit', 'jayesh', 'tarun', 'shubham', 'ajay', 'jayesh', 'ajay', 'tarun', 'shubham', 'sachin', 'jayesh', 'tarun', 'tarun', 'jatin', 'tarun', 'jatin', 'jayesh', 'jatin', 'ajay', 'tarun', 'ajay', 'tarun', 'ankit', 'ankit', 'ajay', 'jayesh', 'shubham', 'ankit', 'sachin', 'jayesh', 'jatin', 'tarun', 'ajay', 'jayesh', 'ajay', 'ankit', 'jatin', 'ankit', 'ajay', 'sachin', 'ajay', 'tarun', 'shubham', 'jatin', 'jatin', 'shubham', 'ankit', 'jayesh', 'jayesh', 'ankit', 'ajay', 'jatin', 'sachin', 'ajay', 'tarun', 'shubham', 'ajay', 'ankit', 'ankit', 'jatin', 'jayesh', 'ankit', 'ajay', 'jatin', 'ajay', 'jayesh', 'jayesh', 'ankit', 'tarun', 'ankit', 'jayesh', 'jatin', 'ajay', 'sachin', 'tarun', 'ajay', 'sachin', 'sachin', 'ajay', 'ajay', 'tarun', 'ajay', 'shubham', 'jayesh', 'sachin', 'jatin', 'jayesh', 'shubham', 'tarun', 'ajay', 'tarun', 'ankit', 'sachin', 'jayesh', 'jayesh', 'jayesh', 'jatin', 'ajay', 'tarun', 'ajay', 'jatin', 'ankit', 'jatin', 'shubham', 'tarun', 'jayesh', 'ankit', 'jayesh', 'ajay', 'ajay', 'tarun', 'jayesh', 'tarun', 'tarun', 'sachin', 'ankit', 'jayesh', 'sachin', 'sachin', 'jatin', 'jayesh', 'tarun', 'tarun', 'sachin', 'sachin', 'ajay', 'jatin', 'jayesh', 'jayesh', 'ajay', 'jayesh', 'sachin', 'jayesh', 'jatin', 'jatin', 'jayesh', 'tarun', 'shubham', 'jayesh', 'tarun', 'shubham', 'sachin', 'jatin', 'tarun', 'sachin', 'ankit', 'ajay', 'jatin', 'tarun', 'ankit', 'jatin', 'sachin', 'sachin', 'tarun', 'jatin', 'ankit', 'jayesh', 'shubham', 'jayesh', 'jatin', 'jatin', 'ajay', 'jayesh', 'shubham', 'shubham', 'jayesh', 'sachin', 'shubham', 'jatin', 'shubham', 'sachin', 'jayesh', 'tarun', 'sachin', 'ankit', 'sachin', 'sachin', 'ajay', 'ajay', 'shubham', 'jayesh', 'tarun', 'jatin', 'jayesh', 'sachin', 'tarun', 'shubham', 'shubham', 'ankit', 'ankit', 'jatin', 'shubham', 'shubham', 'ajay', 'jatin', 'shubham', 'jayesh', 'ajay', 'jatin', 'shubham', 'sachin', 'jayesh', 'sachin', 'jayesh', 'ajay', 'ajay', 'ajay', 'jayesh', 'ankit', 'ankit', 'jayesh', 'ankit', 'tarun', 'jatin', 'jatin', 'ajay', 'tarun', 'ankit', 'sachin', 'jatin', 'ankit', 'ajay', 'ankit', 'tarun', 'sachin', 'jatin', 'jatin', 'jayesh', 'tarun', 'sachin', 'tarun', 'jatin', 'jatin', 'tarun', 'ajay', 'shubham', 'tarun', 'jatin', 'shubham', 'ajay', 'ankit', 'ankit', 'tarun', 'jatin', 'ankit', 'shubham', 'shubham', 'jatin', 'shubham', 'ajay', 'tarun', 'sachin', 'jatin', 'shubham', 'ankit', 'jayesh', 'shubham', 'shubham', 'tarun', 'ajay', 'jatin', 'ankit', 'ajay', 'ajay', 'jatin', 'ankit', 'jatin', 'ankit', 'ajay', 'ankit', 'shubham', 'tarun', 'jayesh', 'shubham', 'shubham', 'shubham', 'ajay', 'ajay', 'ankit', 'jayesh', 'ajay', 'shubham', 'ajay', 'ankit', 'tarun', 'ajay', 'ajay', 'sachin', 'ankit', 'tarun', 'tarun', 'shubham', 'tarun', 'ankit', 'tarun', 'ajay', 'sachin', 'ankit', 'tarun', 'jayesh', 'jayesh', 'jatin', 'ankit', 'jayesh', 'tarun', 'tarun', 'tarun', 'jayesh', 'jatin', 'jatin', 'tarun', 'tarun', 'jatin', 'sachin', 'sachin', 'jatin', 'jatin', 'tarun', 'jayesh', 'sachin', 'ajay', 'jatin', 'tarun', 'sachin', 'tarun', 'ankit', 'ankit', 'shubham', 'sachin', 'sachin', 'jatin', 'tarun', 'ajay', 'ankit', 'ankit', 'jatin', 'ajay', 'tarun', 'sachin', 'ajay', 'ankit', 'jayesh', 'tarun', 'shubham', 'jayesh', 'jayesh', 'sachin', 'jayesh', 'jatin', 'sachin', 'ajay', 'sachin', 'ankit', 'ankit', 'jatin', 'tarun', 'jayesh', 'ajay', 'shubham', 'ankit', 'ankit', 'jayesh', 'jatin', 'tarun', 'jatin', 'sachin', 'ajay', 'shubham', 'jatin', 'jatin', 'jatin', 'tarun', 'jatin', 'jayesh', 'jatin', 'jayesh', 'jayesh', 'jayesh', 'jatin', 'tarun', 'tarun', 'jatin', 'jayesh', 'jayesh', 'shubham', 'sachin', 'ajay', 'sachin', 'tarun', 'shubham', 'ankit', 'tarun', 'jayesh', 'jayesh', 'jatin', 'jayesh', 'ajay', 'sachin', 'jatin', 'jayesh', 'jatin', 'sachin', 'sachin', 'tarun', 'jatin', 'sachin', 'jatin', 'jatin', 'ankit', 'shubham', 'jayesh', 'jatin', 'ankit', 'sachin', 'tarun', 'tarun', 'tarun', 'shubham', 'ankit', 'jayesh', 'jayesh', 'sachin', 'ajay', 'shubham', 'shubham', 'sachin', 'jayesh', 'jayesh', 'ajay', 'shubham', 'sachin', 'sachin', 'tarun', 'sachin', 'ankit', 'ankit', 'jayesh', 'ankit', 'jayesh', 'tarun', 'ankit', 'tarun', 'ajay', 'sachin', 'ankit', 'ajay', 'jayesh', 'jayesh', 'jatin', 'shubham', 'sachin', 'tarun', 'shubham', 'tarun', 'shubham', 'jatin', 'ankit', 'jayesh', 'jayesh', 'ankit', 'jayesh', 'tarun', 'sachin', 'ajay', 'ankit', 'sachin', 'jayesh', 'sachin', 'jayesh', 'shubham', 'jayesh', 'jayesh', 'shubham', 'ajay', 'tarun', 'shubham', 'ajay', 'ajay', 'jatin', 'sachin', 'shubham', 'ajay', 'shubham', 'sachin', 'jayesh', 'ankit', 'sachin', 'tarun', 'jayesh', 'shubham', 'sachin', 'tarun', 'tarun', 'jayesh', 'jatin', 'shubham', 'shubham', 'tarun', 'tarun', 'shubham', 'shubham', 'tarun', 'ajay', 'ajay', 'sachin', 'jayesh', 'ankit', 'jatin', 'ankit', 'ajay', 'ankit', 'ankit', 'shubham', 'ankit', 'ajay', 'ankit', 'tarun', 'tarun', 'ajay', 'ankit', 'jatin', 'jayesh', 'jatin', 'sachin', 'tarun', 'jayesh', 'jatin', 'jayesh', 'jayesh', 'ajay', 'shubham', 'ankit', 'ajay', 'jayesh', 'shubham', 'ankit', 'ankit', 'ajay', 'jatin', 'ajay', 'jatin', 'ankit', 'ajay', 'ajay', 'ankit', 'shubham', 'shubham', 'ajay', 'jatin', 'ankit', 'sachin', 'jatin', 'jayesh', 'tarun', 'jayesh', 'jayesh', 'tarun', 'jayesh', 'ankit', 'ankit', 'jayesh', 'sachin', 'tarun', 'jatin', 'shubham', 'sachin', 'jayesh', 'jatin', 'jatin', 'ajay', 'shubham', 'ajay', 'ankit', 'shubham', 'ajay', 'jayesh', 'ajay', 'shubham', 'sachin', 'tarun', 'sachin', 'shubham', 'ajay', 'tarun', 'tarun', 'jatin', 'jatin', 'jatin', 'tarun', 'jayesh', 'jatin', 'tarun', 'tarun', 'jayesh', 'ajay', 'sachin', 'tarun', 'sachin', 'ajay', 'jayesh', 'sachin', 'ankit', 'shubham', 'jayesh', 'shubham', 'sachin', 'jatin', 'shubham', 'ankit', 'sachin', 'shubham', 'shubham', 'tarun', 'jatin', 'jatin', 'tarun', 'tarun', 'shubham', 'jatin', 'shubham', 'shubham', 'jayesh', 'sachin', 'jayesh', 'jatin', 'shubham', 'shubham', 'tarun', 'ankit', 'jatin', 'jatin', 'shubham', 'ajay', 'ajay', 'jayesh', 'sachin', 'sachin', 'sachin', 'jatin', 'ajay', 'ajay', 'jayesh', 'jatin', 'tarun', 'sachin', 'tarun', 'shubham', 'shubham', 'jayesh', 'shubham', 'jatin', 'tarun', 'tarun', 'shubham', 'jatin', 'tarun', 'sachin', 'tarun', 'jatin', 'jayesh', 'jayesh', 'jayesh', 'shubham', 'ankit', 'jayesh', 'jatin', 'jatin', 'jatin', 'ankit', 'ankit', 'ankit', 'jayesh', 'tarun', 'ankit', 'shubham', 'shubham', 'ajay', 'sachin', 'sachin', 'ajay', 'shubham', 'shubham', 'sachin', 'jayesh', 'shubham', 'ajay', 'shubham', 'tarun', 'tarun', 'ankit', 'jatin', 'shubham', 'ankit', 'ajay', 'shubham', 'sachin', 'jayesh', 'jayesh', 'sachin', 'shubham', 'sachin', 'sachin', 'sachin', 'jayesh', 'tarun', 'shubham', 'sachin', 'ajay', 'jayesh', 'jatin', 'sachin', 'jayesh', 'ajay', 'tarun', 'sachin', 'sachin', 'jatin', 'jayesh', 'jatin', 'jayesh', 'jatin', 'ajay', 'ajay', 'ajay', 'sachin', 'tarun', 'ankit', 'tarun', 'tarun', 'ajay', 'ankit', 'shubham', 'jayesh', 'jatin', 'jayesh', 'shubham', 'jatin', 'tarun', 'sachin', 'tarun', 'ajay', 'jayesh', 'sachin', 'sachin', 'ajay', 'jayesh', 'ajay', 'ajay', 'ankit', 'tarun', 'sachin', 'ankit', 'shubham', 'ajay', 'jayesh', 'ankit', 'jayesh', 'tarun', 'shubham', 'sachin', 'jatin', 'ankit', 'ankit', 'ankit', 'tarun', 'ankit', 'ankit', 'ajay', 'tarun', 'shubham', 'jatin', 'jatin', 'shubham', 'jatin', 'shubham', 'tarun', 'shubham', 'tarun', 'ajay', 'shubham', 'jayesh', 'tarun', 'sachin', 'jatin', 'jatin', 'ankit', 'tarun', 'tarun', 'sachin', 'shubham', 'jatin', 'ankit', 'tarun', 'tarun', 'jayesh', 'sachin', 'jatin', 'jayesh', 'sachin', 'jayesh', 'jayesh', 'ajay', 'jayesh', 'sachin', 'jatin', 'ankit', 'shubham', 'shubham', 'shubham', 'ankit', 'jayesh', 'shubham', 'sachin', 'tarun', 'ankit', 'sachin', 'ajay', 'jayesh', 'shubham', 'ajay', 'tarun', 'shubham', 'jatin', 'sachin', 'jatin', 'sachin', 'jayesh', 'jayesh', 'sachin', 'jatin', 'jayesh', 'tarun', 'ajay', 'tarun', 'shubham', 'jayesh', 'ajay', 'tarun', 'shubham', 'ajay', 'ajay', 'jayesh', 'tarun', 'jayesh', 'jatin', 'shubham', 'ankit', 'shubham', 'ankit', 'jatin', 'tarun', 'ankit', 'shubham', 'sachin', 'shubham', 'shubham', 'tarun', 'tarun', 'ankit', 'sachin', 'ankit', 'sachin', 'jatin', 'jayesh', 'sachin', 'tarun', 'ankit', 'jayesh', 'jayesh', 'tarun', 'sachin', 'sachin', 'shubham', 'shubham', 'shubham', 'ajay', 'ankit', 'tarun', 'shubham', 'shubham', 'ankit', 'ajay', 'jayesh', 'shubham', 'jayesh', 'jatin', 'tarun', 'sachin', 'sachin', 'tarun', 'shubham', 'jayesh', 'tarun', 'jayesh', 'ajay', 'sachin', 'tarun', 'ajay', 'ajay', 'ankit', 'jayesh', 'shubham', 'jatin', 'jatin', 'jayesh', 'jayesh', 'sachin', 'jayesh', 'ajay', 'jatin', 'tarun', 'jatin', 'jatin', 'tarun', 'ajay', 'sachin', 'ankit', 'jayesh', 'jayesh', 'ankit', 'ankit', 'shubham', 'tarun', 'shubham', 'sachin', 'tarun', 'tarun', 'sachin', 'jayesh', 'sachin', 'tarun', 'shubham', 'shubham', 'jatin', 'shubham', 'sachin', 'tarun', 'ankit', 'tarun', 'jayesh', 'ankit', 'jayesh', 'sachin', 'shubham', 'jayesh', 'tarun', 'tarun', 'tarun', 'tarun', 'jatin', 'shubham', 'sachin', 'jatin', 'jatin', 'ajay', 'jatin', 'ajay', 'ajay', 'ankit', 'jayesh', 'tarun', 'ankit', 'jayesh', 'sachin', 'ankit', 'shubham', 'ankit', 'shubham', 'sachin', 'tarun', 'jatin', 'ajay', 'ankit', 'jayesh', 'jayesh', 'jatin', 'jayesh', 'jayesh', 'jatin', 'ankit', 'ajay', 'jatin', 'ankit', 'tarun', 'ajay', 'jayesh', 'jayesh', 'jayesh', 'sachin', 'jayesh', 'jatin', 'ankit', 'sachin', 'tarun', 'sachin', 'ajay', 'sachin', 'jayesh', 'ajay', 'sachin', 'ajay', 'tarun', 'jayesh', 'jatin', 'sachin', 'sachin', 'ankit', 'jatin', 'jayesh', 'tarun', 'tarun', 'ajay', 'ajay', 'jatin', 'jatin', 'tarun', 'jayesh', 'jatin', 'ajay', 'jayesh', 'jayesh', 'shubham', 'jayesh', 'jayesh', 'jatin', 'tarun', 'tarun', 'ajay', 'shubham', 'tarun', 'jayesh', 'tarun', 'sachin', 'jatin', 'jayesh', 'ajay', 'ankit', 'shubham', 'shubham', 'ankit', 'tarun', 'ajay', 'jayesh', 'jatin', 'ankit', 'shubham', 'jatin', 'shubham', 'ankit', 'shubham', 'ankit', 'shubham', 'ankit', 'ankit', 'ajay', 'sachin', 'jayesh', 'ankit', 'shubham', 'ajay', 'ankit', 'jayesh', 'shubham', 'jayesh', 'tarun', 'sachin', 'shubham', 'shubham', 'jatin', 'sachin', 'ankit', 'ajay', 'sachin', 'ajay', 'shubham', 'ajay', 'jayesh', 'jatin', 'ajay', 'ajay', 'jatin', 'jayesh', 'tarun', 'ankit', 'sachin', 'ajay', 'jatin', 'ajay', 'ajay', 'jatin', 'sachin', 'tarun', 'ankit', 'jatin', 'jatin', 'ankit', 'ankit', 'sachin', 'shubham', 'jayesh', 'ajay', 'tarun', 'tarun', 'shubham', 'ankit', 'jayesh', 'jayesh', 'tarun', 'shubham', 'tarun', 'ajay', 'jatin', 'ankit', 'sachin', 'ajay', 'ankit', 'ajay', 'shubham', 'tarun', 'shubham', 'tarun', 'jatin', 'ankit', 'shubham', 'tarun', 'jayesh', 'tarun', 'sachin', 'ajay', 'jatin', 'jatin', 'shubham', 'jayesh', 'shubham', 'ankit', 'tarun', 'ankit', 'ankit', 'jatin', 'ajay', 'ankit', 'sachin', 'jayesh', 'ajay', 'shubham', 'tarun', 'shubham', 'jatin', 'ankit', 'jayesh', 'sachin', 'ajay', 'jatin', 'shubham', 'tarun', 'ajay', 'sachin', 'jayesh', 'ajay', 'jayesh', 'ankit', 'jatin', 'shubham', 'jatin', 'sachin', 'tarun', 'ajay', 'jayesh', 'tarun', 'sachin', 'shubham', 'jatin', 'tarun', 'tarun', 'jatin', 'ajay', 'tarun', 'shubham', 'sachin', 'ajay', 'jayesh', 'ankit', 'jatin', 'jayesh', 'sachin', 'shubham', 'tarun', 'shubham', 'sachin', 'jayesh', 'jayesh', 'jayesh', 'sachin', 'ajay', 'ankit', 'jayesh', 'sachin', 'sachin', 'tarun', 'ajay', 'ajay', 'ankit', 'ankit', 'ajay', 'jayesh', 'tarun', 'jayesh', 'jayesh', 'ankit', 'tarun', 'jayesh', 'jatin', 'ajay', 'sachin', 'shubham', 'tarun', 'shubham', 'tarun', 'tarun', 'shubham', 'jatin', 'tarun', 'sachin', 'ajay', 'shubham', 'jayesh', 'ankit', 'ankit', 'ankit', 'shubham', 'tarun', 'jatin', 'ankit', 'jayesh', 'ankit', 'jatin', 'tarun', 'sachin', 'ajay', 'ankit', 'sachin', 'jatin', 'jayesh', 'sachin', 'shubham', 'shubham', 'sachin', 'ankit', 'tarun', 'ajay', 'jayesh', 'ankit', 'ankit', 'tarun', 'ajay', 'sachin', 'jatin', 'jayesh', 'jatin', 'ajay', 'jatin', 'shubham', 'sachin', 'ajay', 'jatin', 'jatin', 'ajay', 'sachin', 'ajay', 'sachin', 'shubham', 'ajay', 'jatin', 'ajay', 'ajay', 'shubham', 'jayesh', 'ankit', 'jatin', 'shubham', 'ajay', 'jatin', 'sachin', 'sachin', 'jatin', 'jayesh', 'sachin', 'ankit', 'jayesh', 'tarun', 'shubham', 'ankit', 'jatin', 'jayesh', 'jatin', 'tarun', 'jayesh', 'jayesh', 'shubham', 'tarun', 'shubham', 'ajay', 'ankit', 'ankit', 'shubham', 'jatin', 'sachin', 'tarun', 'tarun', 'tarun', 'jatin', 'jayesh', 'shubham', 'shubham', 'shubham', 'ankit', 'ajay', 'sachin', 'sachin', 'sachin', 'ankit', 'jatin', 'sachin', 'ankit', 'tarun', 'jayesh', 'tarun', 'ajay', 'ajay', 'jayesh', 'jatin', 'jayesh', 'sachin', 'ajay', 'ankit', 'sachin', 'sachin', 'ajay', 'tarun', 'ankit', 'shubham', 'ajay', 'ankit', 'tarun', 'ajay', 'jatin', 'ankit', 'ankit', 'shubham', 'shubham', 'tarun', 'ajay', 'sachin', 'ajay', 'jayesh', 'tarun', 'jayesh', 'ankit', 'shubham', 'sachin', 'tarun', 'sachin', 'sachin', 'ankit', 'sachin', 'jayesh', 'tarun', 'ankit', 'jayesh', 'shubham', 'sachin', 'jatin', 'shubham', 'shubham', 'jatin', 'sachin', 'shubham', 'shubham', 'sachin', 'jayesh', 'jatin', 'jatin', 'sachin', 'tarun', 'jayesh', 'jatin', 'ankit', 'ajay', 'shubham', 'sachin', 'ankit', 'jatin', 'tarun', 'ajay', 'ajay', 'jatin', 'ankit', 'ajay', 'sachin', 'tarun', 'ankit', 'jatin', 'tarun', 'jatin', 'ajay', 'jatin', 'ajay', 'tarun', 'sachin', 'ankit', 'shubham', 'sachin', 'ankit', 'ankit', 'jatin', 'ankit', 'jatin', 'jatin', 'jatin', 'shubham', 'sachin', 'jayesh', 'ajay', 'tarun', 'sachin', 'shubham', 'tarun', 'tarun', 'ankit', 'sachin', 'sachin', 'ankit', 'jatin', 'shubham', 'ankit', 'ajay', 'sachin', 'tarun', 'ajay', 'tarun', 'jatin', 'ankit', 'ajay', 'jatin', 'tarun', 'jatin', 'ajay', 'sachin', 'shubham', 'jayesh', 'jayesh', 'jatin', 'tarun', 'ankit', 'ankit', 'jayesh', 'sachin', 'jayesh', 'tarun', 'ajay', 'jayesh', 'jayesh', 'ankit', 'jayesh', 'jayesh', 'sachin', 'shubham', 'sachin', 'ajay', 'jayesh', 'shubham', 'tarun', 'jayesh', 'jatin', 'ankit', 'shubham', 'shubham', 'jayesh', 'jayesh', 'ajay', 'jayesh', 'tarun', 'jayesh', 'ajay', 'tarun', 'tarun', 'jatin', 'sachin', 'tarun', 'sachin', 'ankit', 'ankit', 'ajay', 'tarun', 'jatin', 'jatin', 'tarun', 'shubham', 'shubham', 'sachin', 'tarun', 'ankit', 'sachin', 'sachin', 'ajay', 'jatin', 'tarun', 'shubham', 'sachin', 'jatin', 'ajay', 'shubham', 'ankit', 'sachin', 'ajay', 'tarun', 'sachin', 'shubham', 'jayesh', 'ankit', 'ankit', 'ajay', 'shubham', 'tarun', 'shubham', 'ankit', 'tarun', 'shubham', 'shubham', 'jayesh', 'ankit', 'jatin', 'tarun', 'jatin', 'shubham', 'jayesh', 'jayesh', 'tarun', 'jatin', 'shubham', 'sachin', 'tarun', 'tarun', 'shubham', 'shubham', 'tarun', 'shubham', 'ajay', 'jatin', 'sachin', 'ankit', 'shubham', 'jayesh', 'sachin', 'shubham', 'ankit', 'jatin', 'ajay', 'tarun', 'ajay', 'ankit', 'ankit', 'jayesh', 'jatin', 'ankit', 'ankit', 'shubham', 'ankit', 'shubham', 'tarun', 'jayesh', 'tarun', 'shubham', 'jatin', 'ankit', 'shubham', 'sachin', 'ankit', 'shubham', 'tarun', 'shubham', 'jatin', 'ajay', 'sachin', 'ajay', 'shubham', 'ajay', 'shubham', 'jayesh', 'sachin', 'jayesh', 'ankit', 'sachin', 'ajay', 'ajay', 'shubham', 'tarun', 'jayesh', 'ajay', 'ajay', 'jayesh', 'ankit', 'tarun', 'ankit', 'shubham', 'shubham', 'shubham', 'jayesh', 'jatin', 'jatin', 'ankit', 'ankit', 'sachin', 'ankit', 'jatin', 'jayesh', 'ankit', 'shubham', 'ajay', 'tarun', 'tarun', 'ankit', 'shubham', 'tarun', 'ankit', 'jayesh', 'shubham', 'jayesh', 'jatin', 'shubham', 'jayesh', 'shubham', 'ankit', 'ajay', 'shubham', 'jayesh', 'shubham', 'tarun', 'ajay', 'shubham', 'shubham', 'ankit', 'tarun', 'shubham', 'sachin', 'ajay', 'tarun', 'jatin', 'ankit', 'jatin', 'tarun', 'tarun', 'ajay', 'jatin', 'ajay', 'shubham', 'ankit', 'sachin', 'shubham', 'tarun', 'ajay', 'tarun', 'shubham', 'shubham', 'ankit', 'jayesh', 'ajay', 'jayesh', 'shubham', 'ajay', 'ankit', 'jayesh', 'shubham', 'tarun', 'ajay', 'tarun', 'ajay', 'tarun', 'sachin', 'tarun', 'tarun', 'ajay', 'ajay', 'ankit', 'sachin', 'ajay', 'tarun', 'jatin', 'shubham', 'jayesh', 'tarun', 'jatin', 'ajay', 'jatin', 'shubham', 'tarun', 'jatin', 'jayesh', 'ajay', 'sachin', 'jayesh', 'ajay', 'shubham', 'sachin', 'shubham', 'ankit', 'jatin', 'tarun', 'ankit', 'jayesh', 'ankit', 'ankit', 'jayesh', 'tarun', 'sachin', 'ankit', 'jayesh', 'tarun', 'shubham', 'jatin', 'ankit', 'ankit', 'jayesh', 'shubham', 'jatin', 'shubham', 'sachin', 'shubham', 'ajay', 'jatin', 'ajay', 'sachin', 'ajay', 'tarun', 'tarun', 'jayesh', 'ankit', 'jatin', 'sachin', 'sachin', 'jatin', 'shubham', 'tarun', 'jatin', 'jatin', 'jatin', 'sachin', 'jatin', 'ankit', 'jayesh', 'shubham', 'sachin', 'jatin', 'sachin', 'jayesh', 'sachin', 'tarun', 'ankit', 'jatin', 'ankit', 'jatin', 'jayesh', 'ajay', 'jayesh', 'tarun', 'tarun', 'jatin', 'ajay', 'ankit', 'jatin', 'jatin', 'sachin', 'jatin', 'sachin', 'sachin', 'jatin', 'ankit', 'ajay', 'sachin', 'jayesh', 'jatin', 'shubham', 'ajay', 'sachin', 'jatin', 'ankit', 'ankit', 'sachin', 'sachin', 'jatin', 'tarun', 'ajay', 'ankit', 'ajay', 'sachin', 'ajay', 'tarun', 'ajay', 'jayesh', 'ajay', 'jayesh', 'jatin', 'jatin', 'tarun', 'jayesh', 'ajay', 'ankit', 'shubham', 'jayesh', 'jayesh', 'shubham', 'ajay', 'tarun', 'jayesh', 'jatin', 'jayesh', 'ankit', 'jatin', 'shubham', 'jatin', 'sachin', 'jayesh', 'ankit', 'jayesh', 'tarun', 'ankit', 'ankit', 'ajay', 'jatin', 'sachin', 'sachin', 'sachin', 'tarun', 'tarun', 'sachin', 'ankit', 'sachin', 'sachin', 'ajay', 'jayesh', 'jatin', 'jatin', 'sachin', 'ajay', 'shubham', 'ajay', 'ankit', 'jayesh', 'sachin', 'ajay', 'tarun', 'jatin', 'jayesh', 'jayesh', 'ajay', 'ankit', 'tarun', 'jatin', 'ajay', 'jayesh', 'ankit', 'ankit', 'jatin', 'ankit', 'jayesh', 'jatin', 'ajay', 'jatin', 'shubham', 'ankit', 'jayesh', 'tarun', 'shubham', 'sachin', 'tarun', 'jatin', 'jayesh', 'sachin', 'jayesh', 'tarun', 'shubham', 'jatin', 'sachin', 'shubham', 'sachin', 'shubham', 'sachin', 'tarun', 'ajay', 'sachin', 'ankit', 'tarun', 'jayesh', 'ajay', 'ankit', 'shubham', 'ajay', 'jatin', 'sachin', 'shubham', 'ajay', 'tarun', 'jayesh', 'tarun', 'jatin', 'sachin', 'ankit', 'tarun', 'sachin', 'ankit', 'shubham', 'tarun', 'tarun', 'sachin', 'jatin', 'ankit', 'sachin', 'tarun', 'ankit', 'shubham', 'jayesh', 'ajay', 'jatin', 'shubham', 'sachin', 'ankit', 'ankit', 'ankit', 'jayesh', 'sachin', 'ajay', 'sachin', 'sachin', 'sachin', 'jatin', 'jayesh', 'jayesh', 'ajay', 'jatin', 'tarun', 'jatin', 'shubham', 'ankit', 'sachin', 'shubham', 'shubham', 'ankit', 'shubham', 'jatin', 'ankit', 'shubham', 'sachin', 'ajay', 'shubham', 'tarun', 'shubham', 'sachin', 'ajay', 'jatin', 'ajay', 'jayesh', 'shubham', 'sachin', 'jatin', 'jatin', 'jayesh', 'tarun', 'shubham', 'shubham', 'sachin', 'jatin', 'jayesh', 'jatin', 'shubham', 'tarun', 'tarun', 'ankit', 'ajay', 'tarun', 'ankit', 'jatin', 'sachin', 'ajay', 'ajay', 'shubham', 'ankit', 'shubham', 'jatin', 'jatin', 'ajay', 'sachin', 'shubham', 'sachin', 'sachin', 'ajay', 'tarun', 'sachin', 'ankit', 'jatin', 'jatin', 'jayesh', 'ajay', 'sachin', 'tarun', 'jatin', 'ankit', 'tarun', 'ajay', 'ankit', 'tarun', 'shubham', 'shubham', 'jayesh', 'ankit', 'ankit', 'shubham', 'jatin', 'jayesh', 'ajay', 'ajay', 'jatin', 'ajay', 'jatin', 'jatin', 'jatin', 'jayesh', 'jatin', 'ankit', 'ajay', 'ajay', 'ankit', 'jatin', 'sachin', 'ajay', 'jayesh', 'sachin', 'sachin', 'ajay', 'jayesh', 'ajay', 'tarun', 'ajay', 'jayesh', 'tarun', 'sachin', 'tarun', 'shubham', 'sachin', 'tarun', 'sachin', 'tarun', 'jayesh', 'tarun', 'sachin', 'sachin', 'tarun', 'ajay', 'tarun', 'tarun', 'sachin', 'ankit', 'jatin', 'shubham', 'ajay', 'jayesh', 'jatin', 'ankit', 'ajay', 'ajay', 'shubham', 'ajay', 'sachin', 'jayesh', 'ajay', 'sachin', 'jatin', 'tarun', 'shubham', 'shubham', 'jatin', 'shubham', 'ankit', 'jayesh', 'ankit', 'sachin', 'jatin', 'jatin', 'shubham', 'jatin', 'ankit', 'shubham', 'jatin', 'ajay', 'shubham', 'shubham', 'ajay', 'shubham', 'jatin', 'ankit', 'ankit', 'jayesh', 'ajay', 'shubham', 'jatin', 'sachin', 'ankit', 'ajay', 'ankit', 'shubham', 'ankit', 'sachin', 'tarun', 'ankit', 'tarun', 'shubham', 'jatin', 'ajay', 'sachin', 'ajay', 'shubham', 'shubham', 'tarun', 'jatin', 'ankit', 'jatin', 'jatin', 'jatin', 'ajay', 'ajay', 'shubham', 'sachin', 'ankit', 'tarun', 'ankit', 'tarun', 'ankit', 'ajay', 'jayesh', 'jayesh', 'tarun', 'ajay', 'jatin', 'tarun', 'shubham', 'jayesh', 'ajay', 'tarun', 'shubham', 'shubham', 'ankit', 'ankit', 'jayesh', 'shubham', 'jayesh', 'ajay', 'shubham', 'ankit', 'sachin', 'sachin', 'jayesh', 'jayesh', 'shubham', 'shubham', 'sachin', 'jayesh', 'shubham', 'sachin', 'jayesh', 'tarun', 'jayesh', 'ankit', 'tarun', 'jayesh', 'sachin', 'jayesh', 'tarun', 'jatin', 'shubham', 'ajay', 'tarun', 'ajay', 'tarun', 'sachin', 'shubham', 'shubham', 'sachin', 'tarun', 'sachin', 'sachin', 'jayesh', 'ankit', 'tarun', 'ajay', 'jayesh', 'ajay', 'jayesh', 'ajay', 'ajay', 'tarun', 'ajay', 'sachin', 'jatin', 'jatin', 'jayesh', 'sachin', 'ajay', 'sachin', 'shubham', 'shubham', 'tarun', 'jatin', 'sachin', 'jayesh', 'jatin', 'jayesh', 'tarun', 'jatin', 'tarun', 'ankit', 'shubham', 'tarun', 'tarun', 'shubham', 'jatin', 'jatin', 'sachin', 'tarun', 'ankit', 'shubham', 'jayesh', 'sachin', 'jayesh', 'ajay', 'ankit', 'tarun', 'sachin', 'ankit', 'tarun', 'sachin', 'jayesh', 'jayesh', 'jatin', 'tarun', 'shubham', 'ankit', 'shubham', 'ajay', 'sachin', 'ankit', 'jatin', 'jatin', 'tarun', 'ankit', 'jatin', 'ajay', 'ajay', 'ajay', 'jatin', 'ankit', 'sachin', 'ajay', 'tarun', 'ajay', 'ajay', 'jayesh', 'tarun', 'shubham', 'ajay', 'ankit', 'ajay', 'shubham', 'tarun', 'sachin', 'ajay', 'ajay', 'ajay', 'ajay', 'tarun', 'shubham', 'ajay', 'jatin', 'jatin', 'ankit', 'jatin', 'sachin', 'tarun', 'jatin', 'jayesh', 'ajay', 'jatin', 'shubham', 'shubham', 'jayesh', 'ankit', 'ankit', 'shubham', 'ankit', 'ankit', 'shubham', 'jatin', 'shubham', 'shubham', 'ajay', 'shubham', 'ankit', 'jatin', 'jatin', 'ajay', 'shubham', 'jatin', 'ajay', 'sachin', 'jatin', 'tarun', 'shubham', 'ankit', 'ankit', 'ajay', 'shubham', 'jayesh', 'ankit', 'jayesh', 'tarun', 'tarun', 'jatin', 'ankit', 'sachin', 'jayesh', 'jatin', 'ajay', 'ajay', 'jayesh', 'shubham', 'shubham', 'jatin', 'sachin', 'ankit', 'ankit', 'ankit', 'ajay', 'ajay', 'jatin', 'sachin', 'ankit', 'ankit', 'jatin', 'shubham', 'ankit', 'ajay', 'shubham', 'shubham', 'ajay', 'ankit', 'tarun', 'jayesh', 'jayesh', 'jayesh', 'sachin', 'tarun', 'tarun', 'ankit', 'ankit', 'ankit', 'sachin', 'jayesh', 'ankit', 'tarun', 'ankit', 'tarun', 'jayesh', 'shubham', 'sachin', 'ankit', 'ajay', 'ankit', 'shubham', 'sachin', 'ankit', 'ajay', 'shubham', 'sachin', 'ankit', 'ajay', 'ajay', 'shubham', 'ajay', 'jatin', 'jayesh', 'shubham', 'jatin', 'ankit', 'ankit', 'jatin', 'jatin', 'ajay', 'ankit', 'jatin', 'sachin', 'jayesh', 'sachin', 'ankit', 'ajay', 'shubham', 'ajay', 'jayesh', 'jayesh', 'tarun', 'sachin', 'sachin', 'ankit', 'ajay', 'tarun', 'jatin', 'sachin', 'ankit', 'jatin', 'ankit', 'jayesh', 'shubham', 'ajay', 'tarun', 'shubham', 'jatin', 'sachin', 'jayesh', 'tarun', 'ankit', 'jatin', 'tarun', 'ajay', 'ankit', 'tarun', 'ajay', 'ankit', 'sachin', 'tarun', 'jatin', 'tarun', 'jatin', 'sachin', 'tarun', 'jatin', 'jatin', 'tarun', 'jayesh', 'jayesh', 'tarun', 'sachin', 'jayesh', 'ankit', 'shubham', 'shubham', 'shubham', 'sachin', 'ankit', 'sachin', 'sachin', 'ankit', 'jayesh', 'jatin', 'tarun', 'jayesh', 'tarun', 'jayesh', 'tarun', 'sachin', 'shubham', 'sachin', 'tarun', 'ankit', 'ankit', 'ajay', 'ankit', 'jatin', 'jatin', 'sachin', 'shubham', 'ankit', 'ajay', 'jatin', 'ajay', 'sachin', 'ankit', 'sachin', 'sachin', 'jayesh', 'sachin', 'sachin', 'tarun', 'ankit', 'tarun', 'shubham', 'tarun', 'ajay', 'shubham', 'jayesh', 'shubham', 'ankit', 'jayesh', 'shubham', 'ajay', 'sachin', 'jayesh', 'ajay', 'ajay', 'sachin', 'ajay', 'sachin', 'jayesh', 'tarun', 'ajay', 'shubham', 'tarun', 'sachin', 'jatin', 'jayesh', 'tarun', 'jatin', 'tarun', 'shubham', 'jatin', 'jatin', 'jayesh', 'sachin', 'ajay', 'ajay', 'shubham', 'sachin', 'jatin', 'ankit', 'sachin', 'jatin', 'ankit', 'tarun', 'shubham', 'ankit', 'shubham', 'jayesh', 'ajay', 'ajay', 'sachin', 'jayesh', 'jatin', 'jayesh', 'ankit', 'ajay', 'tarun', 'jayesh', 'shubham', 'shubham', 'jatin', 'jayesh', 'jatin', 'ankit', 'ajay', 'shubham', 'ajay', 'ankit', 'jatin', 'jatin', 'jayesh', 'ankit', 'ankit', 'jatin', 'tarun', 'ankit', 'ajay', 'shubham', 'tarun', 'ankit', 'tarun', 'jatin', 'sachin', 'shubham', 'jayesh', 'sachin', 'jayesh', 'ankit', 'ankit', 'jayesh', 'ankit', 'ankit', 'sachin', 'shubham', 'ajay', 'jayesh', 'ajay', 'tarun', 'sachin', 'shubham', 'shubham', 'sachin', 'jayesh', 'ankit', 'jayesh', 'tarun', 'shubham', 'ajay', 'shubham', 'shubham', 'ankit', 'ajay', 'jayesh', 'shubham', 'ankit', 'ankit', 'tarun', 'ajay', 'jatin', 'tarun', 'sachin', 'sachin', 'ankit', 'ankit', 'ankit', 'jayesh', 'jatin', 'jayesh', 'jayesh', 'ankit', 'tarun', 'jayesh', 'ajay', 'sachin', 'jatin', 'jatin', 'tarun', 'jatin', 'tarun', 'jayesh', 'tarun', 'jayesh', 'sachin', 'shubham', 'tarun', 'ajay', 'jatin', 'tarun', 'tarun', 'ankit', 'ankit', 'shubham', 'tarun', 'ankit', 'ajay', 'ajay', 'ajay', 'jatin', 'ankit', 'ajay', 'tarun', 'sachin', 'jatin', 'ankit', 'jatin', 'shubham', 'shubham', 'ankit', 'jayesh', 'ajay', 'ankit', 'jayesh', 'jayesh', 'jatin', 'shubham', 'jatin', 'shubham', 'jatin', 'jatin', 'tarun', 'tarun', 'ajay', 'jatin', 'jayesh', 'jayesh', 'tarun', 'sachin', 'tarun', 'tarun', 'jayesh', 'jatin', 'jatin', 'ajay', 'jatin', 'tarun', 'ankit', 'sachin', 'shubham', 'jayesh', 'sachin', 'sachin', 'jayesh', 'ajay', 'jayesh', 'jayesh', 'shubham', 'sachin', 'jatin', 'ajay', 'sachin', 'jatin', 'tarun', 'shubham', 'ajay', 'ajay', 'ajay', 'tarun', 'jayesh', 'ankit', 'tarun', 'jatin', 'tarun', 'sachin', 'shubham', 'ankit', 'sachin', 'shubham', 'jatin', 'jayesh', 'ajay', 'jatin', 'ajay', 'jayesh', 'sachin', 'ajay', 'shubham', 'tarun', 'ankit', 'ankit', 'ankit', 'jayesh', 'ajay', 'jayesh', 'ankit', 'shubham', 'shubham', 'shubham', 'jatin', 'ajay', 'jayesh', 'jatin', 'ajay', 'jatin', 'ankit', 'sachin', 'jatin', 'shubham', 'jayesh', 'ajay', 'sachin', 'jayesh', 'tarun', 'jayesh', 'jatin', 'ajay', 'ankit', 'tarun', 'jayesh', 'tarun', 'jayesh', 'sachin', 'sachin', 'shubham', 'jatin', 'ankit', 'ajay', 'ankit', 'jatin', 'jayesh', 'ankit', 'ankit', 'tarun', 'ankit', 'jayesh', 'jatin', 'shubham', 'jatin', 'ajay', 'jayesh', 'jatin', 'shubham', 'jatin', 'jayesh', 'jatin', 'jayesh', 'shubham', 'ajay', 'jatin', 'shubham', 'jayesh', 'shubham', 'ankit', 'jayesh', 'jatin', 'ajay', 'jayesh', 'ajay', 'jatin', 'jatin', 'ankit', 'shubham', 'ankit', 'shubham', 'jayesh', 'sachin', 'jayesh', 'tarun', 'jatin', 'jatin', 'tarun', 'ankit', 'jayesh', 'sachin', 'sachin', 'jayesh', 'jatin', 'jayesh', 'jatin', 'jayesh', 'ajay', 'jatin', 'jayesh', 'ajay', 'ankit', 'jatin', 'shubham', 'jatin', 'tarun', 'jatin', 'tarun', 'sachin', 'shubham', 'jatin', 'tarun', 'sachin', 'tarun', 'shubham', 'shubham', 'tarun', 'ankit', 'jayesh', 'ajay', 'tarun', 'ajay', 'tarun', 'jayesh', 'tarun', 'jatin', 'tarun', 'jayesh', 'ajay', 'sachin', 'jatin', 'tarun', 'jatin', 'ajay', 'jatin', 'jatin', 'jatin', 'tarun', 'ankit', 'ankit', 'jayesh', 'jatin', 'jayesh', 'jayesh', 'shubham', 'sachin', 'sachin', 'jatin', 'jayesh', 'ankit', 'jayesh', 'jayesh', 'sachin', 'jatin', 'jatin', 'ajay', 'tarun', 'tarun', 'ajay', 'tarun', 'jayesh', 'ajay', 'ajay', 'sachin', 'ajay', 'shubham', 'ankit', 'ankit', 'tarun', 'sachin', 'ajay', 'shubham', 'sachin', 'sachin', 'shubham', 'ankit', 'jatin', 'ajay', 'tarun', 'tarun', 'shubham', 'tarun', 'ajay', 'ajay', 'sachin', 'jatin', 'tarun', 'jayesh', 'tarun', 'ankit', 'ajay', 'jayesh', 'shubham', 'ajay', 'ankit', 'shubham', 'jatin', 'ankit', 'jatin', 'ajay', 'jatin', 'jayesh', 'ankit', 'jatin', 'jayesh', 'ajay', 'sachin', 'jayesh', 'ajay', 'ankit', 'jatin', 'ankit', 'tarun', 'jayesh', 'shubham', 'tarun', 'shubham', 'jayesh', 'ajay', 'ankit', 'tarun', 'sachin', 'sachin', 'ankit', 'shubham', 'jatin', 'shubham', 'tarun', 'jayesh', 'ankit', 'shubham', 'ajay', 'sachin', 'sachin', 'jayesh', 'ajay', 'jatin', 'ajay', 'jayesh', 'shubham', 'tarun', 'sachin', 'shubham', 'ankit', 'sachin', 'ankit', 'sachin', 'jayesh', 'ankit', 'ankit', 'shubham', 'shubham', 'shubham', 'jayesh', 'jatin', 'jayesh', 'tarun', 'sachin', 'jatin', 'jayesh', 'jayesh', 'sachin', 'ajay', 'ankit', 'jatin', 'jatin', 'jayesh', 'tarun', 'tarun', 'shubham', 'sachin', 'sachin', 'tarun', 'sachin', 'ajay', 'jayesh', 'ajay', 'jayesh', 'tarun', 'tarun', 'jayesh', 'shubham', 'ajay', 'ajay', 'ajay', 'jayesh', 'tarun', 'jayesh', 'jayesh', 'shubham', 'sachin', 'ajay', 'shubham', 'tarun', 'sachin', 'jayesh', 'ajay', 'jatin', 'ankit', 'jayesh', 'ankit', 'shubham', 'shubham', 'tarun', 'jayesh', 'jayesh', 'jayesh', 'ajay', 'shubham', 'sachin', 'jayesh', 'jayesh', 'jayesh', 'jayesh', 'ajay', 'jayesh', 'tarun', 'ajay', 'shubham', 'tarun', 'sachin', 'ankit', 'shubham', 'jatin', 'jatin', 'jatin', 'jayesh', 'ajay', 'tarun', 'tarun', 'jatin', 'sachin', 'ankit', 'ajay', 'jatin', 'jayesh', 'ankit', 'shubham', 'ankit', 'ankit', 'sachin', 'jayesh', 'shubham', 'jatin', 'ankit', 'tarun', 'sachin', 'shubham', 'jatin', 'ajay', 'ajay', 'ajay', 'shubham', 'shubham', 'sachin', 'ajay', 'tarun', 'shubham', 'jatin', 'shubham', 'tarun', 'shubham', 'sachin', 'sachin', 'ajay', 'shubham', 'ajay', 'jatin', 'jayesh', 'jayesh', 'tarun', 'jayesh', 'sachin', 'tarun', 'jatin', 'jatin', 'jatin', 'jatin', 'ankit', 'shubham', 'shubham', 'shubham', 'jatin', 'jayesh', 'ajay', 'ajay', 'sachin', 'jatin', 'ajay', 'jayesh', 'tarun', 'jayesh', 'sachin', 'ankit', 'shubham', 'shubham', 'ankit', 'jayesh', 'jayesh', 'sachin', 'sachin', 'shubham', 'jatin', 'sachin', 'ajay', 'jayesh', 'jatin', 'sachin', 'shubham', 'jayesh', 'shubham', 'shubham', 'jatin', 'tarun', 'sachin', 'sachin', 'shubham', 'tarun', 'shubham', 'ajay', 'jayesh', 'jayesh', 'sachin', 'sachin', 'sachin', 'ankit', 'jatin', 'shubham', 'jayesh', 'jayesh', 'shubham', 'jatin', 'shubham', 'jayesh', 'ankit', 'ankit', 'jayesh', 'ankit', 'shubham', 'ajay', 'jatin', 'tarun', 'sachin', 'tarun', 'ankit', 'jayesh', 'ankit', 'sachin', 'sachin', 'jatin', 'jayesh', 'ajay', 'sachin', 'shubham', 'jatin', 'shubham', 'tarun', 'jayesh', 'ankit', 'tarun', 'jayesh', 'jayesh', 'ankit', 'sachin', 'ankit', 'jatin', 'shubham', 'tarun', 'jayesh', 'tarun', 'ankit', 'ankit', 'ajay', 'shubham', 'jayesh', 'sachin', 'ankit', 'ajay', 'tarun', 'tarun', 'sachin', 'sachin', 'ajay', 'jatin', 'jayesh', 'jatin', 'ankit', 'jayesh', 'tarun', 'sachin', 'jatin', 'ankit', 'shubham', 'jatin', 'ajay', 'tarun', 'jayesh', 'sachin', 'tarun', 'jatin', 'jatin', 'sachin', 'shubham', 'ankit', 'jayesh', 'jayesh', 'ajay', 'sachin', 'ajay', 'ankit', 'tarun', 'jatin', 'jayesh', 'jayesh', 'shubham', 'sachin', 'sachin', 'ankit', 'jayesh', 'sachin', 'tarun', 'tarun', 'tarun', 'ankit', 'jatin', 'ankit', 'sachin', 'shubham', 'ajay', 'jayesh', 'ajay', 'ajay', 'ajay', 'jayesh', 'shubham', 'jayesh', 'ankit', 'ajay', 'ankit', 'jatin', 'shubham', 'tarun', 'shubham', 'ajay', 'tarun', 'ankit', 'shubham', 'tarun', 'jatin', 'jatin', 'shubham', 'ajay', 'shubham', 'tarun', 'sachin', 'tarun', 'tarun', 'ankit', 'jatin', 'jatin', 'shubham', 'ajay', 'sachin', 'ankit', 'jatin', 'ajay', 'jayesh', 'shubham', 'jayesh', 'jayesh', 'ajay', 'tarun', 'shubham', 'shubham', 'jatin', 'ajay', 'jatin', 'ajay', 'ankit', 'tarun', 'tarun', 'tarun', 'sachin', 'ajay', 'jayesh', 'tarun', 'sachin', 'ajay', 'jayesh', 'ajay', 'jatin', 'ajay', 'jatin', 'tarun', 'sachin', 'jatin', 'sachin', 'sachin', 'ajay', 'shubham', 'jayesh', 'sachin', 'sachin', 'shubham', 'sachin', 'sachin', 'tarun', 'ankit', 'jayesh', 'ajay', 'ajay', 'sachin', 'ajay', 'ankit', 'tarun', 'tarun', 'jatin', 'tarun', 'jatin', 'jatin', 'jatin', 'jatin', 'shubham', 'tarun', 'tarun', 'ajay', 'ajay', 'ankit', 'tarun', 'ajay', 'ajay', 'jatin', 'jayesh', 'jatin', 'ajay', 'sachin', 'sachin', 'tarun', 'ajay', 'sachin', 'jatin', 'sachin', 'ankit', 'tarun', 'jayesh', 'ankit', 'shubham', 'ajay', 'tarun', 'tarun', 'sachin', 'ajay', 'shubham', 'ankit', 'jayesh', 'tarun', 'ajay', 'shubham', 'jayesh', 'jatin', 'tarun', 'sachin', 'shubham', 'jatin', 'jatin', 'jayesh', 'jayesh', 'ankit', 'jatin', 'ajay', 'tarun', 'shubham', 'shubham', 'ankit', 'shubham', 'sachin', 'tarun', 'ankit', 'ajay', 'jayesh', 'tarun', 'shubham', 'jayesh', 'jayesh', 'jatin', 'ajay', 'jatin', 'jayesh', 'tarun', 'jatin', 'shubham', 'shubham', 'shubham', 'ajay', 'ankit', 'ankit', 'ankit', 'ajay', 'jatin', 'jayesh', 'tarun', 'jayesh', 'ankit', 'tarun', 'tarun', 'jatin', 'ankit', 'jayesh', 'sachin', 'jayesh', 'jatin', 'shubham', 'sachin', 'jatin', 'sachin', 'jatin', 'jayesh', 'ankit', 'jatin', 'ajay', 'ajay', 'ankit', 'tarun', 'tarun', 'shubham', 'ankit', 'jatin', 'jatin', 'jatin', 'jayesh', 'jatin', 'sachin', 'sachin', 'shubham', 'jatin', 'jatin', 'sachin', 'tarun', 'jayesh', 'tarun', 'ajay', 'ankit', 'jayesh', 'jayesh', 'shubham', 'sachin', 'jatin', 'jayesh', 'ankit', 'tarun', 'jayesh', 'ajay', 'ankit', 'ankit', 'sachin', 'jatin', 'tarun', 'jatin', 'sachin', 'ankit', 'jayesh', 'ankit', 'sachin', 'sachin', 'jayesh', 'jatin', 'ajay', 'jatin', 'ankit', 'sachin', 'ankit', 'ajay', 'sachin', 'jatin', 'shubham', 'sachin', 'ankit', 'jayesh', 'jatin', 'jatin', 'ajay', 'shubham', 'ankit', 'jayesh', 'tarun', 'tarun', 'ajay', 'jatin', 'tarun', 'sachin', 'tarun', 'shubham', 'shubham', 'sachin', 'shubham', 'jatin', 'ajay', 'sachin', 'sachin', 'jayesh', 'ajay', 'ankit', 'sachin', 'sachin', 'ankit', 'sachin', 'shubham', 'shubham', 'ankit', 'shubham', 'shubham', 'sachin', 'tarun', 'tarun', 'shubham', 'ankit', 'jayesh', 'jayesh', 'tarun', 'shubham', 'tarun', 'jayesh', 'ankit', 'ajay', 'tarun', 'shubham', 'ankit', 'shubham', 'shubham', 'jatin', 'sachin', 'jatin', 'ankit', 'ankit', 'jayesh', 'sachin', 'ajay', 'sachin', 'ankit', 'ajay', 'ajay', 'sachin', 'tarun', 'jatin', 'jayesh', 'sachin', 'ankit', 'jayesh', 'ajay', 'jayesh', 'shubham', 'tarun', 'ajay', 'jayesh', 'ankit', 'shubham', 'jayesh', 'tarun', 'jayesh', 'tarun', 'shubham', 'jayesh', 'ajay', 'shubham', 'jayesh', 'ankit', 'ankit', 'tarun', 'ajay', 'shubham', 'sachin', 'sachin', 'shubham', 'sachin', 'ankit', 'sachin', 'ajay', 'ankit', 'sachin', 'tarun', 'jatin', 'ankit', 'tarun', 'sachin', 'shubham', 'shubham', 'jatin', 'jatin', 'shubham', 'shubham', 'shubham', 'sachin', 'ajay', 'jatin', 'ankit', 'tarun', 'ankit', 'jayesh', 'tarun', 'ankit', 'sachin', 'jatin', 'jayesh', 'jatin', 'jayesh', 'tarun', 'jatin', 'ankit', 'tarun', 'jayesh', 'jayesh', 'shubham', 'sachin', 'ankit', 'jayesh', 'jayesh', 'tarun', 'shubham', 'ajay', 'jatin', 'jayesh', 'sachin', 'sachin', 'ankit', 'jayesh', 'jatin', 'ajay', 'tarun', 'ajay', 'ankit', 'shubham', 'tarun', 'sachin', 'sachin', 'jayesh', 'shubham', 'jayesh', 'ankit', 'jayesh', 'ankit', 'shubham', 'jatin', 'ankit', 'ankit', 'ajay', 'tarun', 'tarun', 'ankit', 'ankit', 'shubham', 'ajay', 'jayesh', 'sachin', 'tarun', 'ajay', 'ankit', 'shubham', 'sachin', 'jatin', 'sachin', 'ajay', 'ajay', 'jayesh', 'ankit', 'sachin', 'jayesh', 'sachin', 'jayesh', 'jayesh', 'shubham', 'tarun', 'tarun', 'ajay', 'sachin', 'ajay', 'tarun', 'jatin', 'tarun', 'jayesh', 'ajay', 'ankit', 'shubham', 'sachin', 'shubham', 'jatin', 'ankit', 'jayesh', 'tarun', 'tarun', 'ajay', 'sachin', 'sachin', 'tarun', 'tarun', 'ankit', 'ankit', 'jayesh', 'sachin', 'tarun', 'tarun', 'shubham', 'ankit', 'ankit', 'jayesh', 'shubham', 'shubham', 'jayesh', 'jayesh', 'ankit', 'jatin', 'ankit', 'jatin', 'tarun', 'jayesh', 'shubham', 'shubham', 'shubham', 'ankit', 'ankit', 'jayesh', 'jatin', 'sachin', 'ankit', 'shubham', 'jatin', 'tarun', 'sachin', 'sachin', 'ajay', 'jayesh', 'ankit', 'sachin', 'tarun', 'shubham', 'sachin', 'jatin', 'shubham', 'sachin', 'jayesh', 'tarun', 'sachin', 'sachin', 'ajay', 'ajay', 'sachin', 'sachin', 'ankit', 'tarun', 'jatin', 'shubham', 'jatin', 'tarun', 'sachin', 'tarun', 'sachin', 'tarun', 'jayesh', 'ajay', 'sachin', 'jayesh', 'sachin', 'tarun', 'tarun', 'tarun', 'jayesh', 'tarun', 'sachin', 'tarun', 'tarun', 'tarun', 'jatin', 'jatin', 'jayesh', 'jayesh', 'ajay', 'sachin', 'shubham', 'jayesh', 'ajay', 'ankit', 'ajay', 'sachin', 'jatin', 'jatin', 'jatin', 'sachin', 'shubham', 'shubham', 'ankit', 'tarun', 'ajay', 'sachin', 'ankit', 'sachin', 'ajay', 'jatin', 'jatin', 'jatin', 'jayesh', 'ankit', 'tarun', 'ajay', 'ajay', 'jayesh', 'sachin', 'jayesh', 'jayesh', 'tarun', 'tarun', 'shubham', 'jayesh', 'shubham', 'tarun', 'shubham', 'shubham', 'jayesh', 'shubham', 'jatin', 'jayesh', 'jayesh', 'shubham', 'ajay', 'tarun', 'tarun', 'jatin', 'tarun', 'ajay', 'jayesh', 'jayesh', 'jayesh', 'tarun', 'tarun', 'tarun', 'jayesh', 'ajay', 'sachin', 'jatin', 'ajay', 'shubham', 'ajay', 'jayesh', 'ankit', 'tarun', 'jayesh', 'tarun', 'ankit', 'jatin', 'jatin', 'jayesh', 'ajay', 'sachin', 'jayesh', 'sachin', 'tarun', 'ajay', 'ajay', 'jayesh', 'tarun', 'tarun', 'jayesh', 'ajay', 'ajay', 'shubham', 'ajay', 'ajay', 'ankit', 'ankit', 'shubham', 'shubham', 'ankit', 'shubham', 'tarun', 'ankit', 'tarun', 'jatin', 'ankit', 'ajay', 'ajay', 'ankit', 'shubham', 'tarun', 'tarun', 'shubham', 'sachin', 'jatin', 'jatin', 'ankit', 'jayesh', 'shubham', 'ajay', 'tarun', 'jayesh', 'sachin', 'tarun', 'tarun', 'ajay', 'shubham', 'jatin', 'ankit', 'tarun', 'tarun', 'jayesh', 'sachin', 'jatin', 'jatin', 'ankit', 'sachin', 'sachin', 'shubham', 'ankit', 'tarun', 'jayesh', 'jayesh', 'tarun', 'jayesh', 'sachin', 'ankit', 'shubham', 'ankit', 'ankit', 'tarun', 'ajay', 'sachin', 'ankit', 'jayesh', 'ajay', 'tarun', 'jayesh', 'ankit', 'ankit', 'ankit', 'jatin', 'ankit', 'jayesh', 'jatin', 'tarun', 'jatin', 'sachin', 'tarun', 'tarun', 'ajay', 'tarun', 'ajay', 'ajay', 'ankit', 'shubham', 'ankit', 'ankit', 'ankit', 'jatin', 'sachin', 'ajay', 'jayesh', 'shubham', 'jatin', 'jatin', 'tarun', 'sachin', 'ajay', 'ajay', 'tarun', 'tarun', 'sachin', 'sachin', 'sachin', 'sachin', 'ankit', 'ankit', 'tarun', 'ankit', 'shubham', 'ajay', 'jayesh', 'jatin', 'jatin', 'shubham', 'tarun', 'shubham', 'ankit', 'jatin', 'shubham', 'ajay', 'jayesh', 'ankit', 'ankit', 'ajay', 'jatin', 'ankit', 'shubham', 'jatin', 'sachin', 'tarun', 'ankit', 'ajay', 'sachin', 'jatin', 'shubham', 'sachin', 'sachin', 'tarun', 'tarun', 'tarun', 'tarun', 'tarun', 'tarun', 'ajay', 'sachin', 'shubham', 'ankit', 'tarun', 'shubham', 'sachin', 'jayesh', 'ajay', 'ankit', 'jayesh', 'sachin', 'tarun', 'jatin', 'jatin', 'ankit', 'jatin', 'ajay', 'ajay', 'tarun', 'shubham', 'tarun', 'shubham', 'jatin', 'jatin', 'ankit', 'shubham', 'jayesh', 'jatin', 'ankit', 'shubham', 'jatin', 'tarun', 'jatin', 'jatin', 'sachin', 'sachin', 'jayesh', 'jayesh', 'ajay', 'tarun', 'jatin', 'jayesh', 'shubham', 'tarun', 'ankit', 'shubham', 'jatin', 'jatin', 'ajay', 'jatin', 'jayesh', 'jatin', 'jayesh', 'ankit', 'ankit', 'sachin', 'ankit', 'tarun', 'shubham', 'tarun', 'jayesh', 'jayesh', 'shubham', 'jatin', 'tarun', 'jayesh', 'sachin', 'ajay', 'jayesh', 'shubham', 'ajay', 'ankit', 'sachin', 'shubham', 'shubham', 'sachin', 'ankit', 'ajay', 'ajay', 'shubham', 'jayesh', 'ankit', 'tarun', 'ajay', 'jatin', 'tarun', 'shubham', 'sachin', 'ajay', 'jayesh', 'ankit', 'jatin', 'jayesh', 'ajay', 'sachin', 'ankit', 'jatin', 'jayesh', 'shubham', 'jatin', 'shubham', 'jayesh', 'ankit', 'jatin', 'ajay', 'ajay', 'sachin', 'tarun', 'ankit', 'sachin', 'sachin', 'jayesh', 'jayesh', 'ajay', 'tarun', 'tarun', 'shubham', 'jayesh', 'shubham', 'jatin', 'shubham', 'sachin', 'sachin', 'ajay', 'ankit', 'ankit', 'jayesh', 'jayesh', 'tarun', 'sachin', 'ankit', 'sachin', 'shubham', 'ajay', 'sachin', 'ajay', 'ajay', 'jayesh', 'ajay', 'tarun', 'sachin', 'sachin', 'ankit', 'ankit', 'tarun', 'ankit', 'tarun', 'ajay', 'shubham', 'shubham', 'shubham', 'sachin', 'tarun', 'tarun', 'shubham', 'ajay', 'ajay', 'jatin', 'jayesh', 'ankit', 'sachin', 'jayesh', 'shubham', 'shubham', 'ajay', 'jatin', 'shubham', 'ajay', 'ajay', 'ankit', 'tarun', 'sachin', 'tarun', 'jatin', 'jayesh', 'jatin', 'shubham', 'sachin', 'ankit', 'shubham', 'ankit', 'ankit', 'tarun', 'sachin', 'shubham', 'tarun', 'jatin', 'jayesh', 'jayesh', 'jatin', 'jatin', 'sachin', 'sachin', 'ankit', 'ajay', 'ankit', 'jayesh', 'jatin', 'jayesh', 'ankit', 'jatin', 'jayesh', 'sachin', 'sachin', 'ajay', 'jatin', 'shubham', 'ajay', 'ajay', 'ajay', 'tarun', 'tarun', 'jayesh', 'jatin', 'ankit', 'jayesh', 'tarun', 'ankit', 'ankit', 'ajay', 'sachin', 'ajay', 'ankit', 'tarun', 'tarun', 'sachin', 'shubham', 'jayesh', 'ankit', 'ankit', 'tarun', 'ajay', 'ankit', 'sachin', 'ankit', 'tarun', 'sachin', 'tarun', 'jatin', 'sachin', 'ajay', 'sachin', 'ajay', 'tarun', 'ankit', 'tarun', 'ajay', 'ajay', 'shubham', 'jatin', 'shubham', 'ajay', 'tarun', 'shubham', 'tarun', 'ankit', 'jayesh', 'jayesh', 'ajay', 'jatin', 'jatin', 'ajay', 'sachin', 'ajay', 'sachin', 'shubham', 'shubham', 'jatin', 'shubham', 'shubham', 'shubham', 'tarun', 'sachin', 'ajay', 'jayesh', 'jayesh', 'shubham', 'ajay', 'tarun', 'jatin', 'jatin', 'sachin', 'ajay', 'ankit', 'ajay', 'ankit', 'shubham', 'jatin', 'shubham', 'shubham', 'shubham', 'shubham', 'shubham', 'shubham', 'jayesh', 'shubham', 'ankit', 'sachin', 'jayesh', 'jayesh', 'sachin', 'shubham', 'jayesh', 'ankit', 'jayesh', 'jayesh', 'sachin', 'jatin', 'sachin', 'jatin', 'ankit', 'jayesh', 'tarun', 'jatin', 'tarun', 'shubham', 'jatin', 'jayesh', 'sachin', 'shubham', 'ankit', 'sachin', 'jayesh', 'jayesh', 'ajay', 'jatin', 'sachin', 'tarun', 'shubham', 'tarun', 'sachin', 'tarun', 'sachin', 'sachin', 'sachin', 'ajay', 'tarun', 'ajay', 'jayesh', 'ajay', 'shubham', 'sachin', 'tarun', 'tarun', 'sachin', 'tarun', 'ajay', 'tarun', 'ajay', 'ajay', 'ankit', 'shubham', 'sachin', 'ankit', 'shubham', 'ankit', 'ankit', 'ajay', 'shubham', 'ankit', 'jatin', 'tarun', 'tarun', 'ajay', 'tarun', 'jayesh', 'shubham', 'sachin', 'tarun', 'sachin', 'sachin', 'shubham', 'ankit', 'ankit', 'sachin', 'tarun', 'jatin', 'jatin', 'jayesh', 'jayesh', 'jayesh', 'sachin', 'jayesh', 'jayesh', 'sachin', 'jayesh', 'tarun', 'ajay', 'tarun', 'sachin', 'jayesh', 'jatin', 'jayesh', 'ajay', 'jayesh', 'ajay', 'ankit', 'tarun', 'tarun', 'ajay', 'shubham', 'tarun', 'ankit', 'ajay', 'jayesh', 'jatin', 'sachin', 'jayesh', 'jayesh', 'sachin', 'jayesh', 'tarun', 'ankit', 'ankit', 'sachin', 'tarun', 'sachin', 'ankit', 'tarun', 'shubham', 'jatin', 'shubham', 'ankit', 'ankit', 'ajay', 'jayesh', 'tarun', 'jatin', 'ankit', 'jayesh', 'sachin', 'ankit', 'sachin', 'jatin', 'ankit', 'jatin', 'shubham', 'tarun', 'ankit', 'ankit', 'sachin', 'jatin', 'shubham', 'ankit', 'sachin', 'ankit', 'ankit', 'tarun', 'ajay', 'tarun', 'jayesh', 'jayesh', 'jayesh', 'shubham', 'tarun', 'jayesh', 'shubham', 'sachin', 'jayesh', 'ankit', 'ajay', 'ajay', 'ajay', 'jayesh', 'sachin', 'jayesh', 'ankit', 'tarun', 'ajay', 'ankit', 'sachin', 'jatin', 'ankit', 'jayesh', 'jayesh', 'shubham', 'ajay', 'ankit', 'shubham', 'ankit', 'jayesh', 'ankit', 'jayesh', 'sachin', 'jatin', 'jayesh', 'jatin', 'jatin', 'ajay', 'shubham', 'jatin', 'tarun', 'shubham', 'tarun', 'jatin', 'jatin', 'sachin', 'sachin', 'jatin', 'jayesh', 'jatin', 'jayesh', 'tarun', 'ajay', 'ankit', 'shubham', 'sachin', 'ankit', 'ankit', 'tarun', 'tarun', 'ajay', 'sachin', 'sachin', 'shubham', 'tarun', 'sachin', 'ankit', 'jatin', 'ankit', 'jayesh', 'sachin', 'jatin', 'ankit', 'tarun', 'shubham', 'tarun', 'ajay', 'sachin', 'ankit', 'ajay', 'ajay', 'jayesh', 'tarun', 'sachin', 'jayesh', 'jatin', 'jayesh', 'ankit', 'ankit', 'jayesh', 'jayesh', 'ankit', 'ajay', 'jayesh', 'ajay', 'ankit', 'jatin', 'jayesh', 'shubham', 'jatin', 'ankit', 'shubham', 'sachin', 'sachin', 'ajay', 'ankit', 'sachin', 'ankit', 'jatin', 'tarun', 'sachin', 'jatin', 'sachin', 'sachin', 'jayesh', 'ankit', 'shubham', 'jatin', 'sachin', 'ankit', 'sachin', 'shubham', 'shubham', 'tarun', 'sachin', 'tarun', 'sachin', 'jayesh', 'sachin', 'jayesh', 'shubham', 'ankit', 'jayesh', 'ajay', 'shubham', 'sachin', 'ajay', 'jatin', 'shubham', 'tarun', 'jayesh', 'tarun', 'sachin', 'tarun', 'shubham', 'jatin', 'ajay', 'tarun', 'ankit', 'jayesh', 'ajay', 'jayesh', 'shubham', 'ajay', 'ajay', 'sachin', 'shubham', 'jayesh', 'jatin', 'ankit', 'tarun', 'sachin', 'ankit', 'jatin', 'ankit', 'sachin', 'jatin', 'shubham', 'jatin', 'jayesh', 'shubham', 'jayesh', 'ankit', 'sachin', 'ankit', 'tarun', 'ankit', 'jatin', 'shubham', 'jayesh', 'jayesh', 'ankit', 'jayesh', 'sachin', 'jayesh', 'ajay', 'shubham', 'jatin', 'sachin', 'sachin', 'ankit', 'shubham', 'sachin', 'jatin', 'sachin', 'ajay', 'jatin', 'shubham', 'tarun', 'sachin', 'jatin', 'jayesh', 'ajay', 'shubham', 'tarun', 'jatin', 'tarun', 'tarun', 'shubham', 'sachin', 'ajay', 'jayesh', 'jatin', 'jatin', 'sachin', 'jayesh', 'jatin', 'tarun', 'tarun', 'jayesh', 'jayesh', 'ajay', 'ankit', 'tarun', 'shubham', 'jatin', 'tarun', 'tarun', 'sachin', 'shubham', 'tarun', 'jayesh', 'jayesh', 'jatin', 'jatin', 'ankit', 'shubham', 'tarun', 'ankit', 'sachin', 'jatin', 'shubham', 'shubham', 'ankit', 'ajay', 'jatin', 'ajay', 'jatin', 'shubham', 'sachin', 'ankit', 'ankit', 'sachin', 'jatin', 'ankit', 'jayesh', 'sachin', 'jayesh', 'ajay', 'shubham', 'tarun', 'tarun', 'jayesh', 'jayesh', 'sachin', 'ankit', 'ajay', 'tarun', 'tarun', 'ajay', 'jayesh', 'sachin', 'ajay', 'ankit', 'ajay', 'tarun', 'shubham', 'sachin', 'tarun', 'sachin', 'shubham', 'ankit', 'jayesh', 'jatin', 'ankit', 'ankit', 'tarun', 'sachin', 'sachin', 'jatin', 'tarun', 'tarun', 'ankit', 'jayesh', 'jayesh', 'tarun', 'ankit', 'ankit', 'ankit', 'jatin', 'tarun', 'ankit', 'tarun', 'jatin', 'jatin', 'tarun', 'sachin', 'jayesh', 'ajay', 'ajay', 'tarun', 'ajay', 'ankit', 'ajay', 'ankit', 'sachin', 'jatin', 'tarun', 'jatin', 'shubham', 'ankit', 'ajay', 'shubham', 'ankit', 'jayesh', 'ajay', 'ajay', 'ankit', 'tarun', 'sachin', 'ankit', 'ajay', 'ajay', 'shubham', 'ankit', 'shubham', 'sachin', 'tarun', 'ankit', 'ajay', 'jatin', 'tarun', 'ankit', 'shubham', 'sachin', 'sachin', 'ankit', 'jayesh', 'jayesh', 'tarun', 'jayesh', 'shubham', 'jatin', 'sachin', 'jayesh', 'ajay', 'tarun', 'jatin', 'tarun', 'jayesh', 'jayesh', 'jayesh', 'jayesh', 'shubham', 'jayesh', 'shubham', 'sachin', 'jatin', 'sachin', 'jatin', 'ajay', 'tarun', 'ajay', 'sachin', 'tarun', 'tarun', 'jayesh', 'shubham', 'jatin', 'ankit', 'sachin', 'ankit', 'jatin', 'shubham', 'jayesh', 'tarun', 'jayesh', 'ankit', 'tarun', 'ajay', 'jatin', 'jayesh', 'sachin', 'sachin', 'ankit', 'shubham', 'jayesh', 'sachin', 'ankit', 'jatin', 'tarun', 'sachin', 'tarun', 'jatin', 'ankit', 'tarun', 'jayesh', 'sachin', 'jatin', 'shubham', 'tarun', 'shubham', 'sachin', 'jatin', 'ankit', 'sachin', 'ankit', 'tarun', 'ajay', 'ankit', 'jatin', 'ajay', 'shubham', 'jatin', 'ankit', 'jayesh', 'jatin', 'ankit', 'shubham', 'ankit', 'jayesh', 'tarun', 'shubham', 'sachin', 'jayesh', 'ajay', 'jatin', 'jatin', 'jatin', 'tarun', 'ajay', 'jatin', 'ajay', 'tarun', 'tarun', 'tarun', 'ankit', 'jayesh', 'ankit', 'shubham', 'tarun', 'jatin', 'ajay', 'ankit', 'sachin', 'tarun', 'ajay', 'jatin', 'tarun', 'jayesh', 'tarun', 'sachin', 'shubham', 'jayesh', 'ajay', 'jatin', 'tarun', 'ajay', 'jatin', 'jayesh', 'ajay', 'shubham', 'shubham', 'ajay', 'jayesh', 'jatin', 'shubham', 'ankit', 'ankit', 'jatin', 'tarun', 'tarun', 'sachin', 'sachin', 'tarun', 'ajay', 'tarun', 'ankit', 'tarun', 'shubham', 'ankit', 'tarun', 'jayesh', 'sachin', 'ankit', 'shubham', 'jayesh', 'jayesh', 'tarun', 'ankit', 'ajay', 'jatin', 'jatin', 'shubham', 'ajay', 'ankit', 'ajay', 'jatin', 'jayesh', 'shubham', 'tarun', 'jatin', 'tarun', 'ajay', 'tarun', 'ankit', 'jatin', 'ankit', 'jatin', 'sachin', 'ajay', 'jatin', 'jayesh', 'tarun', 'ankit', 'jatin', 'tarun', 'shubham', 'tarun', 'ankit', 'jayesh', 'shubham', 'jayesh', 'shubham', 'tarun', 'shubham', 'tarun', 'shubham', 'tarun', 'ajay', 'jayesh', 'jayesh', 'sachin', 'ankit', 'sachin', 'sachin', 'ajay', 'ajay', 'ankit', 'jatin', 'sachin', 'sachin', 'sachin', 'sachin', 'ajay', 'shubham', 'ankit', 'ajay', 'sachin', 'jayesh', 'jayesh', 'tarun', 'tarun', 'ajay', 'shubham', 'shubham', 'ankit', 'sachin', 'shubham', 'jatin', 'ajay', 'ankit', 'jatin', 'jayesh', 'jayesh', 'shubham', 'ankit', 'ankit', 'jayesh', 'sachin', 'jayesh', 'sachin', 'tarun', 'ankit', 'ankit', 'ajay', 'jayesh', 'ankit', 'ajay', 'ajay', 'jatin', 'shubham', 'tarun', 'shubham', 'sachin', 'ankit', 'sachin', 'ajay', 'tarun', 'jayesh', 'jatin', 'tarun', 'jatin', 'tarun', 'ankit', 'jayesh', 'ajay', 'shubham', 'jatin', 'jatin', 'sachin', 'ajay', 'jatin', 'shubham', 'shubham', 'ankit', 'ankit', 'jayesh', 'ankit', 'ajay', 'shubham', 'sachin', 'sachin', 'shubham', 'shubham', 'ankit', 'tarun', 'tarun', 'jatin', 'ankit', 'tarun', 'sachin', 'ajay', 'jatin', 'jatin', 'jatin', 'sachin', 'shubham', 'jatin', 'jatin', 'ajay', 'jatin', 'jatin', 'shubham', 'jayesh', 'shubham', 'shubham', 'ankit', 'jayesh', 'tarun', 'sachin', 'tarun', 'sachin', 'jayesh', 'ajay', 'sachin', 'jatin', 'jatin', 'sachin', 'shubham', 'tarun', 'shubham', 'jayesh', 'sachin', 'sachin', 'jatin', 'sachin', 'tarun', 'ankit', 'sachin', 'jatin', 'sachin', 'jayesh', 'jayesh', 'shubham', 'sachin', 'sachin', 'jatin', 'shubham', 'shubham', 'tarun', 'ankit', 'ajay', 'jayesh', 'shubham', 'ajay', 'jatin', 'shubham', 'ajay', 'shubham', 'ankit', 'jatin', 'ajay', 'tarun', 'jatin', 'jatin', 'ajay', 'shubham', 'tarun', 'ajay', 'sachin', 'jayesh', 'jatin', 'jatin', 'sachin', 'ankit', 'jatin', 'ankit', 'sachin', 'sachin', 'ankit', 'tarun', 'sachin', 'ankit', 'tarun', 'shubham', 'jatin', 'sachin', 'shubham', 'jayesh', 'ankit', 'ankit', 'sachin', 'shubham', 'jayesh', 'sachin', 'jayesh', 'sachin', 'ankit', 'ajay', 'ajay', 'tarun', 'ajay', 'jatin', 'tarun', 'sachin', 'shubham', 'shubham', 'ankit', 'ankit', 'sachin', 'sachin', 'jayesh', 'sachin', 'shubham', 'ajay', 'tarun', 'shubham', 'jatin', 'ankit', 'jatin', 'shubham', 'tarun', 'shubham', 'tarun', 'ajay', 'jatin', 'ajay', 'shubham', 'jayesh', 'ajay', 'tarun', 'jatin', 'sachin', 'ajay', 'jayesh', 'shubham', 'jatin', 'tarun', 'shubham', 'jatin', 'jayesh', 'shubham', 'jayesh', 'ankit', 'ajay', 'jayesh', 'ankit', 'ankit', 'jayesh', 'sachin', 'jayesh', 'ankit', 'jayesh', 'ajay', 'ankit', 'ajay', 'jayesh', 'jatin', 'jayesh', 'ajay', 'jayesh', 'jatin', 'jatin', 'tarun', 'sachin', 'jatin', 'ankit', 'ajay', 'jatin', 'tarun', 'sachin', 'shubham', 'tarun', 'tarun', 'tarun', 'jatin', 'sachin', 'shubham', 'shubham', 'shubham', 'jatin', 'shubham', 'ajay', 'jatin', 'jayesh', 'jayesh', 'shubham', 'sachin', 'ajay', 'ankit', 'ankit', 'ajay', 'jayesh', 'ankit', 'sachin', 'tarun', 'jatin', 'jayesh', 'ankit', 'ankit', 'ajay', 'ajay', 'jayesh', 'shubham', 'jatin', 'tarun', 'jayesh', 'tarun', 'jatin', 'ajay', 'ajay', 'ajay', 'tarun', 'ajay', 'shubham', 'tarun', 'jatin', 'tarun', 'ankit', 'ajay', 'ajay', 'ankit', 'tarun', 'shubham', 'sachin', 'ankit', 'tarun', 'ajay', 'jatin', 'ajay', 'jatin', 'jayesh', 'ankit', 'jayesh', 'tarun', 'jatin', 'ajay', 'ajay', 'tarun', 'ajay', 'shubham', 'jatin', 'shubham', 'tarun', 'tarun', 'shubham', 'shubham', 'jayesh', 'jayesh', 'jatin', 'ajay', 'tarun', 'tarun', 'jatin', 'tarun', 'ankit', 'jayesh', 'ajay', 'ajay', 'shubham', 'ankit', 'sachin', 'jatin', 'jatin', 'jatin', 'tarun', 'jayesh', 'shubham', 'shubham', 'ajay', 'tarun', 'sachin', 'tarun', 'jatin', 'ankit', 'jatin', 'ajay', 'jatin', 'sachin', 'ankit', 'ankit', 'tarun', 'tarun', 'jayesh', 'tarun', 'ankit', 'jatin', 'ankit', 'ajay', 'sachin', 'sachin', 'jayesh', 'jatin', 'jayesh', 'sachin', 'ankit', 'ankit', 'tarun', 'jayesh', 'tarun', 'jayesh', 'ankit', 'sachin', 'jayesh', 'jatin', 'ajay', 'ajay', 'sachin', 'ankit', 'shubham', 'shubham', 'tarun', 'sachin', 'shubham', 'jatin', 'jayesh', 'tarun', 'ankit', 'sachin', 'jayesh', 'jatin', 'jatin', 'tarun', 'tarun', 'tarun', 'shubham', 'sachin', 'ankit', 'ajay', 'shubham', 'jayesh', 'jayesh', 'ajay', 'sachin', 'ankit', 'tarun', 'jayesh', 'ajay', 'ankit', 'ajay', 'tarun', 'jayesh', 'shubham', 'sachin', 'ajay', 'ajay', 'jatin', 'shubham', 'jatin', 'ajay', 'sachin', 'ankit', 'jatin', 'jatin', 'sachin', 'ankit', 'ajay', 'sachin', 'jatin', 'ankit', 'ankit', 'tarun', 'shubham', 'shubham', 'shubham', 'jatin', 'tarun', 'jayesh', 'ajay', 'ajay', 'jatin', 'sachin', 'jayesh', 'sachin', 'shubham', 'jayesh', 'shubham', 'ajay', 'jatin', 'ankit', 'jatin', 'jatin', 'shubham', 'ajay', 'ajay', 'jayesh', 'jayesh', 'jatin', 'ajay', 'jayesh', 'tarun', 'shubham', 'jayesh', 'ajay', 'ajay', 'jatin', 'sachin', 'ajay', 'ajay', 'ankit', 'sachin', 'jatin', 'shubham', 'shubham', 'sachin', 'jatin', 'jatin', 'jatin', 'shubham', 'ankit', 'ajay', 'tarun', 'jayesh', 'jayesh', 'tarun', 'ankit', 'sachin', 'shubham', 'ajay', 'sachin', 'ajay', 'ankit', 'tarun', 'jayesh', 'shubham', 'jayesh', 'shubham', 'sachin', 'jayesh', 'sachin', 'ajay', 'shubham', 'jayesh', 'sachin', 'shubham', 'jatin', 'jatin', 'ankit', 'sachin', 'tarun', 'tarun', 'tarun', 'tarun', 'ajay', 'jatin', 'ajay', 'jayesh', 'tarun', 'ajay', 'tarun', 'jatin', 'jatin', 'tarun', 'ankit', 'shubham', 'jatin', 'ankit', 'sachin', 'ajay', 'tarun', 'tarun', 'shubham', 'shubham', 'ajay', 'shubham', 'shubham', 'ankit', 'jayesh', 'ankit', 'tarun', 'shubham', 'shubham', 'ankit', 'jayesh', 'jatin', 'sachin', 'tarun', 'jayesh', 'shubham', 'ankit', 'jayesh', 'sachin', 'sachin', 'jatin', 'shubham', 'sachin', 'ajay', 'jayesh', 'jatin', 'jayesh', 'shubham', 'ajay', 'jayesh', 'shubham', 'shubham', 'shubham', 'sachin', 'jayesh', 'jatin', 'ajay', 'shubham', 'ankit', 'sachin', 'ankit', 'ajay', 'tarun', 'tarun', 'shubham', 'ankit', 'ajay', 'ajay', 'shubham', 'tarun', 'shubham', 'shubham', 'jatin', 'jatin', 'ankit', 'ajay', 'jayesh', 'jatin', 'ajay', 'ajay', 'sachin', 'shubham', 'ajay', 'sachin', 'jayesh', 'ankit', 'sachin', 'ankit', 'ajay', 'jatin', 'tarun', 'jayesh', 'jayesh', 'ajay', 'jatin', 'jatin', 'jayesh', 'sachin', 'jayesh', 'ankit', 'jatin', 'ajay', 'ajay', 'jayesh', 'shubham', 'ankit', 'ankit', 'ajay', 'jayesh', 'ankit', 'jayesh', 'ajay', 'ajay', 'sachin', 'sachin', 'ankit', 'tarun', 'jatin', 'sachin', 'ankit', 'tarun', 'jatin', 'ankit', 'sachin', 'ankit', 'ajay', 'jayesh', 'ankit', 'ajay', 'ajay', 'shubham', 'sachin', 'ajay', 'ankit', 'sachin', 'ajay', 'sachin', 'sachin', 'tarun', 'shubham', 'ankit', 'sachin', 'ankit', 'shubham', 'ankit', 'shubham', 'sachin', 'ankit', 'ankit', 'jatin', 'jayesh', 'ankit', 'tarun', 'tarun', 'tarun', 'sachin', 'tarun', 'jatin', 'ankit', 'jayesh', 'shubham', 'tarun', 'jatin', 'tarun', 'shubham', 'jatin', 'ajay', 'jatin', 'ajay', 'ajay', 'sachin', 'shubham', 'shubham', 'sachin', 'sachin', 'jayesh', 'sachin', 'jatin', 'ankit', 'jatin', 'jayesh', 'jatin', 'jatin', 'ankit', 'shubham', 'tarun', 'jayesh', 'shubham', 'jayesh', 'jayesh', 'tarun', 'tarun', 'ajay', 'jatin', 'tarun', 'shubham', 'tarun', 'sachin', 'sachin', 'jayesh', 'ajay', 'shubham', 'shubham', 'ankit', 'jatin', 'shubham', 'shubham', 'tarun', 'tarun', 'jatin', 'shubham', 'jatin', 'ajay', 'ankit', 'shubham', 'jayesh', 'ankit', 'sachin', 'sachin', 'jayesh', 'jatin', 'tarun', 'shubham', 'sachin', 'sachin', 'jayesh', 'tarun', 'sachin', 'shubham', 'tarun', 'ajay', 'jatin', 'shubham', 'ajay', 'sachin', 'shubham', 'tarun', 'jayesh', 'jatin', 'sachin', 'shubham', 'jatin', 'sachin', 'jayesh', 'sachin', 'shubham', 'tarun', 'shubham', 'jayesh', 'sachin', 'jatin', 'ankit', 'shubham', 'ajay', 'sachin', 'sachin', 'jayesh', 'ajay', 'tarun', 'shubham', 'shubham', 'ajay', 'jayesh', 'jatin', 'shubham', 'shubham', 'ankit', 'ankit', 'sachin', 'shubham', 'tarun', 'ajay', 'ankit', 'shubham', 'jayesh', 'shubham', 'jatin', 'jatin', 'shubham', 'sachin', 'jayesh', 'shubham', 'ankit', 'jatin', 'ankit', 'jayesh', 'tarun', 'ankit', 'ankit', 'ankit', 'tarun', 'ankit', 'ajay', 'tarun', 'jayesh', 'ankit', 'jatin', 'shubham', 'jatin', 'sachin', 'sachin', 'tarun', 'tarun', 'shubham', 'ankit', 'jayesh', 'ajay', 'ankit', 'jayesh', 'ajay', 'shubham', 'jatin', 'tarun', 'sachin', 'shubham', 'ajay', 'tarun', 'jayesh', 'jatin', 'tarun', 'shubham', 'sachin', 'shubham', 'ankit', 'jatin', 'tarun', 'ankit', 'tarun', 'tarun', 'ajay', 'shubham', 'sachin', 'jayesh', 'jatin', 'shubham', 'shubham', 'jatin', 'jatin', 'jatin', 'jayesh', 'shubham', 'jatin', 'jatin', 'ajay', 'ankit', 'ajay', 'ajay', 'sachin', 'tarun', 'jatin', 'ajay', 'jatin', 'shubham', 'shubham', 'sachin', 'ajay', 'shubham', 'shubham', 'tarun', 'jatin', 'jayesh', 'ajay', 'ankit', 'ajay', 'tarun', 'jayesh', 'sachin', 'tarun', 'ankit', 'jatin', 'sachin', 'jatin', 'ajay', 'sachin', 'shubham', 'sachin', 'jayesh', 'sachin', 'jayesh', 'tarun', 'sachin', 'jatin', 'ankit', 'ajay', 'shubham', 'tarun', 'ajay', 'ajay', 'ankit', 'shubham', 'ankit', 'ajay', 'sachin', 'tarun', 'sachin', 'jayesh', 'jatin', 'jatin', 'ankit', 'ajay', 'ankit', 'ankit', 'jatin', 'shubham', 'sachin', 'jatin', 'ajay', 'jatin', 'ajay', 'ajay', 'jatin', 'jatin', 'ajay', 'ankit', 'shubham', 'ankit', 'shubham', 'sachin', 'sachin', 'tarun', 'ajay', 'tarun', 'ankit', 'shubham', 'jatin', 'sachin', 'sachin', 'jatin', 'sachin', 'jayesh', 'ankit', 'shubham', 'tarun', 'tarun', 'jatin', 'tarun', 'tarun', 'tarun', 'shubham', 'sachin', 'shubham', 'ajay', 'tarun', 'jayesh', 'jatin', 'shubham', 'shubham', 'jatin', 'ankit', 'ajay', 'ajay', 'ankit', 'jayesh', 'sachin', 'shubham', 'shubham', 'sachin', 'jayesh', 'ankit', 'sachin', 'ajay', 'ajay', 'ankit', 'jatin', 'tarun', 'tarun', 'ankit', 'jatin', 'shubham', 'tarun', 'jatin', 'jatin', 'ajay', 'jayesh', 'shubham', 'jayesh', 'ajay', 'ankit', 'sachin', 'tarun', 'jatin', 'jatin', 'jatin', 'ajay', 'jayesh', 'shubham', 'ajay', 'ajay', 'jatin', 'jatin', 'ankit', 'ankit', 'jatin', 'sachin', 'tarun', 'sachin', 'sachin', 'ankit', 'ankit', 'sachin', 'ankit', 'jatin', 'ajay', 'ankit', 'tarun', 'shubham', 'tarun', 'ankit', 'jayesh', 'ajay', 'tarun', 'jayesh', 'shubham', 'ajay', 'ajay', 'sachin', 'shubham', 'jayesh', 'shubham', 'sachin', 'jayesh', 'shubham', 'shubham', 'ajay', 'jayesh', 'tarun', 'ajay', 'tarun', 'ajay', 'sachin', 'tarun', 'ankit', 'jatin', 'tarun', 'tarun', 'shubham', 'tarun', 'tarun', 'shubham', 'tarun', 'ankit', 'jatin', 'jatin', 'ankit', 'shubham', 'sachin', 'tarun', 'jayesh', 'ajay', 'jatin', 'ankit', 'tarun', 'jayesh', 'tarun', 'ankit', 'sachin', 'ankit', 'ankit', 'jatin', 'jatin', 'jayesh', 'jatin', 'jatin', 'ajay', 'tarun', 'shubham', 'jayesh', 'tarun', 'sachin', 'ankit', 'jayesh', 'jatin', 'sachin', 'tarun', 'sachin', 'jayesh', 'shubham', 'ajay', 'jatin', 'shubham', 'sachin', 'ajay', 'tarun', 'jayesh', 'tarun', 'tarun', 'jatin', 'jayesh', 'shubham', 'ankit', 'sachin', 'shubham', 'tarun', 'ajay', 'ankit', 'ajay', 'jatin', 'ankit', 'tarun', 'jayesh', 'jatin', 'sachin', 'jatin', 'shubham', 'jayesh', 'shubham', 'ajay', 'tarun', 'shubham', 'sachin', 'sachin', 'sachin', 'jatin', 'jayesh', 'jayesh', 'tarun', 'ajay', 'sachin', 'sachin', 'tarun', 'sachin', 'sachin', 'ajay', 'tarun', 'ajay', 'jayesh', 'jatin', 'tarun', 'tarun', 'ankit', 'sachin', 'jayesh', 'ankit', 'ajay', 'shubham', 'ajay', 'ankit', 'ajay', 'shubham', 'shubham', 'ankit', 'shubham', 'ankit', 'jatin', 'tarun', 'sachin', 'sachin', 'ankit', 'tarun', 'jatin', 'shubham', 'shubham', 'ajay', 'tarun', 'ankit', 'ankit', 'shubham', 'shubham', 'sachin', 'jatin', 'ajay', 'tarun', 'ankit', 'shubham', 'sachin', 'sachin', 'jayesh', 'jayesh', 'ankit', 'jatin', 'sachin', 'sachin', 'shubham', 'ajay', 'shubham', 'ankit', 'ajay', 'jatin', 'jayesh', 'ankit', 'sachin', 'ajay', 'jayesh', 'tarun', 'shubham', 'jayesh', 'jatin', 'ankit', 'tarun', 'jayesh', 'ankit', 'jatin', 'shubham', 'jayesh', 'shubham', 'ankit', 'sachin', 'shubham', 'tarun', 'tarun', 'tarun', 'shubham', 'jayesh', 'sachin', 'sachin', 'shubham', 'tarun', 'ajay', 'jatin', 'sachin', 'ajay', 'shubham', 'tarun', 'shubham', 'tarun', 'jayesh', 'jatin', 'sachin', 'jayesh', 'shubham', 'sachin', 'jayesh', 'jayesh', 'ajay', 'jatin', 'jatin', 'jayesh', 'jatin', 'jayesh', 'tarun', 'sachin', 'shubham', 'sachin', 'ankit', 'ajay', 'ajay', 'tarun', 'ankit', 'tarun', 'jayesh', 'tarun', 'tarun', 'jatin', 'ajay', 'ajay', 'ankit', 'shubham', 'tarun', 'jatin', 'shubham', 'jayesh', 'jayesh', 'ankit', 'jayesh', 'tarun', 'sachin', 'jatin', 'ajay', 'ajay', 'tarun', 'ankit', 'shubham', 'sachin', 'sachin', 'ankit', 'tarun', 'tarun', 'shubham', 'sachin', 'sachin', 'shubham', 'jayesh', 'shubham', 'sachin', 'ankit', 'ankit', 'shubham', 'sachin', 'tarun', 'jatin', 'ajay', 'ajay', 'shubham', 'tarun', 'ankit', 'shubham', 'ajay', 'shubham', 'jayesh', 'ajay', 'tarun', 'sachin', 'sachin', 'ajay', 'sachin', 'jatin', 'tarun', 'jayesh', 'tarun', 'jayesh', 'tarun', 'ankit', 'ajay', 'tarun', 'ajay', 'jatin', 'jayesh', 'sachin', 'tarun', 'jayesh', 'shubham', 'jatin', 'sachin', 'ajay', 'tarun', 'jatin', 'ajay', 'tarun', 'tarun', 'tarun', 'sachin', 'shubham', 'sachin', 'tarun', 'ajay', 'ankit', 'shubham', 'shubham', 'tarun', 'jayesh', 'ankit', 'ankit', 'tarun', 'tarun', 'ajay', 'sachin', 'jayesh', 'jatin', 'jatin', 'jatin', 'sachin', 'ajay', 'sachin', 'jatin', 'ajay', 'jatin', 'shubham', 'ankit', 'jayesh', 'ajay', 'shubham', 'jatin', 'ajay', 'jatin', 'ankit', 'shubham', 'tarun', 'ankit', 'jatin', 'tarun', 'ajay', 'tarun', 'tarun', 'shubham', 'shubham', 'jatin', 'jatin', 'shubham', 'ankit', 'tarun', 'sachin', 'jayesh', 'sachin', 'ankit', 'ajay', 'ajay', 'ankit', 'sachin', 'sachin', 'ajay', 'ankit', 'jatin', 'shubham', 'shubham', 'tarun', 'jatin', 'ankit', 'shubham', 'shubham', 'jatin', 'shubham', 'ajay', 'sachin', 'tarun', 'sachin', 'jayesh', 'jatin', 'jatin', 'sachin', 'jatin', 'tarun', 'jayesh', 'jayesh', 'shubham', 'sachin', 'shubham', 'ankit', 'jatin', 'shubham', 'jayesh', 'ajay', 'jayesh', 'shubham', 'sachin', 'ajay', 'jatin', 'shubham', 'tarun', 'jatin', 'sachin', 'shubham', 'ajay', 'tarun', 'tarun', 'ankit', 'shubham', 'sachin', 'jayesh', 'jatin', 'jatin', 'sachin', 'sachin', 'sachin', 'ankit', 'sachin', 'tarun', 'jayesh', 'ankit', 'tarun', 'jatin', 'sachin', 'ankit', 'sachin', 'jatin', 'ankit', 'tarun', 'shubham', 'sachin', 'shubham', 'shubham', 'shubham', 'sachin', 'jayesh', 'sachin', 'shubham', 'tarun', 'ajay', 'ajay', 'ajay', 'shubham', 'tarun', 'sachin', 'tarun', 'shubham', 'sachin', 'ankit', 'shubham', 'tarun', 'ajay', 'tarun', 'jatin', 'ankit', 'ankit', 'sachin', 'shubham', 'jatin', 'ankit', 'jatin', 'jatin', 'jayesh', 'sachin', 'sachin', 'jayesh', 'sachin', 'sachin', 'shubham', 'sachin', 'ankit', 'sachin', 'shubham', 'shubham', 'sachin', 'tarun', 'shubham', 'jatin', 'sachin', 'jatin', 'shubham', 'ankit', 'tarun', 'jayesh', 'shubham', 'ankit', 'ajay', 'ajay', 'ankit', 'tarun', 'sachin', 'tarun', 'sachin', 'jatin', 'jatin', 'tarun', 'ankit', 'jayesh', 'ajay', 'ajay', 'ankit', 'shubham', 'sachin', 'jatin', 'jayesh', 'ajay', 'sachin', 'tarun', 'shubham', 'jatin', 'ankit', 'ankit', 'jayesh', 'ankit', 'jatin', 'tarun', 'ajay', 'ankit', 'tarun', 'jatin', 'shubham', 'tarun', 'jatin', 'tarun', 'jatin', 'sachin', 'sachin', 'jayesh', 'ajay', 'jayesh', 'sachin', 'jatin', 'tarun', 'ankit', 'sachin', 'jayesh', 'ankit', 'jatin', 'jayesh', 'jatin', 'sachin', 'jayesh', 'tarun', 'jatin', 'sachin', 'jayesh', 'ankit', 'ajay', 'sachin', 'jayesh', 'tarun', 'ankit', 'shubham', 'sachin', 'jatin', 'ajay', 'jayesh', 'jayesh', 'ajay', 'shubham', 'sachin', 'ajay', 'ankit', 'ankit', 'jayesh', 'ajay', 'jatin', 'sachin', 'sachin', 'ajay', 'tarun', 'tarun', 'jatin', 'ajay', 'ajay', 'jayesh', 'sachin', 'sachin', 'jatin', 'jayesh', 'ajay', 'ankit', 'ajay', 'sachin', 'sachin', 'sachin', 'shubham', 'ankit', 'ajay', 'ajay', 'ankit', 'shubham', 'ajay', 'ankit', 'ankit', 'shubham', 'ajay', 'sachin', 'ankit', 'jatin', 'jayesh', 'jatin', 'jatin', 'jatin', 'jatin', 'ajay', 'jatin', 'jayesh', 'jatin', 'shubham', 'shubham', 'shubham', 'tarun', 'shubham', 'ajay', 'sachin', 'sachin', 'ajay', 'shubham', 'shubham', 'jatin', 'jayesh', 'jatin', 'shubham', 'jayesh', 'jatin', 'jayesh', 'ajay', 'ajay', 'jatin', 'ankit', 'jayesh', 'shubham', 'ajay', 'sachin', 'ajay', 'ajay', 'jatin', 'tarun', 'jatin', 'shubham', 'jayesh', 'jayesh', 'jayesh', 'sachin', 'jatin', 'ankit', 'jatin', 'ankit', 'shubham', 'shubham', 'jayesh', 'jayesh', 'jatin', 'jayesh', 'ajay', 'jayesh', 'ajay', 'ajay', 'ajay', 'jayesh', 'jayesh', 'jayesh', 'tarun', 'sachin', 'jayesh', 'ajay', 'jayesh', 'ankit', 'tarun', 'ankit', 'ajay', 'ankit', 'shubham', 'sachin', 'sachin', 'shubham', 'ankit', 'ankit', 'jayesh', 'sachin', 'sachin', 'sachin', 'ajay', 'jayesh', 'jatin', 'ajay', 'ajay', 'jatin', 'sachin', 'tarun', 'ajay', 'ajay', 'jatin', 'sachin', 'sachin', 'jayesh', 'shubham', 'shubham', 'tarun', 'jatin', 'jayesh', 'ajay', 'tarun', 'jatin', 'jayesh', 'ajay', 'ankit', 'sachin', 'jayesh', 'ankit', 'jatin', 'jayesh', 'tarun', 'sachin', 'ankit', 'shubham', 'tarun', 'jatin', 'tarun', 'ajay', 'tarun', 'jayesh', 'jayesh', 'sachin', 'ankit', 'sachin', 'shubham', 'ankit', 'ajay', 'jatin', 'ajay', 'sachin', 'shubham', 'ajay', 'jatin', 'jatin', 'jayesh', 'tarun', 'sachin', 'jatin', 'sachin', 'tarun', 'jatin', 'shubham', 'jatin', 'jatin', 'ankit', 'sachin', 'ankit', 'shubham', 'sachin', 'tarun', 'shubham', 'sachin', 'shubham', 'jatin', 'jayesh', 'sachin', 'jatin', 'ankit', 'ajay', 'sachin', 'shubham', 'jayesh', 'shubham', 'ajay', 'shubham', 'sachin', 'ankit', 'jatin', 'ajay', 'tarun', 'sachin', 'sachin', 'tarun', 'jatin', 'ankit', 'ajay', 'ajay', 'ankit', 'ankit', 'ajay', 'jatin', 'tarun', 'ajay', 'jayesh', 'ajay', 'shubham', 'jatin', 'tarun', 'ajay', 'shubham', 'shubham', 'tarun', 'sachin', 'ankit', 'shubham', 'jayesh', 'jayesh', 'jayesh', 'ankit', 'tarun', 'jayesh', 'ajay', 'tarun', 'tarun', 'sachin', 'ankit', 'ajay', 'ajay', 'jayesh', 'ankit', 'ankit', 'ankit', 'sachin', 'shubham', 'jatin', 'jayesh', 'shubham', 'tarun', 'ankit', 'jatin', 'ankit', 'tarun', 'shubham', 'ajay', 'ankit', 'sachin', 'jayesh', 'jayesh', 'jayesh', 'shubham', 'sachin', 'jayesh', 'jayesh', 'jayesh', 'ankit', 'jatin', 'jayesh', 'jatin', 'jayesh', 'jayesh', 'sachin', 'ajay', 'tarun', 'jayesh', 'jayesh', 'shubham', 'ankit', 'sachin', 'jatin', 'ankit', 'jayesh', 'tarun', 'ajay', 'shubham', 'tarun', 'ajay', 'ajay', 'shubham', 'shubham', 'sachin', 'sachin', 'shubham', 'ajay', 'ankit', 'jayesh', 'shubham', 'sachin', 'ankit', 'jayesh', 'jayesh', 'jayesh', 'sachin', 'ankit', 'jatin', 'shubham', 'shubham', 'ajay', 'tarun', 'jayesh', 'tarun', 'ajay', 'ajay', 'ankit', 'sachin', 'sachin', 'ajay', 'ankit', 'jayesh', 'jayesh', 'ajay', 'ankit', 'shubham', 'sachin', 'jatin', 'jayesh', 'ankit', 'tarun', 'jayesh', 'jayesh', 'tarun', 'jatin', 'shubham', 'sachin', 'sachin', 'shubham', 'shubham', 'tarun', 'tarun', 'tarun', 'shubham', 'tarun', 'shubham', 'shubham', 'sachin', 'tarun', 'ajay', 'jayesh', 'jatin', 'jatin', 'sachin', 'ajay', 'tarun', 'tarun', 'shubham', 'sachin', 'sachin', 'shubham', 'shubham', 'ankit', 'ajay', 'tarun', 'shubham', 'shubham', 'ankit', 'jatin', 'ajay', 'sachin', 'tarun', 'tarun', 'shubham', 'jayesh', 'ajay', 'shubham', 'tarun', 'ajay', 'tarun', 'ankit', 'tarun', 'sachin', 'ajay', 'ajay', 'ajay', 'ajay', 'ankit', 'ankit', 'sachin', 'ajay', 'tarun', 'shubham', 'ankit', 'jayesh', 'jatin', 'ankit', 'ankit', 'jayesh', 'ankit', 'sachin', 'sachin', 'tarun', 'jatin', 'shubham', 'tarun', 'jatin', 'jatin', 'sachin', 'ankit', 'jatin', 'shubham', 'sachin', 'ankit', 'jayesh', 'jayesh', 'jayesh', 'jatin', 'jayesh', 'shubham', 'jatin', 'jayesh', 'ankit', 'sachin', 'shubham', 'jayesh', 'jayesh', 'jayesh', 'tarun', 'shubham', 'sachin', 'ankit', 'tarun', 'tarun', 'tarun', 'ajay', 'ankit', 'ajay', 'jatin', 'tarun', 'sachin', 'jatin', 'jayesh', 'jayesh', 'ankit', 'sachin', 'tarun', 'jatin', 'sachin', 'jatin', 'jatin', 'tarun', 'ajay', 'jayesh', 'jayesh', 'jayesh', 'jayesh', 'jatin', 'shubham', 'sachin', 'tarun', 'ajay', 'jatin', 'jayesh', 'sachin', 'shubham', 'tarun', 'ankit', 'shubham', 'sachin', 'jatin', 'jatin', 'jatin', 'sachin', 'jatin', 'jayesh', 'jatin', 'ankit', 'ajay', 'ajay', 'jatin', 'ajay', 'tarun', 'ankit', 'jatin', 'tarun', 'jayesh', 'ankit', 'jayesh', 'jatin', 'ajay', 'shubham', 'tarun', 'shubham', 'shubham', 'ajay', 'sachin', 'sachin', 'tarun', 'shubham', 'sachin', 'ankit', 'jayesh', 'shubham', 'jayesh', 'jayesh', 'ajay', 'ajay', 'jatin', 'jatin', 'jatin', 'shubham', 'jatin', 'jatin', 'shubham', 'tarun', 'shubham', 'jatin', 'ankit', 'ankit', 'sachin', 'jayesh', 'sachin', 'ankit', 'shubham', 'tarun', 'sachin', 'jayesh', 'jayesh', 'shubham', 'jatin', 'shubham', 'shubham', 'ankit', 'jayesh', 'jatin', 'ajay', 'jatin', 'sachin', 'ajay', 'ankit', 'shubham', 'shubham', 'ankit', 'jayesh', 'jayesh', 'sachin', 'shubham', 'jatin', 'ajay', 'sachin', 'jayesh', 'ankit', 'shubham', 'jatin', 'tarun', 'tarun', 'jatin', 'jatin', 'jayesh', 'ajay', 'jayesh', 'sachin', 'tarun', 'ajay', 'tarun', 'ankit', 'jatin', 'ankit', 'tarun', 'ajay', 'ankit', 'shubham', 'ajay', 'shubham', 'shubham', 'ankit', 'tarun', 'ankit', 'shubham', 'tarun', 'jayesh', 'ajay', 'ajay', 'jayesh', 'tarun', 'ajay', 'jayesh', 'jayesh', 'jatin', 'tarun', 'jatin', 'ajay', 'ankit', 'jatin', 'ajay', 'ajay', 'shubham', 'jatin', 'shubham', 'ankit', 'jatin', 'ankit', 'shubham', 'ankit', 'ankit', 'shubham', 'tarun', 'tarun', 'jayesh', 'shubham', 'jayesh', 'ajay', 'jayesh', 'ajay', 'ajay', 'ajay', 'jatin', 'ankit', 'sachin', 'ankit', 'jayesh', 'sachin', 'sachin', 'ajay', 'sachin', 'sachin', 'tarun', 'tarun', 'tarun', 'sachin', 'jatin', 'tarun', 'sachin', 'sachin', 'ankit', 'jatin', 'ajay', 'jayesh', 'ajay', 'tarun', 'jatin', 'jayesh', 'ajay', 'jayesh', 'sachin', 'sachin', 'jayesh', 'jatin', 'shubham', 'ankit', 'jatin', 'sachin', 'ajay', 'jatin', 'tarun', 'ankit', 'sachin', 'tarun', 'jayesh', 'ankit', 'ankit', 'jatin', 'jayesh', 'jatin', 'ankit', 'shubham', 'shubham', 'ankit', 'sachin', 'ajay', 'ankit', 'shubham', 'tarun', 'jatin', 'ajay', 'ankit', 'tarun', 'jatin', 'jayesh', 'shubham', 'jatin', 'jatin', 'ajay', 'tarun', 'jayesh', 'shubham', 'ajay', 'jatin', 'shubham', 'shubham', 'ankit', 'sachin', 'jayesh', 'shubham', 'ankit', 'shubham', 'jayesh', 'jayesh', 'ajay', 'shubham', 'jatin', 'jatin', 'ajay', 'jayesh', 'ajay', 'jatin', 'jatin', 'shubham', 'shubham', 'jayesh', 'shubham', 'ankit', 'jayesh', 'jatin', 'shubham', 'ajay', 'jatin', 'jatin', 'jayesh', 'shubham', 'jayesh', 'jayesh', 'jatin', 'ankit', 'tarun', 'tarun', 'jayesh', 'ankit', 'sachin', 'tarun', 'jayesh', 'ajay', 'tarun', 'sachin', 'jayesh', 'sachin', 'jayesh', 'sachin', 'jayesh', 'ajay', 'ankit', 'ankit', 'tarun', 'jatin', 'tarun', 'jatin', 'shubham', 'jatin', 'ankit', 'ajay', 'jatin', 'jayesh', 'tarun', 'shubham', 'tarun', 'jatin', 'tarun', 'ajay', 'shubham', 'shubham', 'sachin', 'ajay', 'tarun', 'jatin', 'jayesh', 'shubham', 'jayesh', 'ajay', 'sachin', 'ankit', 'jayesh', 'ajay', 'jayesh', 'ankit', 'shubham', 'ajay', 'shubham', 'jayesh', 'ankit', 'jatin', 'sachin', 'jatin', 'tarun', 'jayesh', 'jayesh', 'jayesh', 'tarun', 'ankit', 'tarun', 'jayesh', 'ankit', 'ankit', 'shubham', 'ankit', 'jatin', 'jayesh', 'tarun', 'jatin', 'sachin', 'tarun', 'ankit', 'jatin', 'tarun', 'tarun', 'ajay', 'shubham', 'ankit', 'jayesh', 'jayesh', 'ajay', 'jayesh', 'ankit', 'jatin', 'jatin', 'sachin', 'ajay', 'shubham', 'ankit', 'ajay', 'jayesh', 'jatin', 'jatin', 'ankit', 'jayesh', 'ajay', 'sachin', 'ajay', 'ajay', 'ajay', 'sachin', 'jayesh', 'jayesh', 'shubham', 'shubham', 'sachin', 'jatin', 'tarun', 'tarun', 'sachin', 'ajay', 'jatin', 'ankit', 'ankit', 'ankit', 'ankit', 'shubham', 'ankit', 'tarun', 'jatin', 'jatin', 'jayesh', 'tarun', 'shubham', 'ankit', 'jayesh', 'jatin', 'sachin', 'ankit', 'ajay', 'ankit', 'jayesh', 'ankit', 'jatin', 'ajay', 'ajay', 'jayesh', 'shubham', 'ankit', 'jatin', 'tarun', 'jayesh', 'jayesh', 'ankit', 'ajay', 'ajay', 'jayesh', 'tarun', 'jayesh', 'ankit', 'tarun', 'ankit', 'shubham', 'ajay', 'tarun', 'sachin', 'ajay', 'shubham', 'shubham', 'jayesh', 'sachin', 'jatin', 'shubham', 'shubham', 'shubham', 'tarun', 'shubham', 'jatin', 'jayesh', 'jatin', 'ankit', 'ajay', 'jatin', 'sachin', 'jatin', 'shubham', 'jayesh', 'jatin', 'ajay', 'sachin', 'ajay', 'sachin', 'tarun', 'sachin', 'ajay', 'jatin', 'shubham', 'ajay', 'jatin', 'jatin', 'shubham', 'jatin', 'ajay', 'ankit', 'ajay', 'sachin', 'ajay', 'ankit', 'sachin', 'jatin', 'ankit', 'sachin', 'sachin', 'shubham', 'shubham', 'ajay', 'sachin', 'tarun', 'ankit', 'ankit', 'tarun', 'jatin', 'jatin', 'jayesh', 'ajay', 'ajay', 'ankit', 'jatin', 'jatin', 'jayesh', 'jatin', 'sachin', 'jatin', 'shubham', 'tarun', 'jayesh', 'sachin', 'tarun', 'tarun', 'jayesh', 'sachin', 'jayesh', 'ankit', 'jatin', 'ankit', 'ankit', 'ankit', 'ajay', 'tarun', 'tarun', 'ajay', 'ajay', 'jayesh', 'sachin', 'ankit', 'tarun', 'jatin', 'ankit', 'tarun', 'sachin', 'sachin', 'ajay', 'shubham', 'jatin', 'ankit', 'ajay', 'sachin', 'ajay', 'tarun', 'tarun', 'tarun', 'jatin', 'jatin', 'ankit', 'tarun', 'tarun', 'jatin', 'sachin', 'sachin', 'tarun', 'sachin', 'shubham', 'sachin', 'sachin', 'shubham', 'jatin', 'ajay', 'ankit', 'jayesh', 'sachin', 'jatin', 'ankit', 'jayesh', 'tarun', 'shubham', 'ajay', 'ajay', 'shubham', 'ajay', 'jatin', 'sachin', 'sachin', 'ankit', 'ankit', 'sachin', 'jatin', 'sachin', 'ankit', 'tarun', 'tarun', 'sachin', 'ajay', 'jayesh', 'sachin', 'jatin', 'shubham', 'ajay', 'tarun', 'shubham', 'jatin', 'sachin', 'tarun', 'jayesh', 'jatin', 'jatin', 'shubham', 'shubham', 'tarun', 'jayesh', 'jatin', 'jayesh', 'sachin', 'ankit', 'sachin', 'ankit', 'sachin', 'jatin', 'shubham', 'jatin', 'ajay', 'jayesh', 'sachin', 'ankit', 'jayesh', 'ajay', 'ankit', 'ankit', 'jayesh', 'jatin', 'shubham', 'ajay', 'sachin', 'jatin', 'ajay', 'sachin', 'tarun', 'tarun', 'ajay', 'ankit', 'tarun', 'ajay', 'tarun', 'ankit', 'jatin', 'sachin', 'ajay', 'jatin', 'sachin', 'tarun', 'sachin', 'ankit', 'jatin', 'jatin', 'tarun', 'jayesh', 'tarun', 'shubham', 'shubham', 'shubham', 'sachin', 'jatin', 'shubham', 'jatin', 'jatin', 'jatin', 'ajay', 'ajay', 'sachin', 'ajay', 'shubham', 'shubham', 'shubham', 'ajay', 'sachin', 'jayesh', 'jatin', 'ankit', 'jatin', 'shubham', 'jayesh', 'jatin', 'ankit', 'shubham', 'jayesh', 'jatin', 'shubham', 'sachin', 'jayesh', 'jayesh', 'tarun', 'shubham', 'shubham', 'jayesh', 'sachin', 'ankit', 'sachin', 'tarun', 'jayesh', 'jayesh', 'ankit', 'sachin', 'sachin', 'jatin', 'ankit', 'shubham', 'tarun', 'jayesh', 'ajay', 'tarun', 'jatin', 'ankit', 'ankit', 'jatin', 'sachin', 'jatin', 'jatin', 'shubham', 'ankit', 'jatin', 'ajay', 'tarun', 'sachin', 'sachin', 'sachin', 'jayesh', 'sachin', 'ajay', 'jayesh', 'sachin', 'ajay', 'jatin', 'tarun', 'jayesh', 'sachin', 'jatin', 'ajay', 'jatin', 'shubham', 'tarun', 'sachin', 'ankit', 'tarun', 'sachin', 'shubham', 'jayesh', 'jatin', 'jatin', 'tarun', 'jayesh', 'jayesh', 'ajay', 'shubham', 'ajay', 'jatin', 'ankit', 'shubham', 'jayesh', 'ankit', 'shubham', 'shubham', 'tarun', 'jayesh', 'ankit', 'sachin', 'ankit', 'shubham', 'sachin', 'ankit', 'shubham', 'ankit', 'tarun', 'jatin', 'tarun', 'ajay', 'shubham', 'sachin', 'shubham', 'sachin', 'ankit', 'sachin', 'jatin', 'ajay', 'sachin', 'jayesh', 'tarun', 'jayesh', 'jatin', 'sachin', 'sachin', 'ajay', 'ajay', 'jatin', 'ankit', 'jatin', 'jatin', 'ajay', 'shubham', 'tarun', 'ankit', 'ankit', 'ankit', 'ajay', 'tarun', 'ankit', 'tarun', 'jatin', 'jatin', 'shubham', 'jatin', 'jayesh', 'sachin', 'shubham', 'ajay', 'sachin', 'ankit', 'jayesh', 'ajay', 'ajay', 'jayesh', 'jayesh', 'tarun', 'sachin', 'shubham', 'ankit', 'ajay', 'sachin', 'shubham', 'ankit', 'tarun', 'ajay', 'jayesh', 'ankit', 'shubham', 'ajay', 'ankit', 'shubham', 'jayesh', 'ajay', 'sachin', 'sachin', 'tarun', 'ankit', 'jayesh', 'sachin', 'tarun', 'ajay', 'shubham', 'ankit', 'jatin', 'tarun', 'ankit', 'jayesh', 'ajay', 'shubham', 'sachin', 'shubham', 'ajay', 'tarun', 'jatin', 'ajay', 'ankit', 'ankit', 'jayesh', 'ankit', 'jayesh', 'tarun', 'jayesh', 'tarun', 'jatin', 'sachin', 'ajay', 'tarun', 'sachin', 'ajay', 'ankit', 'tarun', 'ajay', 'jayesh', 'tarun', 'jayesh', 'shubham', 'tarun', 'jatin', 'ajay', 'tarun', 'ankit', 'jayesh', 'ankit', 'sachin', 'sachin', 'ankit', 'ajay', 'jatin', 'sachin', 'ankit', 'jayesh', 'ankit', 'sachin', 'ankit', 'jayesh', 'jayesh', 'ajay', 'jayesh', 'jatin', 'ankit', 'jayesh', 'ankit', 'sachin', 'ankit', 'shubham', 'ajay', 'ankit', 'ankit', 'tarun', 'sachin', 'jayesh', 'ankit', 'jayesh', 'jayesh', 'jatin', 'sachin', 'jayesh', 'ankit', 'ajay', 'ajay', 'jatin', 'ankit', 'tarun', 'ajay', 'jatin', 'shubham', 'sachin', 'jayesh', 'shubham', 'shubham', 'shubham', 'jayesh', 'jatin', 'ankit', 'jatin', 'jayesh', 'ajay', 'ankit', 'ankit', 'ajay', 'ankit', 'sachin', 'ajay', 'shubham', 'jayesh', 'jayesh', 'tarun', 'jayesh', 'tarun', 'ankit', 'sachin', 'sachin', 'jayesh', 'sachin', 'ajay', 'jatin', 'ajay', 'sachin', 'jatin', 'jatin', 'tarun', 'tarun', 'jayesh', 'sachin', 'ankit', 'jatin', 'ajay', 'tarun', 'jayesh', 'ajay', 'tarun', 'tarun', 'jayesh', 'jayesh', 'jayesh', 'tarun', 'ankit', 'shubham', 'shubham', 'tarun', 'sachin', 'ankit', 'jatin', 'ankit', 'jayesh', 'sachin', 'jayesh', 'jatin', 'ajay', 'ajay', 'ajay', 'jayesh', 'tarun', 'ajay', 'sachin', 'jatin', 'sachin', 'ajay', 'tarun', 'jatin', 'jayesh', 'sachin', 'sachin', 'jayesh', 'ajay', 'jatin', 'sachin', 'sachin', 'jatin', 'tarun', 'jayesh', 'jayesh', 'ankit', 'jatin', 'jayesh', 'ajay', 'jayesh', 'ajay', 'ajay', 'ankit', 'jatin', 'jatin', 'ankit', 'ajay', 'tarun', 'jatin', 'jayesh', 'jayesh', 'ajay', 'ajay', 'ankit', 'sachin', 'sachin', 'shubham', 'ajay', 'jayesh', 'sachin', 'tarun', 'tarun', 'jayesh', 'ajay', 'shubham', 'ankit', 'ajay', 'jayesh', 'ankit', 'ajay', 'ankit', 'jayesh', 'sachin', 'jatin', 'sachin', 'sachin', 'shubham', 'ankit', 'shubham', 'jatin', 'shubham', 'jayesh', 'jayesh', 'tarun', 'jatin', 'sachin', 'ajay', 'jayesh', 'jayesh', 'ajay', 'jayesh', 'tarun', 'tarun', 'sachin', 'tarun', 'tarun', 'ankit', 'tarun', 'sachin', 'sachin', 'jayesh', 'jatin', 'jatin', 'sachin', 'jatin', 'ankit', 'sachin', 'jayesh', 'jayesh', 'tarun', 'jatin', 'ankit', 'sachin', 'sachin', 'jayesh', 'sachin', 'sachin', 'sachin', 'ajay', 'jayesh', 'jatin', 'sachin', 'ankit', 'jatin', 'ajay', 'jayesh', 'shubham', 'shubham', 'jayesh', 'jayesh', 'jayesh', 'tarun', 'jayesh', 'ankit', 'ajay', 'ankit', 'ankit', 'jayesh', 'jayesh', 'shubham', 'jatin', 'ankit', 'jayesh', 'jatin', 'jayesh', 'ankit', 'tarun', 'tarun', 'tarun', 'sachin', 'sachin', 'tarun', 'tarun', 'jayesh', 'jatin', 'jatin', 'jatin', 'jatin', 'jayesh', 'jayesh', 'tarun', 'jatin', 'shubham', 'tarun', 'ajay', 'sachin', 'ajay', 'jayesh', 'tarun', 'sachin', 'tarun', 'shubham', 'ajay', 'jatin', 'tarun', 'sachin', 'sachin', 'jayesh', 'sachin', 'ankit', 'sachin', 'jatin', 'ankit', 'jayesh', 'tarun', 'tarun', 'tarun', 'jatin', 'tarun', 'ankit', 'ajay', 'ajay', 'jayesh', 'ajay', 'sachin', 'shubham', 'ajay', 'jatin', 'ajay', 'jayesh', 'ankit', 'ajay', 'ankit', 'tarun', 'shubham', 'ankit', 'jatin', 'sachin', 'shubham', 'jatin', 'shubham', 'jatin', 'shubham', 'jatin', 'sachin', 'shubham', 'sachin', 'ankit', 'shubham', 'jatin', 'shubham', 'jayesh', 'jayesh', 'ankit', 'ajay', 'jatin', 'ajay', 'jayesh', 'ajay', 'jayesh', 'sachin', 'jayesh', 'jayesh', 'tarun', 'jatin', 'shubham', 'tarun', 'ajay', 'ajay', 'jatin', 'sachin', 'ajay', 'tarun', 'tarun', 'sachin', 'jayesh', 'tarun', 'jatin', 'jatin', 'sachin', 'jayesh', 'jayesh', 'sachin', 'ankit', 'tarun', 'sachin', 'jatin', 'tarun', 'ajay', 'ankit', 'shubham', 'ankit', 'shubham', 'jatin', 'ankit', 'tarun', 'jatin', 'ankit', 'jayesh', 'tarun', 'ankit', 'ajay', 'shubham', 'ankit', 'jayesh', 'tarun', 'ajay', 'ajay', 'shubham', 'tarun', 'jatin', 'ankit', 'tarun', 'tarun', 'shubham', 'shubham', 'jatin', 'ankit', 'tarun', 'tarun', 'tarun', 'shubham', 'sachin', 'shubham', 'ankit', 'jatin', 'shubham', 'jayesh', 'jatin', 'ankit', 'tarun', 'ankit', 'jayesh', 'sachin', 'ankit', 'shubham', 'ajay', 'ajay', 'jatin', 'tarun', 'jatin', 'tarun', 'ankit', 'ankit', 'shubham', 'ajay', 'shubham', 'shubham', 'shubham', 'ankit', 'jayesh', 'ajay', 'shubham', 'shubham', 'shubham', 'jayesh', 'ankit', 'sachin', 'shubham', 'ankit', 'jatin', 'ankit', 'ankit', 'shubham', 'shubham', 'sachin', 'sachin', 'sachin', 'ajay', 'tarun', 'jayesh', 'shubham', 'ajay', 'tarun', 'shubham', 'shubham', 'ajay', 'shubham', 'sachin', 'jayesh', 'tarun', 'shubham', 'tarun', 'ajay', 'sachin', 'jayesh', 'tarun', 'shubham', 'shubham', 'tarun', 'sachin', 'shubham', 'jayesh', 'ajay', 'jatin', 'tarun', 'shubham', 'ankit', 'jayesh', 'sachin', 'jayesh', 'tarun', 'jayesh', 'ajay', 'sachin', 'tarun', 'shubham', 'jayesh', 'ankit', 'jayesh', 'ajay', 'ajay', 'ankit', 'sachin', 'sachin', 'jatin', 'jatin', 'jayesh', 'ankit', 'sachin', 'ajay', 'jatin', 'jatin', 'ajay', 'jatin', 'shubham', 'sachin', 'tarun', 'sachin', 'ajay', 'jayesh', 'jayesh', 'jayesh', 'shubham', 'ankit', 'jayesh', 'shubham', 'ankit', 'tarun', 'shubham', 'sachin', 'jayesh', 'jatin', 'ankit', 'ajay', 'ankit', 'jatin', 'ajay', 'shubham', 'tarun', 'ankit', 'jatin', 'jatin', 'tarun', 'jayesh', 'ajay', 'sachin', 'jatin', 'jatin', 'ajay', 'shubham', 'shubham', 'jayesh', 'ankit', 'jayesh', 'jayesh', 'jayesh', 'ankit', 'tarun', 'sachin', 'jayesh', 'tarun', 'tarun', 'sachin', 'shubham', 'ankit', 'jatin', 'jayesh', 'tarun', 'jayesh', 'tarun', 'sachin', 'ajay', 'jayesh', 'jayesh', 'sachin', 'ankit', 'jatin', 'jayesh', 'tarun', 'ajay', 'tarun', 'shubham', 'ajay', 'jayesh', 'ankit', 'ajay', 'sachin', 'jayesh', 'ajay', 'sachin', 'shubham', 'shubham', 'tarun', 'jayesh', 'ankit', 'jayesh', 'shubham', 'sachin', 'ankit', 'sachin', 'ajay', 'ajay', 'ajay', 'sachin', 'shubham', 'sachin', 'ajay', 'sachin', 'ankit', 'sachin', 'sachin', 'ankit', 'ankit', 'jatin', 'tarun', 'jatin', 'sachin', 'tarun', 'sachin', 'sachin', 'jayesh', 'tarun', 'sachin', 'ankit', 'sachin', 'jayesh', 'jayesh', 'sachin', 'ankit', 'sachin', 'jayesh', 'sachin', 'ajay']\n"
     ]
    }
   ],
   "source": [
    "print(e_list)"
   ]
  },
  {
   "cell_type": "code",
   "execution_count": 120,
   "id": "823b0fc4-1fea-41fc-8737-a8fb680253e7",
   "metadata": {},
   "outputs": [
    {
     "name": "stdout",
     "output_type": "stream",
     "text": [
      "count of ajay in list =  1412\n",
      "count of jayesh in list =  1469\n",
      "count of shubham in list =  1387\n"
     ]
    }
   ],
   "source": [
    "print('count of ajay in list = ',e_list.count('ajay'))\n",
    "print('count of jayesh in list = ',e_list.count('jayesh'))\n",
    "print('count of shubham in list = ',e_list.count('shubham'))"
   ]
  },
  {
   "cell_type": "code",
   "execution_count": 122,
   "id": "9ee8fad0-526e-40f9-b319-67315fdbe3bb",
   "metadata": {},
   "outputs": [],
   "source": [
    "import random"
   ]
  },
  {
   "cell_type": "code",
   "execution_count": 132,
   "id": "ea754142-6d02-4017-a5e3-3518d34218de",
   "metadata": {},
   "outputs": [],
   "source": [
    "l = []\n",
    "for var in range(500):\n",
    "    l.append(random.randint(1,999))"
   ]
  },
  {
   "cell_type": "code",
   "execution_count": 134,
   "id": "0e06812d-3f34-4a4e-9277-25e927b553e9",
   "metadata": {},
   "outputs": [
    {
     "name": "stdout",
     "output_type": "stream",
     "text": [
      "[987, 673, 12, 396, 337, 983, 812, 662, 480, 849, 108, 911, 375, 300, 271, 890, 203, 676, 247, 210, 127, 188, 398, 109, 788, 247, 612, 393, 309, 153, 481, 100, 593, 975, 734, 399, 714, 106, 704, 953, 389, 235, 411, 978, 571, 14, 339, 892, 619, 67, 596, 974, 287, 459, 307, 934, 302, 402, 851, 88, 992, 476, 654, 381, 635, 469, 880, 711, 182, 593, 376, 95, 824, 814, 374, 24, 610, 770, 325, 284, 49, 321, 402, 3, 467, 434, 51, 323, 502, 431, 938, 849, 861, 398, 836, 403, 840, 806, 505, 265, 116, 947, 908, 855, 788, 14, 124, 335, 955, 112, 760, 211, 293, 546, 987, 414, 269, 705, 502, 534, 345, 352, 913, 365, 607, 123, 188, 204, 423, 441, 96, 878, 992, 841, 920, 428, 585, 407, 533, 43, 311, 448, 904, 527, 109, 552, 620, 414, 534, 256, 332, 503, 59, 437, 77, 723, 419, 441, 637, 370, 134, 95, 482, 966, 640, 241, 895, 712, 304, 827, 534, 486, 234, 965, 908, 678, 518, 10, 759, 975, 684, 84, 864, 441, 901, 936, 612, 533, 617, 446, 211, 955, 607, 1, 51, 1, 688, 152, 2, 790, 889, 527, 769, 862, 310, 854, 411, 169, 929, 263, 593, 193, 879, 309, 634, 984, 669, 973, 155, 40, 909, 676, 415, 420, 444, 871, 495, 356, 879, 794, 441, 469, 992, 261, 351, 323, 941, 334, 829, 728, 253, 2, 428, 377, 14, 651, 670, 675, 586, 386, 733, 221, 380, 283, 44, 856, 42, 259, 916, 433, 467, 720, 992, 802, 346, 595, 82, 99, 825, 62, 539, 660, 123, 541, 207, 672, 30, 764, 314, 313, 56, 410, 417, 829, 732, 4, 373, 349, 371, 308, 456, 733, 327, 168, 341, 552, 713, 235, 258, 346, 780, 99, 57, 803, 938, 700, 466, 397, 308, 93, 818, 921, 872, 747, 708, 184, 547, 465, 991, 617, 378, 758, 678, 756, 988, 974, 237, 697, 172, 486, 663, 467, 268, 103, 591, 991, 79, 392, 878, 368, 855, 820, 643, 600, 408, 466, 65, 739, 673, 873, 63, 315, 676, 886, 251, 16, 861, 501, 612, 896, 232, 444, 114, 85, 794, 868, 669, 432, 788, 987, 696, 310, 506, 389, 591, 156, 586, 44, 343, 571, 718, 192, 968, 414, 442, 187, 236, 273, 793, 978, 382, 690, 664, 833, 414, 506, 951, 578, 696, 785, 202, 786, 845, 297, 442, 2, 378, 172, 281, 857, 236, 473, 612, 29, 506, 553, 868, 563, 190, 780, 727, 183, 991, 158, 398, 201, 545, 331, 764, 90, 459, 236, 238, 601, 430, 712, 465, 511, 372, 207, 276, 923, 565, 607, 268, 84, 978, 992, 284, 664, 481, 951, 467, 804, 802, 704, 16, 237, 261, 65, 578, 709, 849, 173, 709, 908, 801, 919, 167, 334, 973, 621, 653, 89, 826, 314, 462, 121, 111, 791, 638, 79, 596, 714, 880, 822, 167, 668, 19, 478, 231, 506, 213, 171, 179, 852, 509, 183, 834, 496]\n"
     ]
    }
   ],
   "source": [
    "print(l)"
   ]
  },
  {
   "cell_type": "code",
   "execution_count": 136,
   "id": "414efa1a-ecc4-4d1e-b266-7f612c487413",
   "metadata": {},
   "outputs": [
    {
     "data": {
      "text/plain": [
       "500"
      ]
     },
     "execution_count": 136,
     "metadata": {},
     "output_type": "execute_result"
    }
   ],
   "source": [
    "len(l)"
   ]
  },
  {
   "cell_type": "code",
   "execution_count": 138,
   "id": "c3693054-0af9-4863-84b1-998403aeb328",
   "metadata": {},
   "outputs": [],
   "source": [
    "l.sort()"
   ]
  },
  {
   "cell_type": "code",
   "execution_count": 142,
   "id": "63252f0d-9618-4c64-a3bd-f653d00e2553",
   "metadata": {},
   "outputs": [
    {
     "name": "stdout",
     "output_type": "stream",
     "text": [
      "[1, 1, 2, 2, 2, 3, 4, 10, 12, 14, 14, 14, 16, 16, 19, 24, 29, 30, 40, 42, 43, 44, 44, 49, 51, 51, 56, 57, 59, 62, 63, 65, 65, 67, 77, 79, 79, 82, 84, 84, 85, 88, 89, 90, 93, 95, 95, 96, 99, 99, 100, 103, 106, 108, 109, 109, 111, 112, 114, 116, 121, 123, 123, 124, 127, 134, 152, 153, 155, 156, 158, 167, 167, 168, 169, 171, 172, 172, 173, 179, 182, 183, 183, 184, 187, 188, 188, 190, 192, 193, 201, 202, 203, 204, 207, 207, 210, 211, 211, 213, 221, 231, 232, 234, 235, 235, 236, 236, 236, 237, 237, 238, 241, 247, 247, 251, 253, 256, 258, 259, 261, 261, 263, 265, 268, 268, 269, 271, 273, 276, 281, 283, 284, 284, 287, 293, 297, 300, 302, 304, 307, 308, 308, 309, 309, 310, 310, 311, 313, 314, 314, 315, 321, 323, 323, 325, 327, 331, 332, 334, 334, 335, 337, 339, 341, 343, 345, 346, 346, 349, 351, 352, 356, 365, 368, 370, 371, 372, 373, 374, 375, 376, 377, 378, 378, 380, 381, 382, 386, 389, 389, 392, 393, 396, 397, 398, 398, 398, 399, 402, 402, 403, 407, 408, 410, 411, 411, 414, 414, 414, 414, 415, 417, 419, 420, 423, 428, 428, 430, 431, 432, 433, 434, 437, 441, 441, 441, 441, 442, 442, 444, 444, 446, 448, 456, 459, 459, 462, 465, 465, 466, 466, 467, 467, 467, 467, 469, 469, 473, 476, 478, 480, 481, 481, 482, 486, 486, 495, 496, 501, 502, 502, 503, 505, 506, 506, 506, 506, 509, 511, 518, 527, 527, 533, 533, 534, 534, 534, 539, 541, 545, 546, 547, 552, 552, 553, 563, 565, 571, 571, 578, 578, 585, 586, 586, 591, 591, 593, 593, 593, 595, 596, 596, 600, 601, 607, 607, 607, 610, 612, 612, 612, 612, 617, 617, 619, 620, 621, 634, 635, 637, 638, 640, 643, 651, 653, 654, 660, 662, 663, 664, 664, 668, 669, 669, 670, 672, 673, 673, 675, 676, 676, 676, 678, 678, 684, 688, 690, 696, 696, 697, 700, 704, 704, 705, 708, 709, 709, 711, 712, 712, 713, 714, 714, 718, 720, 723, 727, 728, 732, 733, 733, 734, 739, 747, 756, 758, 759, 760, 764, 764, 769, 770, 780, 780, 785, 786, 788, 788, 788, 790, 791, 793, 794, 794, 801, 802, 802, 803, 804, 806, 812, 814, 818, 820, 822, 824, 825, 826, 827, 829, 829, 833, 834, 836, 840, 841, 845, 849, 849, 849, 851, 852, 854, 855, 855, 856, 857, 861, 861, 862, 864, 868, 868, 871, 872, 873, 878, 878, 879, 879, 880, 880, 886, 889, 890, 892, 895, 896, 901, 904, 908, 908, 908, 909, 911, 913, 916, 919, 920, 921, 923, 929, 934, 936, 938, 938, 941, 947, 951, 951, 953, 955, 955, 965, 966, 968, 973, 973, 974, 974, 975, 975, 978, 978, 978, 983, 984, 987, 987, 987, 988, 991, 991, 991, 992, 992, 992, 992, 992]\n"
     ]
    }
   ],
   "source": [
    "print(l)"
   ]
  },
  {
   "cell_type": "code",
   "execution_count": 144,
   "id": "66a88c35-45bc-4a10-a967-ed6e60be30f0",
   "metadata": {},
   "outputs": [],
   "source": [
    "l.sort(reverse=True)"
   ]
  },
  {
   "cell_type": "code",
   "execution_count": 146,
   "id": "d12c83a5-00e9-4b9d-a199-2a0f0be7ecac",
   "metadata": {},
   "outputs": [
    {
     "name": "stdout",
     "output_type": "stream",
     "text": [
      "[992, 992, 992, 992, 992, 991, 991, 991, 988, 987, 987, 987, 984, 983, 978, 978, 978, 975, 975, 974, 974, 973, 973, 968, 966, 965, 955, 955, 953, 951, 951, 947, 941, 938, 938, 936, 934, 929, 923, 921, 920, 919, 916, 913, 911, 909, 908, 908, 908, 904, 901, 896, 895, 892, 890, 889, 886, 880, 880, 879, 879, 878, 878, 873, 872, 871, 868, 868, 864, 862, 861, 861, 857, 856, 855, 855, 854, 852, 851, 849, 849, 849, 845, 841, 840, 836, 834, 833, 829, 829, 827, 826, 825, 824, 822, 820, 818, 814, 812, 806, 804, 803, 802, 802, 801, 794, 794, 793, 791, 790, 788, 788, 788, 786, 785, 780, 780, 770, 769, 764, 764, 760, 759, 758, 756, 747, 739, 734, 733, 733, 732, 728, 727, 723, 720, 718, 714, 714, 713, 712, 712, 711, 709, 709, 708, 705, 704, 704, 700, 697, 696, 696, 690, 688, 684, 678, 678, 676, 676, 676, 675, 673, 673, 672, 670, 669, 669, 668, 664, 664, 663, 662, 660, 654, 653, 651, 643, 640, 638, 637, 635, 634, 621, 620, 619, 617, 617, 612, 612, 612, 612, 610, 607, 607, 607, 601, 600, 596, 596, 595, 593, 593, 593, 591, 591, 586, 586, 585, 578, 578, 571, 571, 565, 563, 553, 552, 552, 547, 546, 545, 541, 539, 534, 534, 534, 533, 533, 527, 527, 518, 511, 509, 506, 506, 506, 506, 505, 503, 502, 502, 501, 496, 495, 486, 486, 482, 481, 481, 480, 478, 476, 473, 469, 469, 467, 467, 467, 467, 466, 466, 465, 465, 462, 459, 459, 456, 448, 446, 444, 444, 442, 442, 441, 441, 441, 441, 437, 434, 433, 432, 431, 430, 428, 428, 423, 420, 419, 417, 415, 414, 414, 414, 414, 411, 411, 410, 408, 407, 403, 402, 402, 399, 398, 398, 398, 397, 396, 393, 392, 389, 389, 386, 382, 381, 380, 378, 378, 377, 376, 375, 374, 373, 372, 371, 370, 368, 365, 356, 352, 351, 349, 346, 346, 345, 343, 341, 339, 337, 335, 334, 334, 332, 331, 327, 325, 323, 323, 321, 315, 314, 314, 313, 311, 310, 310, 309, 309, 308, 308, 307, 304, 302, 300, 297, 293, 287, 284, 284, 283, 281, 276, 273, 271, 269, 268, 268, 265, 263, 261, 261, 259, 258, 256, 253, 251, 247, 247, 241, 238, 237, 237, 236, 236, 236, 235, 235, 234, 232, 231, 221, 213, 211, 211, 210, 207, 207, 204, 203, 202, 201, 193, 192, 190, 188, 188, 187, 184, 183, 183, 182, 179, 173, 172, 172, 171, 169, 168, 167, 167, 158, 156, 155, 153, 152, 134, 127, 124, 123, 123, 121, 116, 114, 112, 111, 109, 109, 108, 106, 103, 100, 99, 99, 96, 95, 95, 93, 90, 89, 88, 85, 84, 84, 82, 79, 79, 77, 67, 65, 65, 63, 62, 59, 57, 56, 51, 51, 49, 44, 44, 43, 42, 40, 30, 29, 24, 19, 16, 16, 14, 14, 14, 12, 10, 4, 3, 2, 2, 2, 1, 1]\n"
     ]
    }
   ],
   "source": [
    "print(l)"
   ]
  },
  {
   "cell_type": "code",
   "execution_count": 148,
   "id": "c307b037-b3cd-442c-b452-cdcedef07449",
   "metadata": {},
   "outputs": [
    {
     "data": {
      "text/plain": [
       "['ankit', 'ajay', 'jayesh', 'shubham', 'tarun', 'jatin', 'sachin']"
      ]
     },
     "execution_count": 148,
     "metadata": {},
     "output_type": "execute_result"
    }
   ],
   "source": [
    "names"
   ]
  },
  {
   "cell_type": "code",
   "execution_count": 150,
   "id": "7d2c2c57-b7e0-4983-b43b-c37178932067",
   "metadata": {},
   "outputs": [],
   "source": [
    "names.append('ajay')"
   ]
  },
  {
   "cell_type": "code",
   "execution_count": 152,
   "id": "ba2b0cd9-ba5c-4818-8ace-8b5c05183d9c",
   "metadata": {},
   "outputs": [
    {
     "data": {
      "text/plain": [
       "['ankit', 'ajay', 'jayesh', 'shubham', 'tarun', 'jatin', 'sachin', 'ajay']"
      ]
     },
     "execution_count": 152,
     "metadata": {},
     "output_type": "execute_result"
    }
   ],
   "source": [
    "names"
   ]
  },
  {
   "cell_type": "code",
   "execution_count": 154,
   "id": "183a2885-0920-4357-889d-274b086873e6",
   "metadata": {},
   "outputs": [],
   "source": [
    "names.append(['ajay','jayesh'])"
   ]
  },
  {
   "cell_type": "code",
   "execution_count": 156,
   "id": "96538aeb-5700-435e-8f28-7e8c3b72dcd8",
   "metadata": {},
   "outputs": [
    {
     "data": {
      "text/plain": [
       "['ankit',\n",
       " 'ajay',\n",
       " 'jayesh',\n",
       " 'shubham',\n",
       " 'tarun',\n",
       " 'jatin',\n",
       " 'sachin',\n",
       " 'ajay',\n",
       " ['ajay', 'jayesh']]"
      ]
     },
     "execution_count": 156,
     "metadata": {},
     "output_type": "execute_result"
    }
   ],
   "source": [
    "names"
   ]
  },
  {
   "cell_type": "code",
   "execution_count": 158,
   "id": "494e9c9c-e7de-4699-9e97-99388bd85144",
   "metadata": {},
   "outputs": [
    {
     "name": "stdout",
     "output_type": "stream",
     "text": [
      "['ankit', 'ajay', 'jayesh', 'shubham', 'tarun', 'jatin', 'sachin', 'ajay', ['ajay', 'jayesh'], 'nikhil', 'pahariya']\n"
     ]
    }
   ],
   "source": [
    "a = ['nikhil','pahariya']\n",
    "names.extend(a)\n",
    "print(names)"
   ]
  },
  {
   "cell_type": "code",
   "execution_count": 160,
   "id": "3ee3c524-27f9-4196-aa39-8a8641d8b6e6",
   "metadata": {},
   "outputs": [],
   "source": [
    "names.extend('koshal')"
   ]
  },
  {
   "cell_type": "code",
   "execution_count": 163,
   "id": "2ef42f9e-50c9-4f02-be84-c1cf9c087e25",
   "metadata": {},
   "outputs": [
    {
     "name": "stdout",
     "output_type": "stream",
     "text": [
      "['ankit', 'ajay', 'jayesh', 'shubham', 'tarun', 'jatin', 'sachin', 'ajay', ['ajay', 'jayesh'], 'nikhil', 'pahariya', 'k', 'o', 's', 'h', 'a', 'l']\n"
     ]
    }
   ],
   "source": [
    "print(names)"
   ]
  },
  {
   "cell_type": "code",
   "execution_count": 165,
   "id": "6982519d-5ef3-4e6c-889a-c8ac8cac038b",
   "metadata": {},
   "outputs": [
    {
     "data": {
      "text/plain": [
       "'koshali'"
      ]
     },
     "execution_count": 165,
     "metadata": {},
     "output_type": "execute_result"
    }
   ],
   "source": [
    "'koshal' + 'i'"
   ]
  },
  {
   "cell_type": "code",
   "execution_count": 167,
   "id": "35640c5b-bbcd-4c2a-8c0b-274bed77d560",
   "metadata": {},
   "outputs": [],
   "source": [
    "j = []\n",
    "def myiter(value):\n",
    "    for val in value:\n",
    "        j.append(val)"
   ]
  },
  {
   "cell_type": "code",
   "execution_count": 169,
   "id": "67ac4318-bb4c-4656-9a4c-eb3edc06b1e6",
   "metadata": {},
   "outputs": [
    {
     "data": {
      "text/plain": [
       "[]"
      ]
     },
     "execution_count": 169,
     "metadata": {},
     "output_type": "execute_result"
    }
   ],
   "source": [
    "j"
   ]
  },
  {
   "cell_type": "code",
   "execution_count": 171,
   "id": "4d0c744a-0d70-4902-baf0-c4746fb7e7b4",
   "metadata": {},
   "outputs": [],
   "source": [
    "myiter(['ajay','jayesh'])"
   ]
  },
  {
   "cell_type": "code",
   "execution_count": 173,
   "id": "71ccd2dd-cdca-42b1-b84e-70d32fa09373",
   "metadata": {},
   "outputs": [
    {
     "data": {
      "text/plain": [
       "['ajay', 'jayesh']"
      ]
     },
     "execution_count": 173,
     "metadata": {},
     "output_type": "execute_result"
    }
   ],
   "source": [
    "j"
   ]
  },
  {
   "cell_type": "code",
   "execution_count": 175,
   "id": "627b103f-43ba-4dc0-a598-f403f4ab83be",
   "metadata": {},
   "outputs": [],
   "source": [
    "myiter(['sachin','kushal'])"
   ]
  },
  {
   "cell_type": "code",
   "execution_count": 177,
   "id": "9bb5884a-5c5c-4f5c-bf16-690a4423c6cd",
   "metadata": {},
   "outputs": [
    {
     "data": {
      "text/plain": [
       "['ajay', 'jayesh', 'sachin', 'kushal']"
      ]
     },
     "execution_count": 177,
     "metadata": {},
     "output_type": "execute_result"
    }
   ],
   "source": [
    "j"
   ]
  },
  {
   "cell_type": "code",
   "execution_count": 179,
   "id": "c4d15f0f-00eb-4780-b19a-9091cd050d9a",
   "metadata": {},
   "outputs": [],
   "source": [
    "myiter('jayesh')"
   ]
  },
  {
   "cell_type": "code",
   "execution_count": 181,
   "id": "00ccf896-c1f9-4881-87fe-b94246b9b6fe",
   "metadata": {},
   "outputs": [
    {
     "data": {
      "text/plain": [
       "['ajay', 'jayesh', 'sachin', 'kushal', 'j', 'a', 'y', 'e', 's', 'h']"
      ]
     },
     "execution_count": 181,
     "metadata": {},
     "output_type": "execute_result"
    }
   ],
   "source": [
    "j"
   ]
  },
  {
   "cell_type": "code",
   "execution_count": 183,
   "id": "4882e16b-06ce-4cbb-9302-70c1e151849f",
   "metadata": {},
   "outputs": [
    {
     "name": "stdout",
     "output_type": "stream",
     "text": [
      "['__add__', '__class__', '__class_getitem__', '__contains__', '__delattr__', '__delitem__', '__dir__', '__doc__', '__eq__', '__format__', '__ge__', '__getattribute__', '__getitem__', '__getstate__', '__gt__', '__hash__', '__iadd__', '__imul__', '__init__', '__init_subclass__', '__iter__', '__le__', '__len__', '__lt__', '__mul__', '__ne__', '__new__', '__reduce__', '__reduce_ex__', '__repr__', '__reversed__', '__rmul__', '__setattr__', '__setitem__', '__sizeof__', '__str__', '__subclasshook__', 'append', 'clear', 'copy', 'count', 'extend', 'index', 'insert', 'pop', 'remove', 'reverse', 'sort']\n"
     ]
    }
   ],
   "source": [
    "print(dir(list))"
   ]
  },
  {
   "cell_type": "code",
   "execution_count": 187,
   "id": "af8df81d-19b7-425e-9fbc-f6f90d4ece89",
   "metadata": {},
   "outputs": [
    {
     "data": {
      "text/plain": [
       "1"
      ]
     },
     "execution_count": 187,
     "metadata": {},
     "output_type": "execute_result"
    }
   ],
   "source": [
    "j.index('jayesh')"
   ]
  },
  {
   "cell_type": "code",
   "execution_count": 189,
   "id": "7bb6934b-f78d-44dc-8e5d-d9ac267cfe3c",
   "metadata": {},
   "outputs": [
    {
     "data": {
      "text/plain": [
       "['ankit',\n",
       " 'ajay',\n",
       " 'jayesh',\n",
       " 'shubham',\n",
       " 'tarun',\n",
       " 'jatin',\n",
       " 'sachin',\n",
       " 'ajay',\n",
       " ['ajay', 'jayesh'],\n",
       " 'nikhil',\n",
       " 'pahariya',\n",
       " 'k',\n",
       " 'o',\n",
       " 's',\n",
       " 'h',\n",
       " 'a',\n",
       " 'l']"
      ]
     },
     "execution_count": 189,
     "metadata": {},
     "output_type": "execute_result"
    }
   ],
   "source": [
    "names"
   ]
  },
  {
   "cell_type": "code",
   "execution_count": 191,
   "id": "9fb9c736-87f9-45a5-b004-4d089b4968b7",
   "metadata": {},
   "outputs": [],
   "source": [
    "names.insert(4,'himalay')"
   ]
  },
  {
   "cell_type": "code",
   "execution_count": 193,
   "id": "49936717-f100-4003-b743-436ef1fb84e1",
   "metadata": {},
   "outputs": [
    {
     "name": "stdout",
     "output_type": "stream",
     "text": [
      "['ankit', 'ajay', 'jayesh', 'shubham', 'himalay', 'tarun', 'jatin', 'sachin', 'ajay', ['ajay', 'jayesh'], 'nikhil', 'pahariya', 'k', 'o', 's', 'h', 'a', 'l']\n"
     ]
    }
   ],
   "source": [
    "print(names)"
   ]
  },
  {
   "cell_type": "code",
   "execution_count": 195,
   "id": "3ef97d94-0c29-432b-bb3d-4014926a83b0",
   "metadata": {},
   "outputs": [
    {
     "data": {
      "text/plain": [
       "'l'"
      ]
     },
     "execution_count": 195,
     "metadata": {},
     "output_type": "execute_result"
    }
   ],
   "source": [
    "names.pop()"
   ]
  },
  {
   "cell_type": "code",
   "execution_count": 197,
   "id": "2babef44-47a2-4be3-bdf9-8c43aa8476f7",
   "metadata": {},
   "outputs": [
    {
     "data": {
      "text/plain": [
       "['ankit',\n",
       " 'ajay',\n",
       " 'jayesh',\n",
       " 'shubham',\n",
       " 'himalay',\n",
       " 'tarun',\n",
       " 'jatin',\n",
       " 'sachin',\n",
       " 'ajay',\n",
       " ['ajay', 'jayesh'],\n",
       " 'nikhil',\n",
       " 'pahariya',\n",
       " 'k',\n",
       " 'o',\n",
       " 's',\n",
       " 'h',\n",
       " 'a']"
      ]
     },
     "execution_count": 197,
     "metadata": {},
     "output_type": "execute_result"
    }
   ],
   "source": [
    "names"
   ]
  },
  {
   "cell_type": "code",
   "execution_count": 199,
   "id": "d2c35afe-b849-49a6-9e52-25a9eefccd35",
   "metadata": {},
   "outputs": [
    {
     "data": {
      "text/plain": [
       "'himalay'"
      ]
     },
     "execution_count": 199,
     "metadata": {},
     "output_type": "execute_result"
    }
   ],
   "source": [
    "names.pop(4)"
   ]
  },
  {
   "cell_type": "code",
   "execution_count": 201,
   "id": "2f63f8de-1665-40a5-8159-af40dfeb47e4",
   "metadata": {},
   "outputs": [
    {
     "name": "stdout",
     "output_type": "stream",
     "text": [
      "['ankit', 'ajay', 'jayesh', 'shubham', 'tarun', 'jatin', 'sachin', 'ajay', ['ajay', 'jayesh'], 'nikhil', 'pahariya', 'k', 'o', 's', 'h', 'a']\n"
     ]
    }
   ],
   "source": [
    "print(names)"
   ]
  },
  {
   "cell_type": "code",
   "execution_count": 203,
   "id": "6bf9c104-baa2-4c2a-b78c-0301572db191",
   "metadata": {},
   "outputs": [],
   "source": [
    "names.remove('ajay')"
   ]
  },
  {
   "cell_type": "code",
   "execution_count": 205,
   "id": "cf511e60-668a-4e8e-8bbb-2247d207d56e",
   "metadata": {},
   "outputs": [
    {
     "name": "stdout",
     "output_type": "stream",
     "text": [
      "['ankit', 'jayesh', 'shubham', 'tarun', 'jatin', 'sachin', 'ajay', ['ajay', 'jayesh'], 'nikhil', 'pahariya', 'k', 'o', 's', 'h', 'a']\n"
     ]
    }
   ],
   "source": [
    "print(names)"
   ]
  },
  {
   "cell_type": "code",
   "execution_count": 207,
   "id": "3b77408a-d422-457a-9ce7-2ecc98c0b731",
   "metadata": {},
   "outputs": [
    {
     "name": "stdout",
     "output_type": "stream",
     "text": [
      "['ankit', 'jayesh', 'shubham', 'tarun', 'jatin', 'sachin', ['ajay', 'jayesh'], 'nikhil', 'pahariya', 'k', 'o', 's', 'h', 'a']\n"
     ]
    }
   ],
   "source": [
    "names.remove('ajay')\n",
    "print(names)"
   ]
  },
  {
   "cell_type": "code",
   "execution_count": 209,
   "id": "43d141af-cf30-43df-b1fe-ce87c7010336",
   "metadata": {},
   "outputs": [
    {
     "ename": "ValueError",
     "evalue": "list.remove(x): x not in list",
     "output_type": "error",
     "traceback": [
      "\u001b[0;31m---------------------------------------------------------------------------\u001b[0m",
      "\u001b[0;31mValueError\u001b[0m                                Traceback (most recent call last)",
      "Cell \u001b[0;32mIn[209], line 1\u001b[0m\n\u001b[0;32m----> 1\u001b[0m names\u001b[38;5;241m.\u001b[39mremove(\u001b[38;5;124m'\u001b[39m\u001b[38;5;124majay\u001b[39m\u001b[38;5;124m'\u001b[39m)\n\u001b[1;32m      2\u001b[0m \u001b[38;5;28mprint\u001b[39m(names)\n",
      "\u001b[0;31mValueError\u001b[0m: list.remove(x): x not in list"
     ]
    }
   ],
   "source": [
    "names.remove('ajay')\n",
    "print(names)"
   ]
  },
  {
   "cell_type": "code",
   "execution_count": 211,
   "id": "122f1ad9-f435-4e3d-a24a-60e5c2ffb7ed",
   "metadata": {},
   "outputs": [
    {
     "name": "stdout",
     "output_type": "stream",
     "text": [
      "ankit\n",
      "<class 'str'>\n"
     ]
    }
   ],
   "source": [
    "print(names[0])\n",
    "print(type(names[0]))"
   ]
  },
  {
   "cell_type": "code",
   "execution_count": 213,
   "id": "64ca34f1-2db1-465b-9635-999dbda1194d",
   "metadata": {},
   "outputs": [
    {
     "name": "stdout",
     "output_type": "stream",
     "text": [
      "<class 'list'>\n"
     ]
    }
   ],
   "source": [
    "print(type(names[6]))"
   ]
  },
  {
   "cell_type": "code",
   "execution_count": 215,
   "id": "4bded101-78ba-48d0-bf0b-bbb3e5d0dd7a",
   "metadata": {},
   "outputs": [],
   "source": [
    "names[6].remove('ajay')"
   ]
  },
  {
   "cell_type": "code",
   "execution_count": 217,
   "id": "9b4dd564-6ef0-4f69-b155-a663a9550cd7",
   "metadata": {},
   "outputs": [
    {
     "name": "stdout",
     "output_type": "stream",
     "text": [
      "['ankit', 'jayesh', 'shubham', 'tarun', 'jatin', 'sachin', ['jayesh'], 'nikhil', 'pahariya', 'k', 'o', 's', 'h', 'a']\n"
     ]
    }
   ],
   "source": [
    "print(names)"
   ]
  },
  {
   "cell_type": "code",
   "execution_count": 219,
   "id": "34db4559-b2d3-4ae0-afb0-31c9fc56551b",
   "metadata": {},
   "outputs": [],
   "source": [
    "names.reverse()"
   ]
  },
  {
   "cell_type": "code",
   "execution_count": 221,
   "id": "0a057b17-bc5f-4c42-973a-a2d7ba68bb5b",
   "metadata": {},
   "outputs": [
    {
     "data": {
      "text/plain": [
       "['a',\n",
       " 'h',\n",
       " 's',\n",
       " 'o',\n",
       " 'k',\n",
       " 'pahariya',\n",
       " 'nikhil',\n",
       " ['jayesh'],\n",
       " 'sachin',\n",
       " 'jatin',\n",
       " 'tarun',\n",
       " 'shubham',\n",
       " 'jayesh',\n",
       " 'ankit']"
      ]
     },
     "execution_count": 221,
     "metadata": {},
     "output_type": "execute_result"
    }
   ],
   "source": [
    "names"
   ]
  },
  {
   "cell_type": "code",
   "execution_count": 227,
   "id": "74fdd9af-a207-430e-848c-90199ec2d29a",
   "metadata": {},
   "outputs": [],
   "source": [
    "l.reverse()"
   ]
  },
  {
   "cell_type": "code",
   "execution_count": 229,
   "id": "0cd21e39-2619-4101-8109-dea24c0a69ea",
   "metadata": {
    "scrolled": true
   },
   "outputs": [
    {
     "data": {
      "text/plain": [
       "[1,\n",
       " 1,\n",
       " 2,\n",
       " 2,\n",
       " 2,\n",
       " 3,\n",
       " 4,\n",
       " 10,\n",
       " 12,\n",
       " 14,\n",
       " 14,\n",
       " 14,\n",
       " 16,\n",
       " 16,\n",
       " 19,\n",
       " 24,\n",
       " 29,\n",
       " 30,\n",
       " 40,\n",
       " 42,\n",
       " 43,\n",
       " 44,\n",
       " 44,\n",
       " 49,\n",
       " 51,\n",
       " 51,\n",
       " 56,\n",
       " 57,\n",
       " 59,\n",
       " 62,\n",
       " 63,\n",
       " 65,\n",
       " 65,\n",
       " 67,\n",
       " 77,\n",
       " 79,\n",
       " 79,\n",
       " 82,\n",
       " 84,\n",
       " 84,\n",
       " 85,\n",
       " 88,\n",
       " 89,\n",
       " 90,\n",
       " 93,\n",
       " 95,\n",
       " 95,\n",
       " 96,\n",
       " 99,\n",
       " 99,\n",
       " 100,\n",
       " 103,\n",
       " 106,\n",
       " 108,\n",
       " 109,\n",
       " 109,\n",
       " 111,\n",
       " 112,\n",
       " 114,\n",
       " 116,\n",
       " 121,\n",
       " 123,\n",
       " 123,\n",
       " 124,\n",
       " 127,\n",
       " 134,\n",
       " 152,\n",
       " 153,\n",
       " 155,\n",
       " 156,\n",
       " 158,\n",
       " 167,\n",
       " 167,\n",
       " 168,\n",
       " 169,\n",
       " 171,\n",
       " 172,\n",
       " 172,\n",
       " 173,\n",
       " 179,\n",
       " 182,\n",
       " 183,\n",
       " 183,\n",
       " 184,\n",
       " 187,\n",
       " 188,\n",
       " 188,\n",
       " 190,\n",
       " 192,\n",
       " 193,\n",
       " 201,\n",
       " 202,\n",
       " 203,\n",
       " 204,\n",
       " 207,\n",
       " 207,\n",
       " 210,\n",
       " 211,\n",
       " 211,\n",
       " 213,\n",
       " 221,\n",
       " 231,\n",
       " 232,\n",
       " 234,\n",
       " 235,\n",
       " 235,\n",
       " 236,\n",
       " 236,\n",
       " 236,\n",
       " 237,\n",
       " 237,\n",
       " 238,\n",
       " 241,\n",
       " 247,\n",
       " 247,\n",
       " 251,\n",
       " 253,\n",
       " 256,\n",
       " 258,\n",
       " 259,\n",
       " 261,\n",
       " 261,\n",
       " 263,\n",
       " 265,\n",
       " 268,\n",
       " 268,\n",
       " 269,\n",
       " 271,\n",
       " 273,\n",
       " 276,\n",
       " 281,\n",
       " 283,\n",
       " 284,\n",
       " 284,\n",
       " 287,\n",
       " 293,\n",
       " 297,\n",
       " 300,\n",
       " 302,\n",
       " 304,\n",
       " 307,\n",
       " 308,\n",
       " 308,\n",
       " 309,\n",
       " 309,\n",
       " 310,\n",
       " 310,\n",
       " 311,\n",
       " 313,\n",
       " 314,\n",
       " 314,\n",
       " 315,\n",
       " 321,\n",
       " 323,\n",
       " 323,\n",
       " 325,\n",
       " 327,\n",
       " 331,\n",
       " 332,\n",
       " 334,\n",
       " 334,\n",
       " 335,\n",
       " 337,\n",
       " 339,\n",
       " 341,\n",
       " 343,\n",
       " 345,\n",
       " 346,\n",
       " 346,\n",
       " 349,\n",
       " 351,\n",
       " 352,\n",
       " 356,\n",
       " 365,\n",
       " 368,\n",
       " 370,\n",
       " 371,\n",
       " 372,\n",
       " 373,\n",
       " 374,\n",
       " 375,\n",
       " 376,\n",
       " 377,\n",
       " 378,\n",
       " 378,\n",
       " 380,\n",
       " 381,\n",
       " 382,\n",
       " 386,\n",
       " 389,\n",
       " 389,\n",
       " 392,\n",
       " 393,\n",
       " 396,\n",
       " 397,\n",
       " 398,\n",
       " 398,\n",
       " 398,\n",
       " 399,\n",
       " 402,\n",
       " 402,\n",
       " 403,\n",
       " 407,\n",
       " 408,\n",
       " 410,\n",
       " 411,\n",
       " 411,\n",
       " 414,\n",
       " 414,\n",
       " 414,\n",
       " 414,\n",
       " 415,\n",
       " 417,\n",
       " 419,\n",
       " 420,\n",
       " 423,\n",
       " 428,\n",
       " 428,\n",
       " 430,\n",
       " 431,\n",
       " 432,\n",
       " 433,\n",
       " 434,\n",
       " 437,\n",
       " 441,\n",
       " 441,\n",
       " 441,\n",
       " 441,\n",
       " 442,\n",
       " 442,\n",
       " 444,\n",
       " 444,\n",
       " 446,\n",
       " 448,\n",
       " 456,\n",
       " 459,\n",
       " 459,\n",
       " 462,\n",
       " 465,\n",
       " 465,\n",
       " 466,\n",
       " 466,\n",
       " 467,\n",
       " 467,\n",
       " 467,\n",
       " 467,\n",
       " 469,\n",
       " 469,\n",
       " 473,\n",
       " 476,\n",
       " 478,\n",
       " 480,\n",
       " 481,\n",
       " 481,\n",
       " 482,\n",
       " 486,\n",
       " 486,\n",
       " 495,\n",
       " 496,\n",
       " 501,\n",
       " 502,\n",
       " 502,\n",
       " 503,\n",
       " 505,\n",
       " 506,\n",
       " 506,\n",
       " 506,\n",
       " 506,\n",
       " 509,\n",
       " 511,\n",
       " 518,\n",
       " 527,\n",
       " 527,\n",
       " 533,\n",
       " 533,\n",
       " 534,\n",
       " 534,\n",
       " 534,\n",
       " 539,\n",
       " 541,\n",
       " 545,\n",
       " 546,\n",
       " 547,\n",
       " 552,\n",
       " 552,\n",
       " 553,\n",
       " 563,\n",
       " 565,\n",
       " 571,\n",
       " 571,\n",
       " 578,\n",
       " 578,\n",
       " 585,\n",
       " 586,\n",
       " 586,\n",
       " 591,\n",
       " 591,\n",
       " 593,\n",
       " 593,\n",
       " 593,\n",
       " 595,\n",
       " 596,\n",
       " 596,\n",
       " 600,\n",
       " 601,\n",
       " 607,\n",
       " 607,\n",
       " 607,\n",
       " 610,\n",
       " 612,\n",
       " 612,\n",
       " 612,\n",
       " 612,\n",
       " 617,\n",
       " 617,\n",
       " 619,\n",
       " 620,\n",
       " 621,\n",
       " 634,\n",
       " 635,\n",
       " 637,\n",
       " 638,\n",
       " 640,\n",
       " 643,\n",
       " 651,\n",
       " 653,\n",
       " 654,\n",
       " 660,\n",
       " 662,\n",
       " 663,\n",
       " 664,\n",
       " 664,\n",
       " 668,\n",
       " 669,\n",
       " 669,\n",
       " 670,\n",
       " 672,\n",
       " 673,\n",
       " 673,\n",
       " 675,\n",
       " 676,\n",
       " 676,\n",
       " 676,\n",
       " 678,\n",
       " 678,\n",
       " 684,\n",
       " 688,\n",
       " 690,\n",
       " 696,\n",
       " 696,\n",
       " 697,\n",
       " 700,\n",
       " 704,\n",
       " 704,\n",
       " 705,\n",
       " 708,\n",
       " 709,\n",
       " 709,\n",
       " 711,\n",
       " 712,\n",
       " 712,\n",
       " 713,\n",
       " 714,\n",
       " 714,\n",
       " 718,\n",
       " 720,\n",
       " 723,\n",
       " 727,\n",
       " 728,\n",
       " 732,\n",
       " 733,\n",
       " 733,\n",
       " 734,\n",
       " 739,\n",
       " 747,\n",
       " 756,\n",
       " 758,\n",
       " 759,\n",
       " 760,\n",
       " 764,\n",
       " 764,\n",
       " 769,\n",
       " 770,\n",
       " 780,\n",
       " 780,\n",
       " 785,\n",
       " 786,\n",
       " 788,\n",
       " 788,\n",
       " 788,\n",
       " 790,\n",
       " 791,\n",
       " 793,\n",
       " 794,\n",
       " 794,\n",
       " 801,\n",
       " 802,\n",
       " 802,\n",
       " 803,\n",
       " 804,\n",
       " 806,\n",
       " 812,\n",
       " 814,\n",
       " 818,\n",
       " 820,\n",
       " 822,\n",
       " 824,\n",
       " 825,\n",
       " 826,\n",
       " 827,\n",
       " 829,\n",
       " 829,\n",
       " 833,\n",
       " 834,\n",
       " 836,\n",
       " 840,\n",
       " 841,\n",
       " 845,\n",
       " 849,\n",
       " 849,\n",
       " 849,\n",
       " 851,\n",
       " 852,\n",
       " 854,\n",
       " 855,\n",
       " 855,\n",
       " 856,\n",
       " 857,\n",
       " 861,\n",
       " 861,\n",
       " 862,\n",
       " 864,\n",
       " 868,\n",
       " 868,\n",
       " 871,\n",
       " 872,\n",
       " 873,\n",
       " 878,\n",
       " 878,\n",
       " 879,\n",
       " 879,\n",
       " 880,\n",
       " 880,\n",
       " 886,\n",
       " 889,\n",
       " 890,\n",
       " 892,\n",
       " 895,\n",
       " 896,\n",
       " 901,\n",
       " 904,\n",
       " 908,\n",
       " 908,\n",
       " 908,\n",
       " 909,\n",
       " 911,\n",
       " 913,\n",
       " 916,\n",
       " 919,\n",
       " 920,\n",
       " 921,\n",
       " 923,\n",
       " 929,\n",
       " 934,\n",
       " 936,\n",
       " 938,\n",
       " 938,\n",
       " 941,\n",
       " 947,\n",
       " 951,\n",
       " 951,\n",
       " 953,\n",
       " 955,\n",
       " 955,\n",
       " 965,\n",
       " 966,\n",
       " 968,\n",
       " 973,\n",
       " 973,\n",
       " 974,\n",
       " 974,\n",
       " 975,\n",
       " 975,\n",
       " 978,\n",
       " 978,\n",
       " 978,\n",
       " 983,\n",
       " 984,\n",
       " 987,\n",
       " 987,\n",
       " 987,\n",
       " 988,\n",
       " 991,\n",
       " 991,\n",
       " 991,\n",
       " 992,\n",
       " 992,\n",
       " 992,\n",
       " 992,\n",
       " 992]"
      ]
     },
     "execution_count": 229,
     "metadata": {},
     "output_type": "execute_result"
    }
   ],
   "source": [
    "l"
   ]
  },
  {
   "cell_type": "code",
   "execution_count": null,
   "id": "5a345e6e-7f62-4fca-8eee-a4473d05b204",
   "metadata": {},
   "outputs": [],
   "source": []
  }
 ],
 "metadata": {
  "kernelspec": {
   "display_name": "Python [conda env:base] *",
   "language": "python",
   "name": "conda-base-py"
  },
  "language_info": {
   "codemirror_mode": {
    "name": "ipython",
    "version": 3
   },
   "file_extension": ".py",
   "mimetype": "text/x-python",
   "name": "python",
   "nbconvert_exporter": "python",
   "pygments_lexer": "ipython3",
   "version": "3.12.7"
  }
 },
 "nbformat": 4,
 "nbformat_minor": 5
}
